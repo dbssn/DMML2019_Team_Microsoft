{
  "nbformat": 4,
  "nbformat_minor": 0,
  "metadata": {
    "colab": {
      "name": "video and remarks",
      "provenance": [],
      "include_colab_link": true
    },
    "kernelspec": {
      "name": "python3",
      "display_name": "Python 3"
    }
  },
  "cells": [
    {
      "cell_type": "markdown",
      "metadata": {
        "id": "view-in-github",
        "colab_type": "text"
      },
      "source": [
        "<a href=\"https://colab.research.google.com/github/dbssn/DMML2019_Team_Microsoft/blob/master/video_and_remarks.ipynb\" target=\"_parent\"><img src=\"https://colab.research.google.com/assets/colab-badge.svg\" alt=\"Open In Colab\"/></a>"
      ]
    },
    {
      "cell_type": "markdown",
      "metadata": {
        "id": "01MYcc0S_1vi",
        "colab_type": "text"
      },
      "source": [
        "### video link\n",
        "https://drive.switch.ch/index.php/s/KpFDuSOqe0fAe8g"
      ]
    },
    {
      "cell_type": "markdown",
      "metadata": {
        "id": "aZfLx_wTlFUH",
        "colab_type": "text"
      },
      "source": [
        "### Business Understanding\n"
      ]
    },
    {
      "cell_type": "markdown",
      "metadata": {
        "id": "4pBEDF4a_1NF",
        "colab_type": "text"
      },
      "source": [
        "Hygiene in the food industry is an essential point in order to guarantee food safety. It is important for food inspections to be carried out there in order to monitor potential health risks that may exist.\n",
        "\n",
        "Data mining addresses a solution to our business model in the sense that it would allow large cities to plan which establishments to target first in order to further mitigate these risks. In addition, this project provides another opportunity for companies interested in helping establishments pass the inspection. Of course, establishments themselves could also understand what should be done to improve themselves.\n"
      ]
    },
    {
      "cell_type": "markdown",
      "metadata": {
        "id": "mZU6vyPRAUWq",
        "colab_type": "text"
      },
      "source": [
        "### Data Understanding"
      ]
    },
    {
      "cell_type": "markdown",
      "metadata": {
        "id": "iDTt6-xEAWxC",
        "colab_type": "text"
      },
      "source": [
        "Most of the dataset were found on the City of Chicago's data portal. The dataset  gives us access to information on food establishments such as their legal or public name, licence number, facility type (bakery, coffee shop, etc.), address and risk category of facility (grouped into 3 risks according to the danger that it may exist to public health). This dataset also provides us with data about the inspection such as the inspection ID, date, type (canvas, consultation, complaint, license, suspect food poisoning or task force), violations and inspection result (pass or fail).\n",
        "\n",
        "For the reason to understand the dataset easily, the format of some dataset has been modified, for example, the extraction of week day, month and year from inspection date. A column recording the length of the violation has been added following the assumption that the longer the text, the more violations there are.\n",
        "\n",
        "Finally, two dataset augmentation were made. The first is from NOAA Weather history which is a Chicago weather database to obtain the maximum daily temperature and the average maximum temperature of the last 3 days using the \"Date\" and \"maximum temperature\" columns. The second augmentation was made by using the Business Licenses dataset to obtain the approximate date of the restaurant's creation using the license number. The dataset is from January 1, 2010 to the present."
      ]
    },
    {
      "cell_type": "markdown",
      "metadata": {
        "id": "U1x2Ypn-Ad-D",
        "colab_type": "text"
      },
      "source": [
        "### Data Preparation/Pre-processing"
      ]
    },
    {
      "cell_type": "markdown",
      "metadata": {
        "id": "kwnrzkjvAmxb",
        "colab_type": "text"
      },
      "source": [
        "After augmenting all dataset together, for continuous variables, we did standardization. As for categorical variables, we did one-hot encoding. Before choosing the model, we used principal component analysis and select from model(Randomforest) to lower the dimensionality. In this way, it could be faster to try all the algorithms.\n"
      ]
    },
    {
      "cell_type": "markdown",
      "metadata": {
        "id": "yO5QNXPUAooy",
        "colab_type": "text"
      },
      "source": [
        "### Data Mining/ML Algorithms used and why"
      ]
    },
    {
      "cell_type": "markdown",
      "metadata": {
        "id": "7S3aL1caArTD",
        "colab_type": "text"
      },
      "source": [
        "First, we tried as much as algorithms we could. We evaluated the performances and chose the best 3 algorithms to do the grid search for hyper parameters. Then, we put them into voting ensemble.\n",
        "\n",
        "MLPClassifier is a kind of fully connected neural network. It uses activation=”relu” that could solve non linear problem. Due to this reason, it is able to simulate any kind of function. However, It also requires many try and error on layer sizes and layer length.\n",
        "\n",
        "Gradient Boosting is a method of converting weak predictors into strong predictors. For boosting, each new decision tree would be a fit on a different slices of the original dataset. Gradient Boosting trains many models in a gradual and additive manner. It uses gradients in the loss function to indicate how good are model’s coefficients.\n",
        "\n",
        "Xgboost is just an special version for Gradient Boosting. It adopts a more regularized model formalization to control overfitting issues. On the other hand, it focus on the computational speed of model which also makes it becomes a popular algorithm nowadays.\n",
        "\n",
        "Voting is an ensemble method that means to combine different predictors to enhance the performances. We put the 3 algorithms above after grid search and use “hard” to vote.\n"
      ]
    },
    {
      "cell_type": "markdown",
      "metadata": {
        "id": "2JTnn6kjAuuT",
        "colab_type": "text"
      },
      "source": [
        "### Evaluation/Graphs/Tables"
      ]
    },
    {
      "cell_type": "markdown",
      "metadata": {
        "id": "epcL10nEAxHi",
        "colab_type": "text"
      },
      "source": [
        "Restaurant: Whether the restaurant pass the inspection or other business evaluation such as revenue, number of customers etc due to the improvement projects based on the advice of data analysis could be evaluation methods. However, the ROI of the projects may be difficult to estimate independently from other projects such as some routine marketing or advertisements. Thus, the better way is to receive questionnaires that contain detailed questions directly connected to the inspection targets. Nevertheless, it could be costly for the restaurants to run the researches on this.\n",
        "\n",
        "Government:  It is possible for government to target the restaurants that are likely to fail so that it is effective for public health and safety. In this way, the rate of fail for inspection may be a feasible evaluation target. That is to say, the government actually could detect more problematic restaurants constrained on limited personnel.\n"
      ]
    },
    {
      "cell_type": "markdown",
      "metadata": {
        "id": "cOT-D79CA1Qj",
        "colab_type": "text"
      },
      "source": [
        "### Deployment"
      ]
    },
    {
      "cell_type": "markdown",
      "metadata": {
        "id": "_TKaS2ngA34S",
        "colab_type": "text"
      },
      "source": [
        "This analysis could be an open source reference for the restaurants and the government. Furthermore, it could also be a recommendation system for the customers to see the conditions of the restaurants. However, as long as it is an open source, we somehow have to focus on the issue of data privacy no matter from the aspects of morality or law. There are locations for the restaurants in the dataset which may cause some problems. However, the original dataset is on the city of Chicago’s website so it should be an open source held by the government. Thus, there won’t be serious data privacy issues."
      ]
    },
    {
      "cell_type": "markdown",
      "metadata": {
        "id": "H6YLZSq_A6Ea",
        "colab_type": "text"
      },
      "source": [
        "### Contributions"
      ]
    },
    {
      "cell_type": "markdown",
      "metadata": {
        "id": "TeUAOk1iA7-r",
        "colab_type": "text"
      },
      "source": [
        "Besson D. : Participation in discussion and group meetings, data collection, data cleaning, data augmentation, EDA, preprocessing, readme, video and presentation.\n",
        "\n",
        "Fleck A.: Participation in group meetings and project ideas, data testing, participation in notebook writing and presentation.\n",
        "\n",
        "Liao Y. C. :  Participation in discussion and group meetings, models creation, prediction, notebook writing and presentation.\n",
        "\n",
        "Nkoumondo L.: Discussion on the data and type of analysis, proposal of a data set for augmentation, proposal of an algorithm for data cleaning.\n"
      ]
    }
  ]
}