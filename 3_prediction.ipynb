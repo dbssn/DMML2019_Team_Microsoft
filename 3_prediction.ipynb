{
  "nbformat": 4,
  "nbformat_minor": 0,
  "metadata": {
    "colab": {
      "name": "3_prediction.ipynb",
      "provenance": [],
      "collapsed_sections": []
    },
    "kernelspec": {
      "name": "python3",
      "display_name": "Python 3"
    },
    "accelerator": "GPU"
  },
  "cells": [
    {
      "cell_type": "markdown",
      "metadata": {
        "id": "YKyfnbRCfNVu",
        "colab_type": "text"
      },
      "source": [
        "# 0. Imports"
      ]
    },
    {
      "cell_type": "code",
      "metadata": {
        "id": "FuvMiMc-rWRS",
        "colab_type": "code",
        "colab": {}
      },
      "source": [
        "# Imports\n",
        "import pandas as pd"
      ],
      "execution_count": 0,
      "outputs": []
    },
    {
      "cell_type": "code",
      "metadata": {
        "id": "sBIVoimzrsig",
        "colab_type": "code",
        "colab": {}
      },
      "source": [
        "# Load data set\n",
        "df_0 = pd.read_csv(\"https://drive.switch.ch/index.php/s/Gs1wqzxkNeCppeC/download\")"
      ],
      "execution_count": 0,
      "outputs": []
    },
    {
      "cell_type": "code",
      "metadata": {
        "id": "YJ52Nxpif071",
        "colab_type": "code",
        "colab": {
          "base_uri": "https://localhost:8080/",
          "height": 389
        },
        "outputId": "32de24c5-5620-42ec-813f-6f676cd2d966"
      },
      "source": [
        "# Copy to easily reset, without loading the data set again\n",
        "df = df_0\n",
        "df.sample(3)"
      ],
      "execution_count": 23,
      "outputs": [
        {
          "output_type": "execute_result",
          "data": {
            "text/html": [
              "<div>\n",
              "<style scoped>\n",
              "    .dataframe tbody tr th:only-of-type {\n",
              "        vertical-align: middle;\n",
              "    }\n",
              "\n",
              "    .dataframe tbody tr th {\n",
              "        vertical-align: top;\n",
              "    }\n",
              "\n",
              "    .dataframe thead th {\n",
              "        text-align: right;\n",
              "    }\n",
              "</style>\n",
              "<table border=\"1\" class=\"dataframe\">\n",
              "  <thead>\n",
              "    <tr style=\"text-align: right;\">\n",
              "      <th></th>\n",
              "      <th>Inspection ID</th>\n",
              "      <th>DBA Name</th>\n",
              "      <th>License #</th>\n",
              "      <th>Facility Type</th>\n",
              "      <th>Risk</th>\n",
              "      <th>Address</th>\n",
              "      <th>Zip</th>\n",
              "      <th>Inspection Date</th>\n",
              "      <th>Inspection Type</th>\n",
              "      <th>Results</th>\n",
              "      <th>Violations</th>\n",
              "      <th>Latitude</th>\n",
              "      <th>Longitude</th>\n",
              "      <th>Year</th>\n",
              "      <th>Month</th>\n",
              "      <th>Weekday</th>\n",
              "      <th>LenViol</th>\n",
              "      <th>TMAX</th>\n",
              "      <th>MeanMaxTemp3Days</th>\n",
              "      <th>ApproxCreationDate</th>\n",
              "      <th>DaysInBusiness</th>\n",
              "    </tr>\n",
              "  </thead>\n",
              "  <tbody>\n",
              "    <tr>\n",
              "      <th>101667</th>\n",
              "      <td>1106687</td>\n",
              "      <td>CLARK ST. MARKET, INC.</td>\n",
              "      <td>2177457</td>\n",
              "      <td>grocery store</td>\n",
              "      <td>Risk 1 (High)</td>\n",
              "      <td>7007 N CLARK ST</td>\n",
              "      <td>60626</td>\n",
              "      <td>2013-07-18</td>\n",
              "      <td>canvass</td>\n",
              "      <td>Fail</td>\n",
              "      <td>3. POTENTIALLY HAZARDOUS FOOD MEETS TEMPERATUR...</td>\n",
              "      <td>42.009253</td>\n",
              "      <td>-87.673874</td>\n",
              "      <td>2013</td>\n",
              "      <td>7</td>\n",
              "      <td>3</td>\n",
              "      <td>2329</td>\n",
              "      <td>35.6</td>\n",
              "      <td>33.900000</td>\n",
              "      <td>2012-07-23</td>\n",
              "      <td>360.0</td>\n",
              "    </tr>\n",
              "    <tr>\n",
              "      <th>13971</th>\n",
              "      <td>2088565</td>\n",
              "      <td>CARNICERIA AGUASCALIENTES</td>\n",
              "      <td>8475</td>\n",
              "      <td>grocery store</td>\n",
              "      <td>Risk 1 (High)</td>\n",
              "      <td>3132 W 26TH ST</td>\n",
              "      <td>60623</td>\n",
              "      <td>2017-09-21</td>\n",
              "      <td>complaint</td>\n",
              "      <td>Pass</td>\n",
              "      <td>32. FOOD AND NON-FOOD CONTACT SURFACES PROPERL...</td>\n",
              "      <td>41.844640</td>\n",
              "      <td>-87.703875</td>\n",
              "      <td>2017</td>\n",
              "      <td>9</td>\n",
              "      <td>3</td>\n",
              "      <td>1347</td>\n",
              "      <td>35.0</td>\n",
              "      <td>27.766667</td>\n",
              "      <td>2002-05-14</td>\n",
              "      <td>5609.0</td>\n",
              "    </tr>\n",
              "    <tr>\n",
              "      <th>2732</th>\n",
              "      <td>1633188</td>\n",
              "      <td>AUGUSTA PIZZA &amp; GRILL</td>\n",
              "      <td>2017992</td>\n",
              "      <td>restaurant</td>\n",
              "      <td>Risk 1 (High)</td>\n",
              "      <td>4400 W AUGUSTA BLVD</td>\n",
              "      <td>60651</td>\n",
              "      <td>2016-03-15</td>\n",
              "      <td>canvass re-inspection</td>\n",
              "      <td>Pass</td>\n",
              "      <td>33. FOOD AND NON-FOOD CONTACT EQUIPMENT UTENSI...</td>\n",
              "      <td>41.898958</td>\n",
              "      <td>-87.736167</td>\n",
              "      <td>2016</td>\n",
              "      <td>3</td>\n",
              "      <td>1</td>\n",
              "      <td>1060</td>\n",
              "      <td>17.8</td>\n",
              "      <td>12.600000</td>\n",
              "      <td>2010-02-10</td>\n",
              "      <td>2225.0</td>\n",
              "    </tr>\n",
              "  </tbody>\n",
              "</table>\n",
              "</div>"
            ],
            "text/plain": [
              "        Inspection ID  ... DaysInBusiness\n",
              "101667        1106687  ...          360.0\n",
              "13971         2088565  ...         5609.0\n",
              "2732          1633188  ...         2225.0\n",
              "\n",
              "[3 rows x 21 columns]"
            ]
          },
          "metadata": {
            "tags": []
          },
          "execution_count": 23
        }
      ]
    },
    {
      "cell_type": "code",
      "metadata": {
        "id": "ujfkyKD0gtd-",
        "colab_type": "code",
        "colab": {
          "base_uri": "https://localhost:8080/",
          "height": 35
        },
        "outputId": "974bbdf7-e682-4968-af15-9ecb174d57b1"
      },
      "source": [
        "df.shape"
      ],
      "execution_count": 24,
      "outputs": [
        {
          "output_type": "execute_result",
          "data": {
            "text/plain": [
              "(122595, 21)"
            ]
          },
          "metadata": {
            "tags": []
          },
          "execution_count": 24
        }
      ]
    },
    {
      "cell_type": "markdown",
      "metadata": {
        "id": "eSXKGFAagBOv",
        "colab_type": "text"
      },
      "source": [
        "# 1. Preprocessing"
      ]
    },
    {
      "cell_type": "markdown",
      "metadata": {
        "id": "eFoUmc4HgFjg",
        "colab_type": "text"
      },
      "source": [
        "Some features, such as \"Inspection ID\", \"DBA Name\", are not too useful when it comes to predicting the outcome of the inspection. Therefore, those columns are dropped."
      ]
    },
    {
      "cell_type": "code",
      "metadata": {
        "id": "scoitdIagFWN",
        "colab_type": "code",
        "colab": {
          "base_uri": "https://localhost:8080/",
          "height": 143
        },
        "outputId": "b1d0e103-fb98-474e-831c-88ccc4c01ea1"
      },
      "source": [
        "# Drop columns that are not useful\n",
        "df = df.drop([\"Inspection ID\", \"DBA Name\", \"License #\", \"Address\", \"Zip\", \"Inspection Date\", \"Violations\", \"ApproxCreationDate\"], axis = 1)\n",
        "df.sample(3)"
      ],
      "execution_count": 25,
      "outputs": [
        {
          "output_type": "execute_result",
          "data": {
            "text/html": [
              "<div>\n",
              "<style scoped>\n",
              "    .dataframe tbody tr th:only-of-type {\n",
              "        vertical-align: middle;\n",
              "    }\n",
              "\n",
              "    .dataframe tbody tr th {\n",
              "        vertical-align: top;\n",
              "    }\n",
              "\n",
              "    .dataframe thead th {\n",
              "        text-align: right;\n",
              "    }\n",
              "</style>\n",
              "<table border=\"1\" class=\"dataframe\">\n",
              "  <thead>\n",
              "    <tr style=\"text-align: right;\">\n",
              "      <th></th>\n",
              "      <th>Facility Type</th>\n",
              "      <th>Risk</th>\n",
              "      <th>Inspection Type</th>\n",
              "      <th>Results</th>\n",
              "      <th>Latitude</th>\n",
              "      <th>Longitude</th>\n",
              "      <th>Year</th>\n",
              "      <th>Month</th>\n",
              "      <th>Weekday</th>\n",
              "      <th>LenViol</th>\n",
              "      <th>TMAX</th>\n",
              "      <th>MeanMaxTemp3Days</th>\n",
              "      <th>DaysInBusiness</th>\n",
              "    </tr>\n",
              "  </thead>\n",
              "  <tbody>\n",
              "    <tr>\n",
              "      <th>4196</th>\n",
              "      <td>restaurant</td>\n",
              "      <td>Risk 1 (High)</td>\n",
              "      <td>canvass</td>\n",
              "      <td>Fail</td>\n",
              "      <td>41.878110</td>\n",
              "      <td>-87.627535</td>\n",
              "      <td>2012</td>\n",
              "      <td>8</td>\n",
              "      <td>2</td>\n",
              "      <td>1264</td>\n",
              "      <td>30.0</td>\n",
              "      <td>25.0</td>\n",
              "      <td>3891.0</td>\n",
              "    </tr>\n",
              "    <tr>\n",
              "      <th>48874</th>\n",
              "      <td>restaurant</td>\n",
              "      <td>Risk 1 (High)</td>\n",
              "      <td>canvass</td>\n",
              "      <td>Pass</td>\n",
              "      <td>41.881977</td>\n",
              "      <td>-87.638876</td>\n",
              "      <td>2016</td>\n",
              "      <td>3</td>\n",
              "      <td>0</td>\n",
              "      <td>602</td>\n",
              "      <td>10.0</td>\n",
              "      <td>8.5</td>\n",
              "      <td>3952.0</td>\n",
              "    </tr>\n",
              "    <tr>\n",
              "      <th>12413</th>\n",
              "      <td>grocery store</td>\n",
              "      <td>Risk 1 (High)</td>\n",
              "      <td>short form complaint</td>\n",
              "      <td>Fail</td>\n",
              "      <td>41.982190</td>\n",
              "      <td>-87.668652</td>\n",
              "      <td>2014</td>\n",
              "      <td>11</td>\n",
              "      <td>4</td>\n",
              "      <td>1611</td>\n",
              "      <td>-1.6</td>\n",
              "      <td>5.4</td>\n",
              "      <td>4615.0</td>\n",
              "    </tr>\n",
              "  </tbody>\n",
              "</table>\n",
              "</div>"
            ],
            "text/plain": [
              "       Facility Type           Risk  ... MeanMaxTemp3Days DaysInBusiness\n",
              "4196      restaurant  Risk 1 (High)  ...             25.0         3891.0\n",
              "48874     restaurant  Risk 1 (High)  ...              8.5         3952.0\n",
              "12413  grocery store  Risk 1 (High)  ...              5.4         4615.0\n",
              "\n",
              "[3 rows x 13 columns]"
            ]
          },
          "metadata": {
            "tags": []
          },
          "execution_count": 25
        }
      ]
    },
    {
      "cell_type": "markdown",
      "metadata": {
        "id": "ILBPSp6WhzH1",
        "colab_type": "text"
      },
      "source": [
        "### 1.1 Standardization"
      ]
    },
    {
      "cell_type": "markdown",
      "metadata": {
        "id": "jJwKawhQhz5g",
        "colab_type": "text"
      },
      "source": [
        "The first step is to normalise the numerical features :\n",
        "\n",
        "*   Latitude\n",
        "*   Longitude\n",
        "*   Year\n",
        "*   LenViol\n",
        "*   TMAX\n",
        "*   MeanMaxTemp3Days\n",
        "*   DaysInBusiness\n",
        "\n",
        "Note : Month and Weekday are already encoded from categorical data.\n"
      ]
    },
    {
      "cell_type": "code",
      "metadata": {
        "id": "pcAjZiLWkVOq",
        "colab_type": "code",
        "colab": {
          "base_uri": "https://localhost:8080/",
          "height": 81
        },
        "outputId": "3481e743-47e5-4e35-d279-db3ec3fbd9cf"
      },
      "source": [
        "# Work on copy of df\n",
        "df_prep = df[[\"Latitude\", \"Longitude\", \"Year\", \"LenViol\", \"TMAX\", \"MeanMaxTemp3Days\", \"DaysInBusiness\", \"Facility Type\", \"Risk\", \"Inspection Type\", \"Month\", \"Weekday\", \"Results\"]]\n",
        "df_prep.sample(1)"
      ],
      "execution_count": 36,
      "outputs": [
        {
          "output_type": "execute_result",
          "data": {
            "text/html": [
              "<div>\n",
              "<style scoped>\n",
              "    .dataframe tbody tr th:only-of-type {\n",
              "        vertical-align: middle;\n",
              "    }\n",
              "\n",
              "    .dataframe tbody tr th {\n",
              "        vertical-align: top;\n",
              "    }\n",
              "\n",
              "    .dataframe thead th {\n",
              "        text-align: right;\n",
              "    }\n",
              "</style>\n",
              "<table border=\"1\" class=\"dataframe\">\n",
              "  <thead>\n",
              "    <tr style=\"text-align: right;\">\n",
              "      <th></th>\n",
              "      <th>Latitude</th>\n",
              "      <th>Longitude</th>\n",
              "      <th>Year</th>\n",
              "      <th>LenViol</th>\n",
              "      <th>TMAX</th>\n",
              "      <th>MeanMaxTemp3Days</th>\n",
              "      <th>DaysInBusiness</th>\n",
              "      <th>Facility Type</th>\n",
              "      <th>Risk</th>\n",
              "      <th>Inspection Type</th>\n",
              "      <th>Month</th>\n",
              "      <th>Weekday</th>\n",
              "      <th>Results</th>\n",
              "    </tr>\n",
              "  </thead>\n",
              "  <tbody>\n",
              "    <tr>\n",
              "      <th>19168</th>\n",
              "      <td>41.911085</td>\n",
              "      <td>-87.630632</td>\n",
              "      <td>2017</td>\n",
              "      <td>1046</td>\n",
              "      <td>16.7</td>\n",
              "      <td>17.433333</td>\n",
              "      <td>309.0</td>\n",
              "      <td>restaurant</td>\n",
              "      <td>Risk 1 (High)</td>\n",
              "      <td>canvass</td>\n",
              "      <td>4</td>\n",
              "      <td>3</td>\n",
              "      <td>Pass</td>\n",
              "    </tr>\n",
              "  </tbody>\n",
              "</table>\n",
              "</div>"
            ],
            "text/plain": [
              "        Latitude  Longitude  Year  ...  Month  Weekday  Results\n",
              "19168  41.911085 -87.630632  2017  ...      4        3     Pass\n",
              "\n",
              "[1 rows x 13 columns]"
            ]
          },
          "metadata": {
            "tags": []
          },
          "execution_count": 36
        }
      ]
    },
    {
      "cell_type": "code",
      "metadata": {
        "id": "jbYwd1KgihN3",
        "colab_type": "code",
        "colab": {
          "base_uri": "https://localhost:8080/",
          "height": 81
        },
        "outputId": "44e7ee3a-e296-4765-fdba-ee2cb859dbd8"
      },
      "source": [
        "# Standardization\n",
        "from sklearn.preprocessing import StandardScaler\n",
        "standardize = StandardScaler()\n",
        "standardize.fit(df_prep.iloc[:, :7])\n",
        "df_prep.iloc[:, :7] = standardize.transform(df_prep.iloc[:, :7])\n",
        "df_prep.sample(1)"
      ],
      "execution_count": 38,
      "outputs": [
        {
          "output_type": "execute_result",
          "data": {
            "text/html": [
              "<div>\n",
              "<style scoped>\n",
              "    .dataframe tbody tr th:only-of-type {\n",
              "        vertical-align: middle;\n",
              "    }\n",
              "\n",
              "    .dataframe tbody tr th {\n",
              "        vertical-align: top;\n",
              "    }\n",
              "\n",
              "    .dataframe thead th {\n",
              "        text-align: right;\n",
              "    }\n",
              "</style>\n",
              "<table border=\"1\" class=\"dataframe\">\n",
              "  <thead>\n",
              "    <tr style=\"text-align: right;\">\n",
              "      <th></th>\n",
              "      <th>Latitude</th>\n",
              "      <th>Longitude</th>\n",
              "      <th>Year</th>\n",
              "      <th>LenViol</th>\n",
              "      <th>TMAX</th>\n",
              "      <th>MeanMaxTemp3Days</th>\n",
              "      <th>DaysInBusiness</th>\n",
              "      <th>Facility Type</th>\n",
              "      <th>Risk</th>\n",
              "      <th>Inspection Type</th>\n",
              "      <th>Month</th>\n",
              "      <th>Weekday</th>\n",
              "      <th>Results</th>\n",
              "    </tr>\n",
              "  </thead>\n",
              "  <tbody>\n",
              "    <tr>\n",
              "      <th>6398</th>\n",
              "      <td>-0.412274</td>\n",
              "      <td>-0.808051</td>\n",
              "      <td>-1.568362</td>\n",
              "      <td>-1.005143</td>\n",
              "      <td>-0.265436</td>\n",
              "      <td>0.086754</td>\n",
              "      <td>-0.81433</td>\n",
              "      <td>restaurant</td>\n",
              "      <td>Risk 1 (High)</td>\n",
              "      <td>complaint re-inspection</td>\n",
              "      <td>10</td>\n",
              "      <td>3</td>\n",
              "      <td>Pass</td>\n",
              "    </tr>\n",
              "  </tbody>\n",
              "</table>\n",
              "</div>"
            ],
            "text/plain": [
              "      Latitude  Longitude      Year  ...  Month  Weekday  Results\n",
              "6398 -0.412274  -0.808051 -1.568362  ...     10        3     Pass\n",
              "\n",
              "[1 rows x 13 columns]"
            ]
          },
          "metadata": {
            "tags": []
          },
          "execution_count": 38
        }
      ]
    },
    {
      "cell_type": "markdown",
      "metadata": {
        "id": "0VnOrGpOqEgT",
        "colab_type": "text"
      },
      "source": [
        "### 1.2 Encoding"
      ]
    },
    {
      "cell_type": "markdown",
      "metadata": {
        "id": "FGWcyPsEqJjz",
        "colab_type": "text"
      },
      "source": [
        "The following features need to be encoded :\n",
        "\n",
        "*   Facility Type\n",
        "*   Risk\n",
        "*   Inspection Type"
      ]
    },
    {
      "cell_type": "code",
      "metadata": {
        "id": "hucrFAgFp5rT",
        "colab_type": "code",
        "colab": {}
      },
      "source": [
        "# Encoding\n",
        "from sklearn.preprocessing import LabelEncoder, OneHotEncoder\n",
        "\n",
        "#One hot encoding\n",
        "one_hot = OneHotEncoder(categories=\"auto\")\n",
        "cat_to_onehot = one_hot.fit_transform(df_prep[[\"Facility Type\", \"Risk\", \"Inspection Type\"]]).toarray()\n",
        "cat_to_onehot = pd.DataFrame(cat_to_onehot)\n",
        "\n",
        "# Generate X\n",
        "feature_names = [\"Latitude\", \"Longitude\", \"Year\", \"LenViol\", \"TMAX\", \"MeanMaxTemp3Days\", \"DaysInBusiness\"]\n",
        "X = df_prep[feature_names]\n",
        "X = pd.concat((X, cat_to_onehot), axis=1)\n",
        "\n",
        "# Generate y\n",
        "lab_encoder = LabelEncoder()\n",
        "cat_to_label = lab_encoder.fit_transform(df_prep[\"Results\"])\n",
        "Y = pd.DataFrame(cat_to_label)"
      ],
      "execution_count": 0,
      "outputs": []
    },
    {
      "cell_type": "code",
      "metadata": {
        "id": "FgBBrNE9sGt9",
        "colab_type": "code",
        "colab": {
          "base_uri": "https://localhost:8080/",
          "height": 101
        },
        "outputId": "78c21649-8bca-4489-cd25-a1c2a50aac51"
      },
      "source": [
        "X.sample(1)"
      ],
      "execution_count": 46,
      "outputs": [
        {
          "output_type": "execute_result",
          "data": {
            "text/html": [
              "<div>\n",
              "<style scoped>\n",
              "    .dataframe tbody tr th:only-of-type {\n",
              "        vertical-align: middle;\n",
              "    }\n",
              "\n",
              "    .dataframe tbody tr th {\n",
              "        vertical-align: top;\n",
              "    }\n",
              "\n",
              "    .dataframe thead th {\n",
              "        text-align: right;\n",
              "    }\n",
              "</style>\n",
              "<table border=\"1\" class=\"dataframe\">\n",
              "  <thead>\n",
              "    <tr style=\"text-align: right;\">\n",
              "      <th></th>\n",
              "      <th>Latitude</th>\n",
              "      <th>Longitude</th>\n",
              "      <th>Year</th>\n",
              "      <th>LenViol</th>\n",
              "      <th>TMAX</th>\n",
              "      <th>MeanMaxTemp3Days</th>\n",
              "      <th>DaysInBusiness</th>\n",
              "      <th>0</th>\n",
              "      <th>1</th>\n",
              "      <th>2</th>\n",
              "      <th>3</th>\n",
              "      <th>4</th>\n",
              "      <th>5</th>\n",
              "      <th>6</th>\n",
              "      <th>7</th>\n",
              "      <th>8</th>\n",
              "      <th>9</th>\n",
              "      <th>10</th>\n",
              "      <th>11</th>\n",
              "      <th>12</th>\n",
              "      <th>13</th>\n",
              "      <th>14</th>\n",
              "      <th>15</th>\n",
              "      <th>16</th>\n",
              "      <th>17</th>\n",
              "      <th>18</th>\n",
              "      <th>19</th>\n",
              "      <th>20</th>\n",
              "      <th>21</th>\n",
              "      <th>22</th>\n",
              "      <th>23</th>\n",
              "      <th>24</th>\n",
              "      <th>25</th>\n",
              "      <th>26</th>\n",
              "      <th>27</th>\n",
              "      <th>28</th>\n",
              "      <th>29</th>\n",
              "      <th>30</th>\n",
              "      <th>31</th>\n",
              "      <th>32</th>\n",
              "      <th>33</th>\n",
              "      <th>34</th>\n",
              "      <th>35</th>\n",
              "      <th>36</th>\n",
              "      <th>37</th>\n",
              "      <th>38</th>\n",
              "      <th>39</th>\n",
              "    </tr>\n",
              "  </thead>\n",
              "  <tbody>\n",
              "    <tr>\n",
              "      <th>17949</th>\n",
              "      <td>-1.032018</td>\n",
              "      <td>-1.197285</td>\n",
              "      <td>1.708636</td>\n",
              "      <td>-1.005143</td>\n",
              "      <td>-1.076437</td>\n",
              "      <td>-1.088547</td>\n",
              "      <td>-1.191479</td>\n",
              "      <td>0.0</td>\n",
              "      <td>0.0</td>\n",
              "      <td>0.0</td>\n",
              "      <td>0.0</td>\n",
              "      <td>0.0</td>\n",
              "      <td>0.0</td>\n",
              "      <td>0.0</td>\n",
              "      <td>0.0</td>\n",
              "      <td>0.0</td>\n",
              "      <td>0.0</td>\n",
              "      <td>0.0</td>\n",
              "      <td>0.0</td>\n",
              "      <td>0.0</td>\n",
              "      <td>0.0</td>\n",
              "      <td>0.0</td>\n",
              "      <td>1.0</td>\n",
              "      <td>0.0</td>\n",
              "      <td>0.0</td>\n",
              "      <td>0.0</td>\n",
              "      <td>0.0</td>\n",
              "      <td>0.0</td>\n",
              "      <td>0.0</td>\n",
              "      <td>1.0</td>\n",
              "      <td>0.0</td>\n",
              "      <td>0.0</td>\n",
              "      <td>0.0</td>\n",
              "      <td>0.0</td>\n",
              "      <td>0.0</td>\n",
              "      <td>0.0</td>\n",
              "      <td>0.0</td>\n",
              "      <td>1.0</td>\n",
              "      <td>0.0</td>\n",
              "      <td>0.0</td>\n",
              "      <td>0.0</td>\n",
              "      <td>0.0</td>\n",
              "      <td>0.0</td>\n",
              "      <td>0.0</td>\n",
              "      <td>0.0</td>\n",
              "      <td>0.0</td>\n",
              "      <td>0.0</td>\n",
              "    </tr>\n",
              "  </tbody>\n",
              "</table>\n",
              "</div>"
            ],
            "text/plain": [
              "       Latitude  Longitude      Year   LenViol  ...   36   37   38   39\n",
              "17949 -1.032018  -1.197285  1.708636 -1.005143  ...  0.0  0.0  0.0  0.0\n",
              "\n",
              "[1 rows x 47 columns]"
            ]
          },
          "metadata": {
            "tags": []
          },
          "execution_count": 46
        }
      ]
    },
    {
      "cell_type": "code",
      "metadata": {
        "id": "WGX3nUWwsLOo",
        "colab_type": "code",
        "colab": {
          "base_uri": "https://localhost:8080/",
          "height": 206
        },
        "outputId": "1c0a8cd8-88bc-428e-855a-92353c245823"
      },
      "source": [
        "Y.sample(5)"
      ],
      "execution_count": 48,
      "outputs": [
        {
          "output_type": "execute_result",
          "data": {
            "text/html": [
              "<div>\n",
              "<style scoped>\n",
              "    .dataframe tbody tr th:only-of-type {\n",
              "        vertical-align: middle;\n",
              "    }\n",
              "\n",
              "    .dataframe tbody tr th {\n",
              "        vertical-align: top;\n",
              "    }\n",
              "\n",
              "    .dataframe thead th {\n",
              "        text-align: right;\n",
              "    }\n",
              "</style>\n",
              "<table border=\"1\" class=\"dataframe\">\n",
              "  <thead>\n",
              "    <tr style=\"text-align: right;\">\n",
              "      <th></th>\n",
              "      <th>0</th>\n",
              "    </tr>\n",
              "  </thead>\n",
              "  <tbody>\n",
              "    <tr>\n",
              "      <th>60559</th>\n",
              "      <td>0</td>\n",
              "    </tr>\n",
              "    <tr>\n",
              "      <th>17834</th>\n",
              "      <td>0</td>\n",
              "    </tr>\n",
              "    <tr>\n",
              "      <th>91461</th>\n",
              "      <td>1</td>\n",
              "    </tr>\n",
              "    <tr>\n",
              "      <th>41164</th>\n",
              "      <td>1</td>\n",
              "    </tr>\n",
              "    <tr>\n",
              "      <th>11978</th>\n",
              "      <td>1</td>\n",
              "    </tr>\n",
              "  </tbody>\n",
              "</table>\n",
              "</div>"
            ],
            "text/plain": [
              "       0\n",
              "60559  0\n",
              "17834  0\n",
              "91461  1\n",
              "41164  1\n",
              "11978  1"
            ]
          },
          "metadata": {
            "tags": []
          },
          "execution_count": 48
        }
      ]
    },
    {
      "cell_type": "markdown",
      "metadata": {
        "id": "x-lav9cusWEM",
        "colab_type": "text"
      },
      "source": [
        "### 1.3 Splitting the data set"
      ]
    },
    {
      "cell_type": "code",
      "metadata": {
        "id": "9_DY5K9MsOk8",
        "colab_type": "code",
        "colab": {}
      },
      "source": [
        "# Split train/test sets\n",
        "from sklearn.model_selection import train_test_split\n",
        "X_train, X_test, Y_train, Y_test = train_test_split(X, Y, test_size=0.2, random_state=72)"
      ],
      "execution_count": 0,
      "outputs": []
    },
    {
      "cell_type": "markdown",
      "metadata": {
        "id": "aHgYac-1t-Ik",
        "colab_type": "text"
      },
      "source": [
        "# 2. Prediction"
      ]
    },
    {
      "cell_type": "markdown",
      "metadata": {
        "id": "VhYhoTXOuSQL",
        "colab_type": "text"
      },
      "source": [
        "### 2.1 Base rate"
      ]
    },
    {
      "cell_type": "code",
      "metadata": {
        "id": "leWDl33wtXNa",
        "colab_type": "code",
        "colab": {
          "base_uri": "https://localhost:8080/",
          "height": 35
        },
        "outputId": "d4739a4b-ab50-4b4d-c995-e3ca83b59a73"
      },
      "source": [
        "# The base rest is defined as : size(most frequent class)/size(dataset)\n",
        "failCount = df[df[\"Results\"] == \"Fail\"].shape[0]\n",
        "passCount = df[df[\"Results\"] == \"Pass\"].shape[0]\n",
        "\n",
        "if passCount > failCount :\n",
        "  print(\"The most frequent class is \" + \"'Pass' (\" + str(passCount) + \") VS 'Fail' (\" + str(failCount)+ \").\")\n",
        "else :\n",
        "   print(\"The most frequent class is \" + \"'Fail' (\" + str(failCount) + \") VS 'Pass' (\" + str(passCount)+ \").\")"
      ],
      "execution_count": 56,
      "outputs": [
        {
          "output_type": "stream",
          "text": [
            "The most frequent class is 'Pass' (92447) VS 'Fail' (30148).\n"
          ],
          "name": "stdout"
        }
      ]
    },
    {
      "cell_type": "code",
      "metadata": {
        "id": "LNFuDhxYtGeV",
        "colab_type": "code",
        "colab": {
          "base_uri": "https://localhost:8080/",
          "height": 35
        },
        "outputId": "2e3bf3a1-acb5-4bda-95d1-9263c128ce3d"
      },
      "source": [
        "# Base rate\n",
        "br = max(passCount, failCount)/(passCount + failCount)\n",
        "\n",
        "print(\"The base rate is : \" + str(br))"
      ],
      "execution_count": 57,
      "outputs": [
        {
          "output_type": "stream",
          "text": [
            "The base rate is : 0.754084587462784\n"
          ],
          "name": "stdout"
        }
      ]
    },
    {
      "cell_type": "markdown",
      "metadata": {
        "id": "ZrmO4gI2uDlr",
        "colab_type": "text"
      },
      "source": [
        "### 2.2 Logistic Regression"
      ]
    },
    {
      "cell_type": "code",
      "metadata": {
        "id": "Nebkb_eAsmI8",
        "colab_type": "code",
        "colab": {
          "base_uri": "https://localhost:8080/",
          "height": 166
        },
        "outputId": "31bcbb34-2edb-4406-f449-e5b7e75dbe68"
      },
      "source": [
        "from sklearn.linear_model import LogisticRegressionCV\n",
        "\n",
        "# Logistic regression with cross-validation\n",
        "LR = LogisticRegressionCV(solver='lbfgs', cv=5, max_iter=1000)\n",
        "LR.fit(X_train, Y_train)"
      ],
      "execution_count": 51,
      "outputs": [
        {
          "output_type": "stream",
          "text": [
            "/usr/local/lib/python3.6/dist-packages/sklearn/utils/validation.py:724: DataConversionWarning: A column-vector y was passed when a 1d array was expected. Please change the shape of y to (n_samples, ), for example using ravel().\n",
            "  y = column_or_1d(y, warn=True)\n"
          ],
          "name": "stderr"
        },
        {
          "output_type": "execute_result",
          "data": {
            "text/plain": [
              "LogisticRegressionCV(Cs=10, class_weight=None, cv=5, dual=False,\n",
              "                     fit_intercept=True, intercept_scaling=1.0, l1_ratios=None,\n",
              "                     max_iter=1000, multi_class='warn', n_jobs=None,\n",
              "                     penalty='l2', random_state=None, refit=True, scoring=None,\n",
              "                     solver='lbfgs', tol=0.0001, verbose=0)"
            ]
          },
          "metadata": {
            "tags": []
          },
          "execution_count": 51
        }
      ]
    },
    {
      "cell_type": "code",
      "metadata": {
        "id": "6Z3AaYchszju",
        "colab_type": "code",
        "colab": {
          "base_uri": "https://localhost:8080/",
          "height": 35
        },
        "outputId": "3edadf50-d1fd-4570-e905-907c04af98d2"
      },
      "source": [
        "# Train accuracy\n",
        "LR.score(X_train,Y_train)"
      ],
      "execution_count": 53,
      "outputs": [
        {
          "output_type": "execute_result",
          "data": {
            "text/plain": [
              "0.8455483502589828"
            ]
          },
          "metadata": {
            "tags": []
          },
          "execution_count": 53
        }
      ]
    },
    {
      "cell_type": "code",
      "metadata": {
        "id": "dgAH245ws6aX",
        "colab_type": "code",
        "colab": {
          "base_uri": "https://localhost:8080/",
          "height": 35
        },
        "outputId": "959930cd-24f6-44d7-be19-8df1a23409ed"
      },
      "source": [
        "# Test accuracy\n",
        "LR.score(X_test, Y_test)"
      ],
      "execution_count": 54,
      "outputs": [
        {
          "output_type": "execute_result",
          "data": {
            "text/plain": [
              "0.8411028182226029"
            ]
          },
          "metadata": {
            "tags": []
          },
          "execution_count": 54
        }
      ]
    }
  ]
}