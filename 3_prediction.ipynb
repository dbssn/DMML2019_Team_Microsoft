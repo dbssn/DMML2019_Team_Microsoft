{
  "nbformat": 4,
  "nbformat_minor": 0,
  "metadata": {
    "colab": {
      "name": "3_prediction.ipynb",
      "provenance": [],
      "collapsed_sections": []
    },
    "kernelspec": {
      "name": "python3",
      "display_name": "Python 3"
    },
    "accelerator": "GPU"
  },
  "cells": [
    {
      "cell_type": "markdown",
      "metadata": {
        "id": "YKyfnbRCfNVu",
        "colab_type": "text"
      },
      "source": [
        "# 0. Imports"
      ]
    },
    {
      "cell_type": "code",
      "metadata": {
        "id": "FuvMiMc-rWRS",
        "colab_type": "code",
        "colab": {}
      },
      "source": [
        "# Imports\n",
        "import pandas as pd"
      ],
      "execution_count": 0,
      "outputs": []
    },
    {
      "cell_type": "code",
      "metadata": {
        "id": "sBIVoimzrsig",
        "colab_type": "code",
        "colab": {}
      },
      "source": [
        "# Load data set\n",
        "df_0 = pd.read_csv(\"https://drive.switch.ch/index.php/s/Gs1wqzxkNeCppeC/download\")"
      ],
      "execution_count": 0,
      "outputs": []
    },
    {
      "cell_type": "code",
      "metadata": {
        "id": "YJ52Nxpif071",
        "colab_type": "code",
        "outputId": "0cbe919f-662d-4356-f5c3-c88f4cb97688",
        "colab": {
          "base_uri": "https://localhost:8080/",
          "height": 441
        }
      },
      "source": [
        "# Copy to easily reset, without loading the data set again\n",
        "df = df_0\n",
        "df.sample(3)"
      ],
      "execution_count": 3,
      "outputs": [
        {
          "output_type": "execute_result",
          "data": {
            "text/html": [
              "<div>\n",
              "<style scoped>\n",
              "    .dataframe tbody tr th:only-of-type {\n",
              "        vertical-align: middle;\n",
              "    }\n",
              "\n",
              "    .dataframe tbody tr th {\n",
              "        vertical-align: top;\n",
              "    }\n",
              "\n",
              "    .dataframe thead th {\n",
              "        text-align: right;\n",
              "    }\n",
              "</style>\n",
              "<table border=\"1\" class=\"dataframe\">\n",
              "  <thead>\n",
              "    <tr style=\"text-align: right;\">\n",
              "      <th></th>\n",
              "      <th>Inspection ID</th>\n",
              "      <th>DBA Name</th>\n",
              "      <th>License #</th>\n",
              "      <th>Facility Type</th>\n",
              "      <th>Risk</th>\n",
              "      <th>Address</th>\n",
              "      <th>Zip</th>\n",
              "      <th>Inspection Date</th>\n",
              "      <th>Inspection Type</th>\n",
              "      <th>Results</th>\n",
              "      <th>Violations</th>\n",
              "      <th>Latitude</th>\n",
              "      <th>Longitude</th>\n",
              "      <th>Year</th>\n",
              "      <th>Month</th>\n",
              "      <th>Weekday</th>\n",
              "      <th>LenViol</th>\n",
              "      <th>TMAX</th>\n",
              "      <th>MeanMaxTemp3Days</th>\n",
              "      <th>ApproxCreationDate</th>\n",
              "      <th>DaysInBusiness</th>\n",
              "    </tr>\n",
              "  </thead>\n",
              "  <tbody>\n",
              "    <tr>\n",
              "      <th>100768</th>\n",
              "      <td>1402071</td>\n",
              "      <td>AMIGO FOOD MART</td>\n",
              "      <td>1169708</td>\n",
              "      <td>grocery store</td>\n",
              "      <td>Risk 3 (Low)</td>\n",
              "      <td>1859 N KIMBALL AVE</td>\n",
              "      <td>60647</td>\n",
              "      <td>2014-03-18</td>\n",
              "      <td>canvass re-inspection</td>\n",
              "      <td>Pass</td>\n",
              "      <td>32. FOOD AND NON-FOOD CONTACT SURFACES PROPERL...</td>\n",
              "      <td>41.915437</td>\n",
              "      <td>-87.711709</td>\n",
              "      <td>2014</td>\n",
              "      <td>3</td>\n",
              "      <td>1</td>\n",
              "      <td>1601</td>\n",
              "      <td>10.6</td>\n",
              "      <td>2.233333</td>\n",
              "      <td>2001-08-22</td>\n",
              "      <td>4591.0</td>\n",
              "    </tr>\n",
              "    <tr>\n",
              "      <th>97146</th>\n",
              "      <td>660145</td>\n",
              "      <td>LA CEMITA</td>\n",
              "      <td>1874882</td>\n",
              "      <td>restaurant</td>\n",
              "      <td>Risk 1 (High)</td>\n",
              "      <td>3619 W NORTH AVE</td>\n",
              "      <td>60647</td>\n",
              "      <td>2012-01-24</td>\n",
              "      <td>canvass</td>\n",
              "      <td>Pass</td>\n",
              "      <td>32. FOOD AND NON-FOOD CONTACT SURFACES PROPERL...</td>\n",
              "      <td>41.909874</td>\n",
              "      <td>-87.717533</td>\n",
              "      <td>2012</td>\n",
              "      <td>1</td>\n",
              "      <td>1</td>\n",
              "      <td>1891</td>\n",
              "      <td>2.8</td>\n",
              "      <td>3.566667</td>\n",
              "      <td>2007-11-16</td>\n",
              "      <td>1530.0</td>\n",
              "    </tr>\n",
              "    <tr>\n",
              "      <th>107430</th>\n",
              "      <td>612283</td>\n",
              "      <td>GREEN OAK FOOD &amp; LIQUOR INC</td>\n",
              "      <td>33090</td>\n",
              "      <td>grocery store</td>\n",
              "      <td>Risk 3 (Low)</td>\n",
              "      <td>956 N LARRABEE ST</td>\n",
              "      <td>60610</td>\n",
              "      <td>2011-06-16</td>\n",
              "      <td>complaint</td>\n",
              "      <td>Pass</td>\n",
              "      <td>33. FOOD AND NON-FOOD CONTACT EQUIPMENT UTENSI...</td>\n",
              "      <td>41.900361</td>\n",
              "      <td>-87.643236</td>\n",
              "      <td>2011</td>\n",
              "      <td>6</td>\n",
              "      <td>3</td>\n",
              "      <td>894</td>\n",
              "      <td>27.2</td>\n",
              "      <td>22.966667</td>\n",
              "      <td>2002-05-08</td>\n",
              "      <td>3326.0</td>\n",
              "    </tr>\n",
              "  </tbody>\n",
              "</table>\n",
              "</div>"
            ],
            "text/plain": [
              "        Inspection ID  ... DaysInBusiness\n",
              "100768        1402071  ...         4591.0\n",
              "97146          660145  ...         1530.0\n",
              "107430         612283  ...         3326.0\n",
              "\n",
              "[3 rows x 21 columns]"
            ]
          },
          "metadata": {
            "tags": []
          },
          "execution_count": 3
        }
      ]
    },
    {
      "cell_type": "code",
      "metadata": {
        "id": "ujfkyKD0gtd-",
        "colab_type": "code",
        "outputId": "28f97971-21de-4e1e-a234-17ecbc0e2561",
        "colab": {
          "base_uri": "https://localhost:8080/",
          "height": 35
        }
      },
      "source": [
        "df.shape"
      ],
      "execution_count": 4,
      "outputs": [
        {
          "output_type": "execute_result",
          "data": {
            "text/plain": [
              "(122595, 21)"
            ]
          },
          "metadata": {
            "tags": []
          },
          "execution_count": 4
        }
      ]
    },
    {
      "cell_type": "markdown",
      "metadata": {
        "id": "eSXKGFAagBOv",
        "colab_type": "text"
      },
      "source": [
        "# 1. Preprocessing"
      ]
    },
    {
      "cell_type": "markdown",
      "metadata": {
        "id": "eFoUmc4HgFjg",
        "colab_type": "text"
      },
      "source": [
        "Some features, such as \"Inspection ID\", \"DBA Name\", are not too useful when it comes to predicting the outcome of the inspection. Therefore, those columns are dropped."
      ]
    },
    {
      "cell_type": "code",
      "metadata": {
        "id": "scoitdIagFWN",
        "colab_type": "code",
        "outputId": "48ea312d-c071-4e90-b7b5-c33140ed686e",
        "colab": {
          "base_uri": "https://localhost:8080/",
          "height": 143
        }
      },
      "source": [
        "# Drop columns that are not useful\n",
        "df = df.drop([\"Inspection ID\", \"DBA Name\", \"License #\", \"Address\", \"Zip\", \"Inspection Date\", \"Violations\", \"ApproxCreationDate\"], axis = 1)\n",
        "df.sample(3)"
      ],
      "execution_count": 5,
      "outputs": [
        {
          "output_type": "execute_result",
          "data": {
            "text/html": [
              "<div>\n",
              "<style scoped>\n",
              "    .dataframe tbody tr th:only-of-type {\n",
              "        vertical-align: middle;\n",
              "    }\n",
              "\n",
              "    .dataframe tbody tr th {\n",
              "        vertical-align: top;\n",
              "    }\n",
              "\n",
              "    .dataframe thead th {\n",
              "        text-align: right;\n",
              "    }\n",
              "</style>\n",
              "<table border=\"1\" class=\"dataframe\">\n",
              "  <thead>\n",
              "    <tr style=\"text-align: right;\">\n",
              "      <th></th>\n",
              "      <th>Facility Type</th>\n",
              "      <th>Risk</th>\n",
              "      <th>Inspection Type</th>\n",
              "      <th>Results</th>\n",
              "      <th>Latitude</th>\n",
              "      <th>Longitude</th>\n",
              "      <th>Year</th>\n",
              "      <th>Month</th>\n",
              "      <th>Weekday</th>\n",
              "      <th>LenViol</th>\n",
              "      <th>TMAX</th>\n",
              "      <th>MeanMaxTemp3Days</th>\n",
              "      <th>DaysInBusiness</th>\n",
              "    </tr>\n",
              "  </thead>\n",
              "  <tbody>\n",
              "    <tr>\n",
              "      <th>60236</th>\n",
              "      <td>restaurant</td>\n",
              "      <td>Risk 1 (High)</td>\n",
              "      <td>canvass</td>\n",
              "      <td>Pass</td>\n",
              "      <td>41.894776</td>\n",
              "      <td>-87.627477</td>\n",
              "      <td>2017</td>\n",
              "      <td>5</td>\n",
              "      <td>3</td>\n",
              "      <td>500</td>\n",
              "      <td>21.1</td>\n",
              "      <td>19.433333</td>\n",
              "      <td>2318.0</td>\n",
              "    </tr>\n",
              "    <tr>\n",
              "      <th>23956</th>\n",
              "      <td>school</td>\n",
              "      <td>Risk 1 (High)</td>\n",
              "      <td>canvass re-inspection</td>\n",
              "      <td>Pass</td>\n",
              "      <td>41.929846</td>\n",
              "      <td>-87.646339</td>\n",
              "      <td>2011</td>\n",
              "      <td>6</td>\n",
              "      <td>0</td>\n",
              "      <td>1</td>\n",
              "      <td>21.7</td>\n",
              "      <td>19.266667</td>\n",
              "      <td>3184.0</td>\n",
              "    </tr>\n",
              "    <tr>\n",
              "      <th>60582</th>\n",
              "      <td>restaurant</td>\n",
              "      <td>Risk 1 (High)</td>\n",
              "      <td>canvass</td>\n",
              "      <td>Fail</td>\n",
              "      <td>41.852130</td>\n",
              "      <td>-87.631850</td>\n",
              "      <td>2016</td>\n",
              "      <td>10</td>\n",
              "      <td>3</td>\n",
              "      <td>2480</td>\n",
              "      <td>11.1</td>\n",
              "      <td>12.066667</td>\n",
              "      <td>3209.0</td>\n",
              "    </tr>\n",
              "  </tbody>\n",
              "</table>\n",
              "</div>"
            ],
            "text/plain": [
              "      Facility Type           Risk  ... MeanMaxTemp3Days DaysInBusiness\n",
              "60236    restaurant  Risk 1 (High)  ...        19.433333         2318.0\n",
              "23956        school  Risk 1 (High)  ...        19.266667         3184.0\n",
              "60582    restaurant  Risk 1 (High)  ...        12.066667         3209.0\n",
              "\n",
              "[3 rows x 13 columns]"
            ]
          },
          "metadata": {
            "tags": []
          },
          "execution_count": 5
        }
      ]
    },
    {
      "cell_type": "markdown",
      "metadata": {
        "id": "ILBPSp6WhzH1",
        "colab_type": "text"
      },
      "source": [
        "### 1.1 Standardization"
      ]
    },
    {
      "cell_type": "markdown",
      "metadata": {
        "id": "jJwKawhQhz5g",
        "colab_type": "text"
      },
      "source": [
        "The first step is to normalise the numerical features :\n",
        "\n",
        "*   Latitude\n",
        "*   Longitude\n",
        "*   LenViol\n",
        "*   TMAX\n",
        "*   MeanMaxTemp3Days\n",
        "*   DaysInBusiness\n"
      ]
    },
    {
      "cell_type": "code",
      "metadata": {
        "id": "pcAjZiLWkVOq",
        "colab_type": "code",
        "outputId": "332001c7-3041-431a-e21e-1c60b72c2c03",
        "colab": {
          "base_uri": "https://localhost:8080/",
          "height": 81
        }
      },
      "source": [
        "# Work on copy of df\n",
        "df_prep = df[[\"Latitude\", \"Longitude\", \"LenViol\", \"TMAX\", \"MeanMaxTemp3Days\", \"DaysInBusiness\", \"Facility Type\", \"Risk\", \"Inspection Type\", \"Year\", \"Month\", \"Weekday\", \"Results\"]]\n",
        "df_prep.sample(1)"
      ],
      "execution_count": 6,
      "outputs": [
        {
          "output_type": "execute_result",
          "data": {
            "text/html": [
              "<div>\n",
              "<style scoped>\n",
              "    .dataframe tbody tr th:only-of-type {\n",
              "        vertical-align: middle;\n",
              "    }\n",
              "\n",
              "    .dataframe tbody tr th {\n",
              "        vertical-align: top;\n",
              "    }\n",
              "\n",
              "    .dataframe thead th {\n",
              "        text-align: right;\n",
              "    }\n",
              "</style>\n",
              "<table border=\"1\" class=\"dataframe\">\n",
              "  <thead>\n",
              "    <tr style=\"text-align: right;\">\n",
              "      <th></th>\n",
              "      <th>Latitude</th>\n",
              "      <th>Longitude</th>\n",
              "      <th>LenViol</th>\n",
              "      <th>TMAX</th>\n",
              "      <th>MeanMaxTemp3Days</th>\n",
              "      <th>DaysInBusiness</th>\n",
              "      <th>Facility Type</th>\n",
              "      <th>Risk</th>\n",
              "      <th>Inspection Type</th>\n",
              "      <th>Year</th>\n",
              "      <th>Month</th>\n",
              "      <th>Weekday</th>\n",
              "      <th>Results</th>\n",
              "    </tr>\n",
              "  </thead>\n",
              "  <tbody>\n",
              "    <tr>\n",
              "      <th>11099</th>\n",
              "      <td>41.997996</td>\n",
              "      <td>-87.668224</td>\n",
              "      <td>414</td>\n",
              "      <td>25.0</td>\n",
              "      <td>18.0</td>\n",
              "      <td>584.0</td>\n",
              "      <td>restaurant</td>\n",
              "      <td>Risk 1 (High)</td>\n",
              "      <td>canvass re-inspection</td>\n",
              "      <td>2012</td>\n",
              "      <td>9</td>\n",
              "      <td>1</td>\n",
              "      <td>Pass</td>\n",
              "    </tr>\n",
              "  </tbody>\n",
              "</table>\n",
              "</div>"
            ],
            "text/plain": [
              "        Latitude  Longitude  LenViol  TMAX  ...  Year  Month Weekday Results\n",
              "11099  41.997996 -87.668224      414  25.0  ...  2012      9       1    Pass\n",
              "\n",
              "[1 rows x 13 columns]"
            ]
          },
          "metadata": {
            "tags": []
          },
          "execution_count": 6
        }
      ]
    },
    {
      "cell_type": "code",
      "metadata": {
        "id": "jbYwd1KgihN3",
        "colab_type": "code",
        "outputId": "0870fb94-bfd9-4a25-97e8-a362d28d81eb",
        "colab": {
          "base_uri": "https://localhost:8080/",
          "height": 81
        }
      },
      "source": [
        "# Standardization\n",
        "from sklearn.preprocessing import StandardScaler\n",
        "standardize = StandardScaler()\n",
        "standardize.fit(df_prep.iloc[:, :6])\n",
        "df_prep.iloc[:, :6] = standardize.transform(df_prep.iloc[:, :6])\n",
        "df_prep.sample(1)"
      ],
      "execution_count": 7,
      "outputs": [
        {
          "output_type": "execute_result",
          "data": {
            "text/html": [
              "<div>\n",
              "<style scoped>\n",
              "    .dataframe tbody tr th:only-of-type {\n",
              "        vertical-align: middle;\n",
              "    }\n",
              "\n",
              "    .dataframe tbody tr th {\n",
              "        vertical-align: top;\n",
              "    }\n",
              "\n",
              "    .dataframe thead th {\n",
              "        text-align: right;\n",
              "    }\n",
              "</style>\n",
              "<table border=\"1\" class=\"dataframe\">\n",
              "  <thead>\n",
              "    <tr style=\"text-align: right;\">\n",
              "      <th></th>\n",
              "      <th>Latitude</th>\n",
              "      <th>Longitude</th>\n",
              "      <th>LenViol</th>\n",
              "      <th>TMAX</th>\n",
              "      <th>MeanMaxTemp3Days</th>\n",
              "      <th>DaysInBusiness</th>\n",
              "      <th>Facility Type</th>\n",
              "      <th>Risk</th>\n",
              "      <th>Inspection Type</th>\n",
              "      <th>Year</th>\n",
              "      <th>Month</th>\n",
              "      <th>Weekday</th>\n",
              "      <th>Results</th>\n",
              "    </tr>\n",
              "  </thead>\n",
              "  <tbody>\n",
              "    <tr>\n",
              "      <th>45249</th>\n",
              "      <td>0.997268</td>\n",
              "      <td>-0.198688</td>\n",
              "      <td>-0.448733</td>\n",
              "      <td>-1.223108</td>\n",
              "      <td>-1.616538</td>\n",
              "      <td>1.178934</td>\n",
              "      <td>restaurant</td>\n",
              "      <td>Risk 1 (High)</td>\n",
              "      <td>canvass re-inspection</td>\n",
              "      <td>2013</td>\n",
              "      <td>11</td>\n",
              "      <td>1</td>\n",
              "      <td>Pass</td>\n",
              "    </tr>\n",
              "  </tbody>\n",
              "</table>\n",
              "</div>"
            ],
            "text/plain": [
              "       Latitude  Longitude   LenViol      TMAX  ...  Year  Month Weekday Results\n",
              "45249  0.997268  -0.198688 -0.448733 -1.223108  ...  2013     11       1    Pass\n",
              "\n",
              "[1 rows x 13 columns]"
            ]
          },
          "metadata": {
            "tags": []
          },
          "execution_count": 7
        }
      ]
    },
    {
      "cell_type": "markdown",
      "metadata": {
        "id": "0VnOrGpOqEgT",
        "colab_type": "text"
      },
      "source": [
        "### 1.2 Encoding"
      ]
    },
    {
      "cell_type": "markdown",
      "metadata": {
        "id": "FGWcyPsEqJjz",
        "colab_type": "text"
      },
      "source": [
        "The following features need to be encoded :\n",
        "\n",
        "*   Facility Type\n",
        "*   Risk\n",
        "*   Inspection Type\n",
        "*   Year\n",
        "*   Month\n",
        "*   Weekday\n"
      ]
    },
    {
      "cell_type": "code",
      "metadata": {
        "id": "hucrFAgFp5rT",
        "colab_type": "code",
        "colab": {}
      },
      "source": [
        "# Encoding\n",
        "from sklearn.preprocessing import LabelEncoder, OneHotEncoder\n",
        "\n",
        "#One hot encoding\n",
        "one_hot = OneHotEncoder(categories=\"auto\")\n",
        "cat_to_onehot = one_hot.fit_transform(df_prep[[\"Facility Type\", \"Risk\", \"Inspection Type\", \"Year\", \"Month\", \"Weekday\"]]).toarray()\n",
        "cat_to_onehot = pd.DataFrame(cat_to_onehot)\n",
        "\n",
        "# Generate X\n",
        "feature_names = [\"Latitude\", \"Longitude\", \"LenViol\", \"TMAX\", \"MeanMaxTemp3Days\", \"DaysInBusiness\"]\n",
        "X = df_prep[feature_names]\n",
        "X = pd.concat((X, cat_to_onehot), axis=1)\n",
        "\n",
        "# Generate y\n",
        "lab_encoder = LabelEncoder()\n",
        "cat_to_label = lab_encoder.fit_transform(df_prep[\"Results\"])\n",
        "Y = pd.DataFrame(cat_to_label)"
      ],
      "execution_count": 0,
      "outputs": []
    },
    {
      "cell_type": "code",
      "metadata": {
        "id": "FgBBrNE9sGt9",
        "colab_type": "code",
        "outputId": "6db6e365-976a-4be2-edf6-d8609bdcdeae",
        "colab": {
          "base_uri": "https://localhost:8080/",
          "height": 101
        }
      },
      "source": [
        "X.sample(1)"
      ],
      "execution_count": 10,
      "outputs": [
        {
          "output_type": "execute_result",
          "data": {
            "text/html": [
              "<div>\n",
              "<style scoped>\n",
              "    .dataframe tbody tr th:only-of-type {\n",
              "        vertical-align: middle;\n",
              "    }\n",
              "\n",
              "    .dataframe tbody tr th {\n",
              "        vertical-align: top;\n",
              "    }\n",
              "\n",
              "    .dataframe thead th {\n",
              "        text-align: right;\n",
              "    }\n",
              "</style>\n",
              "<table border=\"1\" class=\"dataframe\">\n",
              "  <thead>\n",
              "    <tr style=\"text-align: right;\">\n",
              "      <th></th>\n",
              "      <th>Latitude</th>\n",
              "      <th>Longitude</th>\n",
              "      <th>LenViol</th>\n",
              "      <th>TMAX</th>\n",
              "      <th>MeanMaxTemp3Days</th>\n",
              "      <th>DaysInBusiness</th>\n",
              "      <th>0</th>\n",
              "      <th>1</th>\n",
              "      <th>2</th>\n",
              "      <th>3</th>\n",
              "      <th>4</th>\n",
              "      <th>5</th>\n",
              "      <th>6</th>\n",
              "      <th>7</th>\n",
              "      <th>8</th>\n",
              "      <th>9</th>\n",
              "      <th>10</th>\n",
              "      <th>11</th>\n",
              "      <th>12</th>\n",
              "      <th>13</th>\n",
              "      <th>14</th>\n",
              "      <th>15</th>\n",
              "      <th>16</th>\n",
              "      <th>17</th>\n",
              "      <th>18</th>\n",
              "      <th>19</th>\n",
              "      <th>20</th>\n",
              "      <th>21</th>\n",
              "      <th>22</th>\n",
              "      <th>23</th>\n",
              "      <th>24</th>\n",
              "      <th>25</th>\n",
              "      <th>26</th>\n",
              "      <th>27</th>\n",
              "      <th>28</th>\n",
              "      <th>29</th>\n",
              "      <th>30</th>\n",
              "      <th>31</th>\n",
              "      <th>32</th>\n",
              "      <th>33</th>\n",
              "      <th>34</th>\n",
              "      <th>35</th>\n",
              "      <th>36</th>\n",
              "      <th>37</th>\n",
              "      <th>38</th>\n",
              "      <th>39</th>\n",
              "      <th>40</th>\n",
              "      <th>41</th>\n",
              "      <th>42</th>\n",
              "      <th>43</th>\n",
              "      <th>44</th>\n",
              "      <th>45</th>\n",
              "      <th>46</th>\n",
              "      <th>47</th>\n",
              "      <th>48</th>\n",
              "      <th>49</th>\n",
              "      <th>50</th>\n",
              "      <th>51</th>\n",
              "      <th>52</th>\n",
              "      <th>53</th>\n",
              "      <th>54</th>\n",
              "      <th>55</th>\n",
              "      <th>56</th>\n",
              "      <th>57</th>\n",
              "      <th>58</th>\n",
              "      <th>59</th>\n",
              "      <th>60</th>\n",
              "      <th>61</th>\n",
              "      <th>62</th>\n",
              "      <th>63</th>\n",
              "      <th>64</th>\n",
              "      <th>65</th>\n",
              "      <th>66</th>\n",
              "      <th>67</th>\n",
              "    </tr>\n",
              "  </thead>\n",
              "  <tbody>\n",
              "    <tr>\n",
              "      <th>86637</th>\n",
              "      <td>0.798957</td>\n",
              "      <td>-2.138999</td>\n",
              "      <td>-1.005143</td>\n",
              "      <td>-0.265436</td>\n",
              "      <td>-0.295069</td>\n",
              "      <td>-1.182473</td>\n",
              "      <td>0.0</td>\n",
              "      <td>0.0</td>\n",
              "      <td>0.0</td>\n",
              "      <td>0.0</td>\n",
              "      <td>0.0</td>\n",
              "      <td>0.0</td>\n",
              "      <td>0.0</td>\n",
              "      <td>0.0</td>\n",
              "      <td>0.0</td>\n",
              "      <td>0.0</td>\n",
              "      <td>0.0</td>\n",
              "      <td>0.0</td>\n",
              "      <td>0.0</td>\n",
              "      <td>0.0</td>\n",
              "      <td>0.0</td>\n",
              "      <td>1.0</td>\n",
              "      <td>0.0</td>\n",
              "      <td>0.0</td>\n",
              "      <td>0.0</td>\n",
              "      <td>0.0</td>\n",
              "      <td>0.0</td>\n",
              "      <td>1.0</td>\n",
              "      <td>0.0</td>\n",
              "      <td>0.0</td>\n",
              "      <td>0.0</td>\n",
              "      <td>0.0</td>\n",
              "      <td>0.0</td>\n",
              "      <td>0.0</td>\n",
              "      <td>0.0</td>\n",
              "      <td>0.0</td>\n",
              "      <td>0.0</td>\n",
              "      <td>1.0</td>\n",
              "      <td>0.0</td>\n",
              "      <td>0.0</td>\n",
              "      <td>0.0</td>\n",
              "      <td>0.0</td>\n",
              "      <td>0.0</td>\n",
              "      <td>0.0</td>\n",
              "      <td>0.0</td>\n",
              "      <td>0.0</td>\n",
              "      <td>0.0</td>\n",
              "      <td>1.0</td>\n",
              "      <td>0.0</td>\n",
              "      <td>0.0</td>\n",
              "      <td>0.0</td>\n",
              "      <td>0.0</td>\n",
              "      <td>0.0</td>\n",
              "      <td>0.0</td>\n",
              "      <td>0.0</td>\n",
              "      <td>0.0</td>\n",
              "      <td>0.0</td>\n",
              "      <td>0.0</td>\n",
              "      <td>0.0</td>\n",
              "      <td>0.0</td>\n",
              "      <td>0.0</td>\n",
              "      <td>0.0</td>\n",
              "      <td>0.0</td>\n",
              "      <td>0.0</td>\n",
              "      <td>0.0</td>\n",
              "      <td>1.0</td>\n",
              "      <td>0.0</td>\n",
              "      <td>1.0</td>\n",
              "      <td>0.0</td>\n",
              "      <td>0.0</td>\n",
              "      <td>0.0</td>\n",
              "      <td>0.0</td>\n",
              "      <td>0.0</td>\n",
              "      <td>0.0</td>\n",
              "    </tr>\n",
              "  </tbody>\n",
              "</table>\n",
              "</div>"
            ],
            "text/plain": [
              "       Latitude  Longitude   LenViol      TMAX  ...   64   65   66   67\n",
              "86637  0.798957  -2.138999 -1.005143 -0.265436  ...  0.0  0.0  0.0  0.0\n",
              "\n",
              "[1 rows x 74 columns]"
            ]
          },
          "metadata": {
            "tags": []
          },
          "execution_count": 10
        }
      ]
    },
    {
      "cell_type": "code",
      "metadata": {
        "id": "WGX3nUWwsLOo",
        "colab_type": "code",
        "outputId": "053dbe36-e18f-44c4-9628-1a9fb602a794",
        "colab": {
          "base_uri": "https://localhost:8080/",
          "height": 206
        }
      },
      "source": [
        "Y.sample(5)"
      ],
      "execution_count": 11,
      "outputs": [
        {
          "output_type": "execute_result",
          "data": {
            "text/html": [
              "<div>\n",
              "<style scoped>\n",
              "    .dataframe tbody tr th:only-of-type {\n",
              "        vertical-align: middle;\n",
              "    }\n",
              "\n",
              "    .dataframe tbody tr th {\n",
              "        vertical-align: top;\n",
              "    }\n",
              "\n",
              "    .dataframe thead th {\n",
              "        text-align: right;\n",
              "    }\n",
              "</style>\n",
              "<table border=\"1\" class=\"dataframe\">\n",
              "  <thead>\n",
              "    <tr style=\"text-align: right;\">\n",
              "      <th></th>\n",
              "      <th>0</th>\n",
              "    </tr>\n",
              "  </thead>\n",
              "  <tbody>\n",
              "    <tr>\n",
              "      <th>35236</th>\n",
              "      <td>1</td>\n",
              "    </tr>\n",
              "    <tr>\n",
              "      <th>9408</th>\n",
              "      <td>0</td>\n",
              "    </tr>\n",
              "    <tr>\n",
              "      <th>4332</th>\n",
              "      <td>1</td>\n",
              "    </tr>\n",
              "    <tr>\n",
              "      <th>109750</th>\n",
              "      <td>0</td>\n",
              "    </tr>\n",
              "    <tr>\n",
              "      <th>69165</th>\n",
              "      <td>1</td>\n",
              "    </tr>\n",
              "  </tbody>\n",
              "</table>\n",
              "</div>"
            ],
            "text/plain": [
              "        0\n",
              "35236   1\n",
              "9408    0\n",
              "4332    1\n",
              "109750  0\n",
              "69165   1"
            ]
          },
          "metadata": {
            "tags": []
          },
          "execution_count": 11
        }
      ]
    },
    {
      "cell_type": "markdown",
      "metadata": {
        "id": "x-lav9cusWEM",
        "colab_type": "text"
      },
      "source": [
        "### 1.3 Splitting the data set"
      ]
    },
    {
      "cell_type": "code",
      "metadata": {
        "id": "9_DY5K9MsOk8",
        "colab_type": "code",
        "colab": {}
      },
      "source": [
        "# Split train/test sets\n",
        "from sklearn.model_selection import train_test_split\n",
        "X_train, X_test, Y_train, Y_test = train_test_split(X, Y, test_size=0.2, random_state=72)"
      ],
      "execution_count": 0,
      "outputs": []
    },
    {
      "cell_type": "markdown",
      "metadata": {
        "id": "aHgYac-1t-Ik",
        "colab_type": "text"
      },
      "source": [
        "# 2. Prediction"
      ]
    },
    {
      "cell_type": "markdown",
      "metadata": {
        "id": "VhYhoTXOuSQL",
        "colab_type": "text"
      },
      "source": [
        "### 2.1 Base rate"
      ]
    },
    {
      "cell_type": "code",
      "metadata": {
        "id": "leWDl33wtXNa",
        "colab_type": "code",
        "outputId": "987d54d9-4d37-41ed-c85c-05d8d2448a53",
        "colab": {
          "base_uri": "https://localhost:8080/",
          "height": 35
        }
      },
      "source": [
        "# The base rest is defined as : size(most frequent class)/size(dataset)\n",
        "failCount = df[df[\"Results\"] == \"Fail\"].shape[0]\n",
        "passCount = df[df[\"Results\"] == \"Pass\"].shape[0]\n",
        "\n",
        "if passCount > failCount :\n",
        "  print(\"The most frequent class is \" + \"'Pass' (\" + str(passCount) + \") VS 'Fail' (\" + str(failCount)+ \").\")\n",
        "else :\n",
        "   print(\"The most frequent class is \" + \"'Fail' (\" + str(failCount) + \") VS 'Pass' (\" + str(passCount)+ \").\")"
      ],
      "execution_count": 13,
      "outputs": [
        {
          "output_type": "stream",
          "text": [
            "The most frequent class is 'Pass' (92447) VS 'Fail' (30148).\n"
          ],
          "name": "stdout"
        }
      ]
    },
    {
      "cell_type": "code",
      "metadata": {
        "id": "LNFuDhxYtGeV",
        "colab_type": "code",
        "outputId": "c3b46a2c-e43d-4f1e-c035-94ea662e8115",
        "colab": {
          "base_uri": "https://localhost:8080/",
          "height": 35
        }
      },
      "source": [
        "# Base rate\n",
        "br = max(passCount, failCount)/(passCount + failCount)\n",
        "\n",
        "print(\"The base rate is : \" + str(br))"
      ],
      "execution_count": 14,
      "outputs": [
        {
          "output_type": "stream",
          "text": [
            "The base rate is : 0.754084587462784\n"
          ],
          "name": "stdout"
        }
      ]
    },
    {
      "cell_type": "markdown",
      "metadata": {
        "id": "ZrmO4gI2uDlr",
        "colab_type": "text"
      },
      "source": [
        "### 2.2 Logistic Regression"
      ]
    },
    {
      "cell_type": "code",
      "metadata": {
        "id": "Nebkb_eAsmI8",
        "colab_type": "code",
        "outputId": "85b6213a-5487-47c8-d09c-07bc939f21f4",
        "colab": {
          "base_uri": "https://localhost:8080/",
          "height": 164
        }
      },
      "source": [
        "from sklearn.linear_model import LogisticRegressionCV\n",
        "\n",
        "# Logistic regression with cross-validation\n",
        "LR = LogisticRegressionCV(solver='lbfgs', cv=5, max_iter=1000)\n",
        "LR.fit(X_train, Y_train)"
      ],
      "execution_count": 15,
      "outputs": [
        {
          "output_type": "stream",
          "text": [
            "/usr/local/lib/python3.6/dist-packages/sklearn/utils/validation.py:724: DataConversionWarning: A column-vector y was passed when a 1d array was expected. Please change the shape of y to (n_samples, ), for example using ravel().\n",
            "  y = column_or_1d(y, warn=True)\n"
          ],
          "name": "stderr"
        },
        {
          "output_type": "execute_result",
          "data": {
            "text/plain": [
              "LogisticRegressionCV(Cs=10, class_weight=None, cv=5, dual=False,\n",
              "                     fit_intercept=True, intercept_scaling=1.0, l1_ratios=None,\n",
              "                     max_iter=1000, multi_class='warn', n_jobs=None,\n",
              "                     penalty='l2', random_state=None, refit=True, scoring=None,\n",
              "                     solver='lbfgs', tol=0.0001, verbose=0)"
            ]
          },
          "metadata": {
            "tags": []
          },
          "execution_count": 15
        }
      ]
    },
    {
      "cell_type": "code",
      "metadata": {
        "id": "6Z3AaYchszju",
        "colab_type": "code",
        "outputId": "728da4c1-a3cd-4367-f33e-63678813efe3",
        "colab": {
          "base_uri": "https://localhost:8080/",
          "height": 35
        }
      },
      "source": [
        "# Train accuracy\n",
        "LR.score(X_train,Y_train)"
      ],
      "execution_count": 16,
      "outputs": [
        {
          "output_type": "execute_result",
          "data": {
            "text/plain": [
              "0.8465169868265426"
            ]
          },
          "metadata": {
            "tags": []
          },
          "execution_count": 16
        }
      ]
    },
    {
      "cell_type": "code",
      "metadata": {
        "id": "dgAH245ws6aX",
        "colab_type": "code",
        "outputId": "aae08cee-5d24-4889-be59-3bd68cbdc919",
        "colab": {
          "base_uri": "https://localhost:8080/",
          "height": 35
        }
      },
      "source": [
        "# Test accuracy\n",
        "LR.score(X_test, Y_test)"
      ],
      "execution_count": 17,
      "outputs": [
        {
          "output_type": "execute_result",
          "data": {
            "text/plain": [
              "0.8419185121742322"
            ]
          },
          "metadata": {
            "tags": []
          },
          "execution_count": 17
        }
      ]
    }
  ]
}