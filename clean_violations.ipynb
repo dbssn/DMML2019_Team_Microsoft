{
  "nbformat": 4,
  "nbformat_minor": 0,
  "metadata": {
    "colab": {
      "name": "clean violations",
      "provenance": [],
      "include_colab_link": true
    },
    "kernelspec": {
      "name": "python3",
      "display_name": "Python 3"
    }
  },
  "cells": [
    {
      "cell_type": "markdown",
      "metadata": {
        "id": "view-in-github",
        "colab_type": "text"
      },
      "source": [
        "<a href=\"https://colab.research.google.com/github/dbssn/DMML2019_Team_Microsoft/blob/master/clean_violations.ipynb\" target=\"_parent\"><img src=\"https://colab.research.google.com/assets/colab-badge.svg\" alt=\"Open In Colab\"/></a>"
      ]
    },
    {
      "cell_type": "code",
      "metadata": {
        "id": "5HOkISoW4pQF",
        "colab_type": "code",
        "colab": {}
      },
      "source": [
        "# -*- coding: utf-8 -*-\n",
        "import re\n",
        "import pandas as pd\n",
        "\n",
        "data=pd.read_csv(\"Food_Inspections_November_16_2019.csv\")\n",
        "\n",
        "Violations=data[\"Violations\"]\n",
        "\n",
        "extra=[]\n",
        "count1=[]\n",
        "count2=[]\n",
        "count3=[]\n",
        "for i in range(len(Violations)):\n",
        "    try:\n",
        "        num = re.findall('\\b\\d\\.',Violations[i])\n",
        "        num3 = re.findall('\\n\\d\\.',Violations[i])\n",
        "        num2 = re.findall('\\d\\d\\.',Violations[i])\n",
        "        con=num+num2+num3\n",
        "        num1=0\n",
        "        num2=0\n",
        "        num3=0\n",
        "        for j in range(len(con)):\n",
        "            con[j]=con[j].replace(\".\",\"\")\n",
        "            con[j]=int(con[j])\n",
        "            if(con[j]<15):\n",
        "                num1+=1\n",
        "            elif(con[j]<30):\n",
        "                num2+=1\n",
        "            else:\n",
        "                num3+=1\n",
        "        count1.append(num1)\n",
        "        count2.append(num2)\n",
        "        count3.append(num3)\n",
        "        extra.append(con)    \n",
        "    except:\n",
        "        extra.append(\"na\")\n",
        "        count1.append(\"na\")\n",
        "        count2.append(\"na\")\n",
        "        count3.append(\"na\")\n",
        "        continue\n",
        "\n",
        "out=pd.DataFrame({\"text\":Violations,\"extra\":extra,\"count1\":count1,\"count2\":count2,\"count3\":count3})\n"
      ],
      "execution_count": 0,
      "outputs": []
    }
  ]
}