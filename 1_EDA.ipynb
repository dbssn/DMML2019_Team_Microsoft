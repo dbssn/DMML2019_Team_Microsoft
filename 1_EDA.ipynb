{
  "nbformat": 4,
  "nbformat_minor": 0,
  "metadata": {
    "colab": {
      "name": "1_EDA.ipynb",
      "provenance": [],
      "collapsed_sections": []
    },
    "kernelspec": {
      "name": "python3",
      "display_name": "Python 3"
    }
  },
  "cells": [
    {
      "cell_type": "markdown",
      "metadata": {
        "id": "_i4FSF5EBl3a",
        "colab_type": "text"
      },
      "source": [
        "**NOT FUNCTIONAL RIGHT NOW**"
      ]
    },
    {
      "cell_type": "code",
      "metadata": {
        "id": "9oI5oVh_AWAv",
        "colab_type": "code",
        "colab": {}
      },
      "source": [
        "#Import, etc."
      ],
      "execution_count": 0,
      "outputs": []
    },
    {
      "cell_type": "code",
      "metadata": {
        "id": "quGea9PX_hzC",
        "colab_type": "code",
        "colab": {}
      },
      "source": [
        "#Zip visualisation\n",
        "zipList = list(df_binary[\"Zip\"].unique())\n",
        "print(min(zipList))\n",
        "print(max(zipList))"
      ],
      "execution_count": 0,
      "outputs": []
    },
    {
      "cell_type": "code",
      "metadata": {
        "id": "S8MbxUwF_lHh",
        "colab_type": "code",
        "colab": {}
      },
      "source": [
        "#Zip codes distribution (manually reduced the range as most zip codes are between 60600 and 60670)\n",
        "df_binary[\"Zip\"].hist(range = (60600, 60670), figsize = (20,6), bins = 50)"
      ],
      "execution_count": 0,
      "outputs": []
    },
    {
      "cell_type": "code",
      "metadata": {
        "id": "qNu6-9gW_mjs",
        "colab_type": "code",
        "colab": {}
      },
      "source": [
        "#Inspection date visualisation (we see an important drop in july 2018 which corresponds to the legislation changes)\n",
        "pivot_date = pd.pivot_table(data = df_binary, index = \"Inspection Date\", values = \"Inspection ID\", aggfunc = \"count\")\n",
        "pivot_date.resample('1M').sum().plot()"
      ],
      "execution_count": 0,
      "outputs": []
    },
    {
      "cell_type": "code",
      "metadata": {
        "id": "dAhJJ9NY_nIw",
        "colab_type": "code",
        "colab": {}
      },
      "source": [
        "#Split DF according to year and inspection result\n",
        "from datetime import datetime\n",
        "\n",
        "years = []\n",
        "\n",
        "for i in range(2010, 2020) :\n",
        "  years.append(str(i))\n",
        "\n",
        "df_year = []\n",
        "df_fail = []\n",
        "df_pass = []\n",
        "\n",
        "for k in range(len(years)) :\n",
        "  date1 = datetime.strptime(years[k] + '-01-01', '%Y-%m-%d')\n",
        "  date2 = datetime.strptime(years[k] + '-12-31', '%Y-%m-%d')\n",
        "\n",
        "  df_year.append(df_binary.loc[(df_binary['Inspection Date']>=date1) & (df_binary['Inspection Date']<=date2)])\n",
        "\n",
        "  df_fail.append(df_year[k][df_year[k][\"Results\"] == \"Fail\"])\n",
        "  df_pass.append(df_year[k][df_year[k][\"Results\"] == \"Pass\"])"
      ],
      "execution_count": 0,
      "outputs": []
    },
    {
      "cell_type": "code",
      "metadata": {
        "id": "nXpHbkdE_pqO",
        "colab_type": "code",
        "colab": {}
      },
      "source": [
        "#Folium install\n",
        "!pip install folium"
      ],
      "execution_count": 0,
      "outputs": []
    },
    {
      "cell_type": "code",
      "metadata": {
        "id": "qrI1I-Rz_rBe",
        "colab_type": "code",
        "colab": {}
      },
      "source": [
        "#Map the data\n",
        "import folium\n",
        "\n",
        "map = folium.Map(location=[41.881944, -87.627778], tiles=\"stamentoner\", zoom_start=11)\n",
        "\n",
        "#Select a year to visualise : 0 to 9 which corresponds to 2010 to 2019\n",
        "myYear = 5\n",
        "\n",
        "#Mapping passed inspections in green\n",
        "for j in range(len(df_pass[myYear])) :\n",
        "  folium.Circle(\n",
        "      location = [df_pass[myYear].iloc[j][\"Latitude\"], df_pass[myYear].iloc[j][\"Longitude\"]],\n",
        "      radius = 5,\n",
        "      color = \"green\",\n",
        "      opacity = 0.5,\n",
        "  ).add_to(map)\n",
        "\n",
        "#Mapping failed inspections in red\n",
        "for i in range(len(df_fail[myYear])) :\n",
        "  folium.Circle(\n",
        "      location = [df_fail[myYear].iloc[i][\"Latitude\"], df_fail[myYear].iloc[i][\"Longitude\"]],\n",
        "      radius = 5,\n",
        "      color = \"red\",\n",
        "      opacity = 0.5,\n",
        "  ).add_to(map)\n",
        "\n",
        "map"
      ],
      "execution_count": 0,
      "outputs": []
    },
    {
      "cell_type": "code",
      "metadata": {
        "id": "kL5LAzQQ_tGK",
        "colab_type": "code",
        "colab": {}
      },
      "source": [
        "df_binary[\"Results\"].hist(bins = 3)"
      ],
      "execution_count": 0,
      "outputs": []
    },
    {
      "cell_type": "markdown",
      "metadata": {
        "id": "EhNcx0Pu_wF2",
        "colab_type": "text"
      },
      "source": [
        "This graph indicates that the set is skewed. There are more \"Pass\" than \"Fail\"."
      ]
    },
    {
      "cell_type": "code",
      "metadata": {
        "id": "I5se0Qhu_yOg",
        "colab_type": "code",
        "colab": {}
      },
      "source": [
        "df_binary[\"Risk\"].hist(bins = 5, figsize = (7,5))"
      ],
      "execution_count": 0,
      "outputs": []
    }
  ]
}