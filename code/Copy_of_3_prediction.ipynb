{
  "nbformat": 4,
  "nbformat_minor": 0,
  "metadata": {
    "colab": {
      "name": "Copy of 3_prediction.ipynb",
      "provenance": [],
      "collapsed_sections": [],
      "include_colab_link": true
    },
    "kernelspec": {
      "name": "python3",
      "display_name": "Python 3"
    },
    "accelerator": "GPU"
  },
  "cells": [
    {
      "cell_type": "markdown",
      "metadata": {
        "id": "view-in-github",
        "colab_type": "text"
      },
      "source": [
        "<a href=\"https://colab.research.google.com/github/dbssn/DMML2019_Team_Microsoft/blob/master/Copy_of_3_prediction.ipynb\" target=\"_parent\"><img src=\"https://colab.research.google.com/assets/colab-badge.svg\" alt=\"Open In Colab\"/></a>"
      ]
    },
    {
      "cell_type": "markdown",
      "metadata": {
        "id": "YKyfnbRCfNVu",
        "colab_type": "text"
      },
      "source": [
        "# 0. Imports"
      ]
    },
    {
      "cell_type": "code",
      "metadata": {
        "id": "FuvMiMc-rWRS",
        "colab_type": "code",
        "colab": {}
      },
      "source": [
        "# Imports\n",
        "import pandas as pd"
      ],
      "execution_count": 0,
      "outputs": []
    },
    {
      "cell_type": "code",
      "metadata": {
        "id": "sBIVoimzrsig",
        "colab_type": "code",
        "colab": {}
      },
      "source": [
        "# Load data set\n",
        "df_0 = pd.read_csv(\"https://drive.switch.ch/index.php/s/Gs1wqzxkNeCppeC/download\")"
      ],
      "execution_count": 0,
      "outputs": []
    },
    {
      "cell_type": "code",
      "metadata": {
        "id": "YJ52Nxpif071",
        "colab_type": "code",
        "outputId": "f9487ff8-1e24-4c0f-f467-0e932f226b93",
        "colab": {
          "base_uri": "https://localhost:8080/",
          "height": 386
        }
      },
      "source": [
        "# Copy to easily reset, without loading the data set again\n",
        "df = df_0\n",
        "df.sample(3)"
      ],
      "execution_count": 5,
      "outputs": [
        {
          "output_type": "execute_result",
          "data": {
            "text/html": [
              "<div>\n",
              "<style scoped>\n",
              "    .dataframe tbody tr th:only-of-type {\n",
              "        vertical-align: middle;\n",
              "    }\n",
              "\n",
              "    .dataframe tbody tr th {\n",
              "        vertical-align: top;\n",
              "    }\n",
              "\n",
              "    .dataframe thead th {\n",
              "        text-align: right;\n",
              "    }\n",
              "</style>\n",
              "<table border=\"1\" class=\"dataframe\">\n",
              "  <thead>\n",
              "    <tr style=\"text-align: right;\">\n",
              "      <th></th>\n",
              "      <th>Inspection ID</th>\n",
              "      <th>DBA Name</th>\n",
              "      <th>License #</th>\n",
              "      <th>Facility Type</th>\n",
              "      <th>Risk</th>\n",
              "      <th>Address</th>\n",
              "      <th>Zip</th>\n",
              "      <th>Inspection Date</th>\n",
              "      <th>Inspection Type</th>\n",
              "      <th>Results</th>\n",
              "      <th>Violations</th>\n",
              "      <th>Latitude</th>\n",
              "      <th>Longitude</th>\n",
              "      <th>Year</th>\n",
              "      <th>Month</th>\n",
              "      <th>Weekday</th>\n",
              "      <th>LenViol</th>\n",
              "      <th>TMAX</th>\n",
              "      <th>MeanMaxTemp3Days</th>\n",
              "      <th>ApproxCreationDate</th>\n",
              "      <th>DaysInBusiness</th>\n",
              "    </tr>\n",
              "  </thead>\n",
              "  <tbody>\n",
              "    <tr>\n",
              "      <th>84373</th>\n",
              "      <td>1184391</td>\n",
              "      <td>PRESTO</td>\n",
              "      <td>2087731</td>\n",
              "      <td>restaurant</td>\n",
              "      <td>Risk 1 (High)</td>\n",
              "      <td>131 N CLINTON ST</td>\n",
              "      <td>60661</td>\n",
              "      <td>2012-06-14</td>\n",
              "      <td>canvass</td>\n",
              "      <td>Pass</td>\n",
              "      <td>31. CLEAN MULTI-USE UTENSILS AND SINGLE SERVIC...</td>\n",
              "      <td>41.884188</td>\n",
              "      <td>-87.641120</td>\n",
              "      <td>2012</td>\n",
              "      <td>6</td>\n",
              "      <td>3</td>\n",
              "      <td>622</td>\n",
              "      <td>30.0</td>\n",
              "      <td>26.300000</td>\n",
              "      <td>2011-03-29</td>\n",
              "      <td>443.0</td>\n",
              "    </tr>\n",
              "    <tr>\n",
              "      <th>76631</th>\n",
              "      <td>1501570</td>\n",
              "      <td>ISLA PILIPINA RESTAURANT</td>\n",
              "      <td>1445451</td>\n",
              "      <td>restaurant</td>\n",
              "      <td>Risk 1 (High)</td>\n",
              "      <td>2501 W LAWRENCE AVE</td>\n",
              "      <td>60625</td>\n",
              "      <td>2014-11-06</td>\n",
              "      <td>canvass</td>\n",
              "      <td>Pass</td>\n",
              "      <td>30. FOOD IN ORIGINAL CONTAINER, PROPERLY LABEL...</td>\n",
              "      <td>41.968483</td>\n",
              "      <td>-87.691409</td>\n",
              "      <td>2014</td>\n",
              "      <td>11</td>\n",
              "      <td>3</td>\n",
              "      <td>1492</td>\n",
              "      <td>11.1</td>\n",
              "      <td>20.566667</td>\n",
              "      <td>2003-11-07</td>\n",
              "      <td>4017.0</td>\n",
              "    </tr>\n",
              "    <tr>\n",
              "      <th>67777</th>\n",
              "      <td>250833</td>\n",
              "      <td>RESTAURANT 2 AMIGOS</td>\n",
              "      <td>21363</td>\n",
              "      <td>restaurant</td>\n",
              "      <td>Risk 1 (High)</td>\n",
              "      <td>2320 N MILWAUKEE AVE</td>\n",
              "      <td>60647</td>\n",
              "      <td>2010-06-11</td>\n",
              "      <td>canvass</td>\n",
              "      <td>Pass</td>\n",
              "      <td>30. FOOD IN ORIGINAL CONTAINER, PROPERLY LABEL...</td>\n",
              "      <td>41.923232</td>\n",
              "      <td>-87.698112</td>\n",
              "      <td>2010</td>\n",
              "      <td>6</td>\n",
              "      <td>4</td>\n",
              "      <td>1328</td>\n",
              "      <td>31.1</td>\n",
              "      <td>23.866667</td>\n",
              "      <td>2002-05-10</td>\n",
              "      <td>2954.0</td>\n",
              "    </tr>\n",
              "  </tbody>\n",
              "</table>\n",
              "</div>"
            ],
            "text/plain": [
              "       Inspection ID  ... DaysInBusiness\n",
              "84373        1184391  ...          443.0\n",
              "76631        1501570  ...         4017.0\n",
              "67777         250833  ...         2954.0\n",
              "\n",
              "[3 rows x 21 columns]"
            ]
          },
          "metadata": {
            "tags": []
          },
          "execution_count": 5
        }
      ]
    },
    {
      "cell_type": "code",
      "metadata": {
        "id": "ujfkyKD0gtd-",
        "colab_type": "code",
        "outputId": "c5e1ed2e-041b-40d9-cb8b-a4b82e6b65cf",
        "colab": {
          "base_uri": "https://localhost:8080/",
          "height": 35
        }
      },
      "source": [
        "df.shape"
      ],
      "execution_count": 6,
      "outputs": [
        {
          "output_type": "execute_result",
          "data": {
            "text/plain": [
              "(122595, 21)"
            ]
          },
          "metadata": {
            "tags": []
          },
          "execution_count": 6
        }
      ]
    },
    {
      "cell_type": "markdown",
      "metadata": {
        "id": "eSXKGFAagBOv",
        "colab_type": "text"
      },
      "source": [
        "# 1. Preprocessing"
      ]
    },
    {
      "cell_type": "markdown",
      "metadata": {
        "id": "eFoUmc4HgFjg",
        "colab_type": "text"
      },
      "source": [
        "Some features, such as \"Inspection ID\", \"DBA Name\", are not too useful when it comes to predicting the outcome of the inspection. Therefore, those columns are dropped."
      ]
    },
    {
      "cell_type": "code",
      "metadata": {
        "id": "scoitdIagFWN",
        "colab_type": "code",
        "outputId": "55717e17-6784-4ae3-fe32-2ae1e3f491a7",
        "colab": {
          "base_uri": "https://localhost:8080/",
          "height": 175
        }
      },
      "source": [
        "# Drop columns that are not useful\n",
        "df = df.drop([\"Inspection ID\", \"DBA Name\", \"License #\", \"Address\", \"Zip\", \"Inspection Date\", \"Violations\", \"ApproxCreationDate\"], axis = 1)\n",
        "df.sample(3)"
      ],
      "execution_count": 7,
      "outputs": [
        {
          "output_type": "execute_result",
          "data": {
            "text/html": [
              "<div>\n",
              "<style scoped>\n",
              "    .dataframe tbody tr th:only-of-type {\n",
              "        vertical-align: middle;\n",
              "    }\n",
              "\n",
              "    .dataframe tbody tr th {\n",
              "        vertical-align: top;\n",
              "    }\n",
              "\n",
              "    .dataframe thead th {\n",
              "        text-align: right;\n",
              "    }\n",
              "</style>\n",
              "<table border=\"1\" class=\"dataframe\">\n",
              "  <thead>\n",
              "    <tr style=\"text-align: right;\">\n",
              "      <th></th>\n",
              "      <th>Facility Type</th>\n",
              "      <th>Risk</th>\n",
              "      <th>Inspection Type</th>\n",
              "      <th>Results</th>\n",
              "      <th>Latitude</th>\n",
              "      <th>Longitude</th>\n",
              "      <th>Year</th>\n",
              "      <th>Month</th>\n",
              "      <th>Weekday</th>\n",
              "      <th>LenViol</th>\n",
              "      <th>TMAX</th>\n",
              "      <th>MeanMaxTemp3Days</th>\n",
              "      <th>DaysInBusiness</th>\n",
              "    </tr>\n",
              "  </thead>\n",
              "  <tbody>\n",
              "    <tr>\n",
              "      <th>1641</th>\n",
              "      <td>school</td>\n",
              "      <td>Risk 1 (High)</td>\n",
              "      <td>canvass</td>\n",
              "      <td>Pass</td>\n",
              "      <td>41.689939</td>\n",
              "      <td>-87.637608</td>\n",
              "      <td>2010</td>\n",
              "      <td>4</td>\n",
              "      <td>1</td>\n",
              "      <td>772</td>\n",
              "      <td>15.6</td>\n",
              "      <td>12.766667</td>\n",
              "      <td>2909.0</td>\n",
              "    </tr>\n",
              "    <tr>\n",
              "      <th>11433</th>\n",
              "      <td>restaurant</td>\n",
              "      <td>Risk 1 (High)</td>\n",
              "      <td>license</td>\n",
              "      <td>Fail</td>\n",
              "      <td>42.012010</td>\n",
              "      <td>-87.674686</td>\n",
              "      <td>2015</td>\n",
              "      <td>11</td>\n",
              "      <td>1</td>\n",
              "      <td>2975</td>\n",
              "      <td>17.2</td>\n",
              "      <td>15.900000</td>\n",
              "      <td>21.0</td>\n",
              "    </tr>\n",
              "    <tr>\n",
              "      <th>109121</th>\n",
              "      <td>grocery store</td>\n",
              "      <td>Risk 2 (Medium)</td>\n",
              "      <td>license</td>\n",
              "      <td>Fail</td>\n",
              "      <td>41.784037</td>\n",
              "      <td>-87.613315</td>\n",
              "      <td>2011</td>\n",
              "      <td>6</td>\n",
              "      <td>3</td>\n",
              "      <td>609</td>\n",
              "      <td>27.2</td>\n",
              "      <td>22.966667</td>\n",
              "      <td>6.0</td>\n",
              "    </tr>\n",
              "  </tbody>\n",
              "</table>\n",
              "</div>"
            ],
            "text/plain": [
              "        Facility Type             Risk  ... MeanMaxTemp3Days DaysInBusiness\n",
              "1641           school    Risk 1 (High)  ...        12.766667         2909.0\n",
              "11433      restaurant    Risk 1 (High)  ...        15.900000           21.0\n",
              "109121  grocery store  Risk 2 (Medium)  ...        22.966667            6.0\n",
              "\n",
              "[3 rows x 13 columns]"
            ]
          },
          "metadata": {
            "tags": []
          },
          "execution_count": 7
        }
      ]
    },
    {
      "cell_type": "markdown",
      "metadata": {
        "id": "ILBPSp6WhzH1",
        "colab_type": "text"
      },
      "source": [
        "### 1.1 Standardization"
      ]
    },
    {
      "cell_type": "markdown",
      "metadata": {
        "id": "jJwKawhQhz5g",
        "colab_type": "text"
      },
      "source": [
        "The first step is to normalise the numerical features :\n",
        "\n",
        "*   Latitude\n",
        "*   Longitude\n",
        "*   LenViol\n",
        "*   TMAX\n",
        "*   MeanMaxTemp3Days\n",
        "*   DaysInBusiness\n"
      ]
    },
    {
      "cell_type": "code",
      "metadata": {
        "id": "pcAjZiLWkVOq",
        "colab_type": "code",
        "outputId": "1abf471f-e76c-4f6d-9b5e-c3921acc4b98",
        "colab": {
          "base_uri": "https://localhost:8080/",
          "height": 114
        }
      },
      "source": [
        "# Work on copy of df\n",
        "df_prep = df[[\"Latitude\", \"Longitude\", \"LenViol\", \"TMAX\", \"MeanMaxTemp3Days\", \"DaysInBusiness\", \"Facility Type\", \"Risk\", \"Inspection Type\", \"Year\", \"Month\", \"Weekday\", \"Results\"]]\n",
        "df_prep.sample(1)"
      ],
      "execution_count": 8,
      "outputs": [
        {
          "output_type": "execute_result",
          "data": {
            "text/html": [
              "<div>\n",
              "<style scoped>\n",
              "    .dataframe tbody tr th:only-of-type {\n",
              "        vertical-align: middle;\n",
              "    }\n",
              "\n",
              "    .dataframe tbody tr th {\n",
              "        vertical-align: top;\n",
              "    }\n",
              "\n",
              "    .dataframe thead th {\n",
              "        text-align: right;\n",
              "    }\n",
              "</style>\n",
              "<table border=\"1\" class=\"dataframe\">\n",
              "  <thead>\n",
              "    <tr style=\"text-align: right;\">\n",
              "      <th></th>\n",
              "      <th>Latitude</th>\n",
              "      <th>Longitude</th>\n",
              "      <th>LenViol</th>\n",
              "      <th>TMAX</th>\n",
              "      <th>MeanMaxTemp3Days</th>\n",
              "      <th>DaysInBusiness</th>\n",
              "      <th>Facility Type</th>\n",
              "      <th>Risk</th>\n",
              "      <th>Inspection Type</th>\n",
              "      <th>Year</th>\n",
              "      <th>Month</th>\n",
              "      <th>Weekday</th>\n",
              "      <th>Results</th>\n",
              "    </tr>\n",
              "  </thead>\n",
              "  <tbody>\n",
              "    <tr>\n",
              "      <th>15106</th>\n",
              "      <td>41.913601</td>\n",
              "      <td>-87.648209</td>\n",
              "      <td>809</td>\n",
              "      <td>5.0</td>\n",
              "      <td>10.4</td>\n",
              "      <td>3427.0</td>\n",
              "      <td>restaurant</td>\n",
              "      <td>Risk 1 (High)</td>\n",
              "      <td>canvass</td>\n",
              "      <td>2012</td>\n",
              "      <td>12</td>\n",
              "      <td>0</td>\n",
              "      <td>Pass</td>\n",
              "    </tr>\n",
              "  </tbody>\n",
              "</table>\n",
              "</div>"
            ],
            "text/plain": [
              "        Latitude  Longitude  LenViol  TMAX  ...  Year  Month Weekday Results\n",
              "15106  41.913601 -87.648209      809   5.0  ...  2012     12       0    Pass\n",
              "\n",
              "[1 rows x 13 columns]"
            ]
          },
          "metadata": {
            "tags": []
          },
          "execution_count": 8
        }
      ]
    },
    {
      "cell_type": "code",
      "metadata": {
        "id": "jbYwd1KgihN3",
        "colab_type": "code",
        "outputId": "97823343-da33-4a00-dca3-9177d1a0d06a",
        "colab": {
          "base_uri": "https://localhost:8080/",
          "height": 131
        }
      },
      "source": [
        "# Standardization\n",
        "from sklearn.preprocessing import StandardScaler\n",
        "standardize = StandardScaler()\n",
        "standardize.fit(df_prep.iloc[:, :6])\n",
        "df_prep.iloc[:, :6] = standardize.transform(df_prep.iloc[:, :6])\n",
        "df_prep.sample(1)"
      ],
      "execution_count": 9,
      "outputs": [
        {
          "output_type": "execute_result",
          "data": {
            "text/html": [
              "<div>\n",
              "<style scoped>\n",
              "    .dataframe tbody tr th:only-of-type {\n",
              "        vertical-align: middle;\n",
              "    }\n",
              "\n",
              "    .dataframe tbody tr th {\n",
              "        vertical-align: top;\n",
              "    }\n",
              "\n",
              "    .dataframe thead th {\n",
              "        text-align: right;\n",
              "    }\n",
              "</style>\n",
              "<table border=\"1\" class=\"dataframe\">\n",
              "  <thead>\n",
              "    <tr style=\"text-align: right;\">\n",
              "      <th></th>\n",
              "      <th>Latitude</th>\n",
              "      <th>Longitude</th>\n",
              "      <th>LenViol</th>\n",
              "      <th>TMAX</th>\n",
              "      <th>MeanMaxTemp3Days</th>\n",
              "      <th>DaysInBusiness</th>\n",
              "      <th>Facility Type</th>\n",
              "      <th>Risk</th>\n",
              "      <th>Inspection Type</th>\n",
              "      <th>Year</th>\n",
              "      <th>Month</th>\n",
              "      <th>Weekday</th>\n",
              "      <th>Results</th>\n",
              "    </tr>\n",
              "  </thead>\n",
              "  <tbody>\n",
              "    <tr>\n",
              "      <th>112748</th>\n",
              "      <td>-0.011176</td>\n",
              "      <td>-0.824876</td>\n",
              "      <td>0.023469</td>\n",
              "      <td>-1.835672</td>\n",
              "      <td>-1.47932</td>\n",
              "      <td>0.151624</td>\n",
              "      <td>restaurant</td>\n",
              "      <td>Risk 2 (Medium)</td>\n",
              "      <td>suspected food poisoning re-inspection</td>\n",
              "      <td>2012</td>\n",
              "      <td>1</td>\n",
              "      <td>4</td>\n",
              "      <td>Pass</td>\n",
              "    </tr>\n",
              "  </tbody>\n",
              "</table>\n",
              "</div>"
            ],
            "text/plain": [
              "        Latitude  Longitude   LenViol      TMAX  ...  Year  Month Weekday Results\n",
              "112748 -0.011176  -0.824876  0.023469 -1.835672  ...  2012      1       4    Pass\n",
              "\n",
              "[1 rows x 13 columns]"
            ]
          },
          "metadata": {
            "tags": []
          },
          "execution_count": 9
        }
      ]
    },
    {
      "cell_type": "markdown",
      "metadata": {
        "id": "0VnOrGpOqEgT",
        "colab_type": "text"
      },
      "source": [
        "### 1.2 Encoding"
      ]
    },
    {
      "cell_type": "markdown",
      "metadata": {
        "id": "FGWcyPsEqJjz",
        "colab_type": "text"
      },
      "source": [
        "The following features need to be encoded :\n",
        "\n",
        "*   Facility Type\n",
        "*   Risk\n",
        "*   Inspection Type\n",
        "*   Year\n",
        "*   Month\n",
        "*   Weekday\n"
      ]
    },
    {
      "cell_type": "code",
      "metadata": {
        "id": "hucrFAgFp5rT",
        "colab_type": "code",
        "colab": {}
      },
      "source": [
        "# Encoding\n",
        "from sklearn.preprocessing import LabelEncoder, OneHotEncoder\n",
        "\n",
        "#One hot encoding\n",
        "one_hot = OneHotEncoder(categories=\"auto\")\n",
        "cat_to_onehot = one_hot.fit_transform(df_prep[[\"Facility Type\", \"Risk\", \"Inspection Type\", \"Year\", \"Month\", \"Weekday\"]]).toarray()\n",
        "cat_to_onehot = pd.DataFrame(cat_to_onehot)\n",
        "\n",
        "# Generate X\n",
        "feature_names = [\"Latitude\", \"Longitude\", \"LenViol\", \"TMAX\", \"MeanMaxTemp3Days\", \"DaysInBusiness\"]\n",
        "X = df_prep[feature_names]\n",
        "X = pd.concat((X, cat_to_onehot), axis=1)\n",
        "\n",
        "# Generate y\n",
        "lab_encoder = LabelEncoder()\n",
        "cat_to_label = lab_encoder.fit_transform(df_prep[\"Results\"])\n",
        "Y = pd.DataFrame(cat_to_label)"
      ],
      "execution_count": 0,
      "outputs": []
    },
    {
      "cell_type": "code",
      "metadata": {
        "id": "FgBBrNE9sGt9",
        "colab_type": "code",
        "outputId": "4c1ff6d2-c66f-4a30-a393-4ccf9513e2fd",
        "colab": {
          "base_uri": "https://localhost:8080/",
          "height": 99
        }
      },
      "source": [
        "X.sample(1)"
      ],
      "execution_count": 11,
      "outputs": [
        {
          "output_type": "execute_result",
          "data": {
            "text/html": [
              "<div>\n",
              "<style scoped>\n",
              "    .dataframe tbody tr th:only-of-type {\n",
              "        vertical-align: middle;\n",
              "    }\n",
              "\n",
              "    .dataframe tbody tr th {\n",
              "        vertical-align: top;\n",
              "    }\n",
              "\n",
              "    .dataframe thead th {\n",
              "        text-align: right;\n",
              "    }\n",
              "</style>\n",
              "<table border=\"1\" class=\"dataframe\">\n",
              "  <thead>\n",
              "    <tr style=\"text-align: right;\">\n",
              "      <th></th>\n",
              "      <th>Latitude</th>\n",
              "      <th>Longitude</th>\n",
              "      <th>LenViol</th>\n",
              "      <th>TMAX</th>\n",
              "      <th>MeanMaxTemp3Days</th>\n",
              "      <th>DaysInBusiness</th>\n",
              "      <th>0</th>\n",
              "      <th>1</th>\n",
              "      <th>2</th>\n",
              "      <th>3</th>\n",
              "      <th>4</th>\n",
              "      <th>5</th>\n",
              "      <th>6</th>\n",
              "      <th>7</th>\n",
              "      <th>8</th>\n",
              "      <th>9</th>\n",
              "      <th>10</th>\n",
              "      <th>11</th>\n",
              "      <th>12</th>\n",
              "      <th>13</th>\n",
              "      <th>14</th>\n",
              "      <th>15</th>\n",
              "      <th>16</th>\n",
              "      <th>17</th>\n",
              "      <th>18</th>\n",
              "      <th>19</th>\n",
              "      <th>20</th>\n",
              "      <th>21</th>\n",
              "      <th>22</th>\n",
              "      <th>23</th>\n",
              "      <th>24</th>\n",
              "      <th>25</th>\n",
              "      <th>26</th>\n",
              "      <th>27</th>\n",
              "      <th>28</th>\n",
              "      <th>29</th>\n",
              "      <th>30</th>\n",
              "      <th>31</th>\n",
              "      <th>32</th>\n",
              "      <th>33</th>\n",
              "      <th>34</th>\n",
              "      <th>35</th>\n",
              "      <th>36</th>\n",
              "      <th>37</th>\n",
              "      <th>38</th>\n",
              "      <th>39</th>\n",
              "      <th>40</th>\n",
              "      <th>41</th>\n",
              "      <th>42</th>\n",
              "      <th>43</th>\n",
              "      <th>44</th>\n",
              "      <th>45</th>\n",
              "      <th>46</th>\n",
              "      <th>47</th>\n",
              "      <th>48</th>\n",
              "      <th>49</th>\n",
              "      <th>50</th>\n",
              "      <th>51</th>\n",
              "      <th>52</th>\n",
              "      <th>53</th>\n",
              "      <th>54</th>\n",
              "      <th>55</th>\n",
              "      <th>56</th>\n",
              "      <th>57</th>\n",
              "      <th>58</th>\n",
              "      <th>59</th>\n",
              "      <th>60</th>\n",
              "      <th>61</th>\n",
              "      <th>62</th>\n",
              "      <th>63</th>\n",
              "      <th>64</th>\n",
              "      <th>65</th>\n",
              "      <th>66</th>\n",
              "      <th>67</th>\n",
              "    </tr>\n",
              "  </thead>\n",
              "  <tbody>\n",
              "    <tr>\n",
              "      <th>82803</th>\n",
              "      <td>-1.140445</td>\n",
              "      <td>-1.091196</td>\n",
              "      <td>-1.005143</td>\n",
              "      <td>0.838906</td>\n",
              "      <td>1.029382</td>\n",
              "      <td>-0.488405</td>\n",
              "      <td>0.0</td>\n",
              "      <td>0.0</td>\n",
              "      <td>0.0</td>\n",
              "      <td>0.0</td>\n",
              "      <td>0.0</td>\n",
              "      <td>0.0</td>\n",
              "      <td>0.0</td>\n",
              "      <td>0.0</td>\n",
              "      <td>0.0</td>\n",
              "      <td>0.0</td>\n",
              "      <td>0.0</td>\n",
              "      <td>0.0</td>\n",
              "      <td>0.0</td>\n",
              "      <td>0.0</td>\n",
              "      <td>0.0</td>\n",
              "      <td>1.0</td>\n",
              "      <td>0.0</td>\n",
              "      <td>0.0</td>\n",
              "      <td>0.0</td>\n",
              "      <td>0.0</td>\n",
              "      <td>0.0</td>\n",
              "      <td>0.0</td>\n",
              "      <td>1.0</td>\n",
              "      <td>0.0</td>\n",
              "      <td>1.0</td>\n",
              "      <td>0.0</td>\n",
              "      <td>0.0</td>\n",
              "      <td>0.0</td>\n",
              "      <td>0.0</td>\n",
              "      <td>0.0</td>\n",
              "      <td>0.0</td>\n",
              "      <td>0.0</td>\n",
              "      <td>0.0</td>\n",
              "      <td>0.0</td>\n",
              "      <td>0.0</td>\n",
              "      <td>0.0</td>\n",
              "      <td>0.0</td>\n",
              "      <td>0.0</td>\n",
              "      <td>0.0</td>\n",
              "      <td>0.0</td>\n",
              "      <td>0.0</td>\n",
              "      <td>0.0</td>\n",
              "      <td>0.0</td>\n",
              "      <td>0.0</td>\n",
              "      <td>0.0</td>\n",
              "      <td>1.0</td>\n",
              "      <td>0.0</td>\n",
              "      <td>0.0</td>\n",
              "      <td>0.0</td>\n",
              "      <td>0.0</td>\n",
              "      <td>0.0</td>\n",
              "      <td>0.0</td>\n",
              "      <td>0.0</td>\n",
              "      <td>0.0</td>\n",
              "      <td>0.0</td>\n",
              "      <td>1.0</td>\n",
              "      <td>0.0</td>\n",
              "      <td>0.0</td>\n",
              "      <td>0.0</td>\n",
              "      <td>0.0</td>\n",
              "      <td>0.0</td>\n",
              "      <td>0.0</td>\n",
              "      <td>0.0</td>\n",
              "      <td>0.0</td>\n",
              "      <td>1.0</td>\n",
              "      <td>0.0</td>\n",
              "      <td>0.0</td>\n",
              "      <td>0.0</td>\n",
              "    </tr>\n",
              "  </tbody>\n",
              "</table>\n",
              "</div>"
            ],
            "text/plain": [
              "       Latitude  Longitude   LenViol      TMAX  ...   64   65   66   67\n",
              "82803 -1.140445  -1.091196 -1.005143  0.838906  ...  1.0  0.0  0.0  0.0\n",
              "\n",
              "[1 rows x 74 columns]"
            ]
          },
          "metadata": {
            "tags": []
          },
          "execution_count": 11
        }
      ]
    },
    {
      "cell_type": "code",
      "metadata": {
        "id": "WGX3nUWwsLOo",
        "colab_type": "code",
        "outputId": "a03a3478-e325-4ec1-90a6-06ff35f915b6",
        "colab": {
          "base_uri": "https://localhost:8080/",
          "height": 202
        }
      },
      "source": [
        "Y.sample(5)"
      ],
      "execution_count": 12,
      "outputs": [
        {
          "output_type": "execute_result",
          "data": {
            "text/html": [
              "<div>\n",
              "<style scoped>\n",
              "    .dataframe tbody tr th:only-of-type {\n",
              "        vertical-align: middle;\n",
              "    }\n",
              "\n",
              "    .dataframe tbody tr th {\n",
              "        vertical-align: top;\n",
              "    }\n",
              "\n",
              "    .dataframe thead th {\n",
              "        text-align: right;\n",
              "    }\n",
              "</style>\n",
              "<table border=\"1\" class=\"dataframe\">\n",
              "  <thead>\n",
              "    <tr style=\"text-align: right;\">\n",
              "      <th></th>\n",
              "      <th>0</th>\n",
              "    </tr>\n",
              "  </thead>\n",
              "  <tbody>\n",
              "    <tr>\n",
              "      <th>57151</th>\n",
              "      <td>1</td>\n",
              "    </tr>\n",
              "    <tr>\n",
              "      <th>106698</th>\n",
              "      <td>1</td>\n",
              "    </tr>\n",
              "    <tr>\n",
              "      <th>73545</th>\n",
              "      <td>1</td>\n",
              "    </tr>\n",
              "    <tr>\n",
              "      <th>56024</th>\n",
              "      <td>0</td>\n",
              "    </tr>\n",
              "    <tr>\n",
              "      <th>95643</th>\n",
              "      <td>1</td>\n",
              "    </tr>\n",
              "  </tbody>\n",
              "</table>\n",
              "</div>"
            ],
            "text/plain": [
              "        0\n",
              "57151   1\n",
              "106698  1\n",
              "73545   1\n",
              "56024   0\n",
              "95643   1"
            ]
          },
          "metadata": {
            "tags": []
          },
          "execution_count": 12
        }
      ]
    },
    {
      "cell_type": "markdown",
      "metadata": {
        "id": "x-lav9cusWEM",
        "colab_type": "text"
      },
      "source": [
        "### 1.3 Splitting the data set"
      ]
    },
    {
      "cell_type": "code",
      "metadata": {
        "id": "9_DY5K9MsOk8",
        "colab_type": "code",
        "colab": {}
      },
      "source": [
        "# Split train/test sets\n",
        "from sklearn.model_selection import train_test_split\n",
        "X_train, X_test, Y_train, Y_test = train_test_split(X, Y, test_size=0.2, random_state=72)"
      ],
      "execution_count": 0,
      "outputs": []
    },
    {
      "cell_type": "markdown",
      "metadata": {
        "id": "aHgYac-1t-Ik",
        "colab_type": "text"
      },
      "source": [
        "# 2. Prediction"
      ]
    },
    {
      "cell_type": "markdown",
      "metadata": {
        "id": "VhYhoTXOuSQL",
        "colab_type": "text"
      },
      "source": [
        "### 2.1 Base rate"
      ]
    },
    {
      "cell_type": "code",
      "metadata": {
        "id": "leWDl33wtXNa",
        "colab_type": "code",
        "outputId": "101a6f92-c922-4b7b-c473-ada73a12a741",
        "colab": {
          "base_uri": "https://localhost:8080/",
          "height": 35
        }
      },
      "source": [
        "# The base rest is defined as : size(most frequent class)/size(dataset)\n",
        "failCount = df[df[\"Results\"] == \"Fail\"].shape[0]\n",
        "passCount = df[df[\"Results\"] == \"Pass\"].shape[0]\n",
        "\n",
        "if passCount > failCount :\n",
        "  print(\"The most frequent class is \" + \"'Pass' (\" + str(passCount) + \") VS 'Fail' (\" + str(failCount)+ \").\")\n",
        "else :\n",
        "   print(\"The most frequent class is \" + \"'Fail' (\" + str(failCount) + \") VS 'Pass' (\" + str(passCount)+ \").\")"
      ],
      "execution_count": 14,
      "outputs": [
        {
          "output_type": "stream",
          "text": [
            "The most frequent class is 'Pass' (92447) VS 'Fail' (30148).\n"
          ],
          "name": "stdout"
        }
      ]
    },
    {
      "cell_type": "code",
      "metadata": {
        "id": "LNFuDhxYtGeV",
        "colab_type": "code",
        "outputId": "11c72dd1-a117-40b4-cb7b-81e2d754ffa5",
        "colab": {
          "base_uri": "https://localhost:8080/",
          "height": 35
        }
      },
      "source": [
        "# Base rate\n",
        "br = max(passCount, failCount)/(passCount + failCount)\n",
        "\n",
        "print(\"The base rate is : \" + str(br))"
      ],
      "execution_count": 15,
      "outputs": [
        {
          "output_type": "stream",
          "text": [
            "The base rate is : 0.754084587462784\n"
          ],
          "name": "stdout"
        }
      ]
    },
    {
      "cell_type": "markdown",
      "metadata": {
        "id": "ZrmO4gI2uDlr",
        "colab_type": "text"
      },
      "source": [
        "### 2.2 Logistic Regression"
      ]
    },
    {
      "cell_type": "code",
      "metadata": {
        "id": "Nebkb_eAsmI8",
        "colab_type": "code",
        "outputId": "58f8a3b2-b382-4e5a-fc58-ca953e83c358",
        "colab": {
          "base_uri": "https://localhost:8080/",
          "height": 159
        }
      },
      "source": [
        "from sklearn.linear_model import LogisticRegressionCV\n",
        "\n",
        "# Logistic regression with cross-validation\n",
        "LR = LogisticRegressionCV(solver='lbfgs', cv=5, max_iter=1000)\n",
        "LR.fit(X_train, Y_train)"
      ],
      "execution_count": 16,
      "outputs": [
        {
          "output_type": "stream",
          "text": [
            "/usr/local/lib/python3.6/dist-packages/sklearn/utils/validation.py:724: DataConversionWarning: A column-vector y was passed when a 1d array was expected. Please change the shape of y to (n_samples, ), for example using ravel().\n",
            "  y = column_or_1d(y, warn=True)\n"
          ],
          "name": "stderr"
        },
        {
          "output_type": "execute_result",
          "data": {
            "text/plain": [
              "LogisticRegressionCV(Cs=10, class_weight=None, cv=5, dual=False,\n",
              "                     fit_intercept=True, intercept_scaling=1.0, l1_ratios=None,\n",
              "                     max_iter=1000, multi_class='warn', n_jobs=None,\n",
              "                     penalty='l2', random_state=None, refit=True, scoring=None,\n",
              "                     solver='lbfgs', tol=0.0001, verbose=0)"
            ]
          },
          "metadata": {
            "tags": []
          },
          "execution_count": 16
        }
      ]
    },
    {
      "cell_type": "code",
      "metadata": {
        "id": "6Z3AaYchszju",
        "colab_type": "code",
        "outputId": "53fa6ee0-16ce-4b35-b73d-938f76bbebb9",
        "colab": {
          "base_uri": "https://localhost:8080/",
          "height": 35
        }
      },
      "source": [
        "# Train accuracy\n",
        "LR.score(X_train,Y_train)"
      ],
      "execution_count": 17,
      "outputs": [
        {
          "output_type": "execute_result",
          "data": {
            "text/plain": [
              "0.8465169868265426"
            ]
          },
          "metadata": {
            "tags": []
          },
          "execution_count": 17
        }
      ]
    },
    {
      "cell_type": "code",
      "metadata": {
        "id": "dgAH245ws6aX",
        "colab_type": "code",
        "outputId": "d7fcc8e4-b26d-401a-8f05-6f621f365295",
        "colab": {
          "base_uri": "https://localhost:8080/",
          "height": 35
        }
      },
      "source": [
        "# Test accuracy\n",
        "LR.score(X_test, Y_test)"
      ],
      "execution_count": 18,
      "outputs": [
        {
          "output_type": "execute_result",
          "data": {
            "text/plain": [
              "0.8419185121742322"
            ]
          },
          "metadata": {
            "tags": []
          },
          "execution_count": 18
        }
      ]
    },
    {
      "cell_type": "code",
      "metadata": {
        "id": "jZj2xdtn52EW",
        "colab_type": "code",
        "colab": {}
      },
      "source": [
        "# Because the name of the column will disappear after one-hot encoding, we rename the dataframe\n",
        "X.columns=['Latitude','Longitude','LenViol','TMAX', 'MeanMaxTemp3Days','DaysInBusiness','bakery', 'catering','childrens services facility','daycare (2 - 6 years)', 'daycare (under 2 years)','daycare above and under 2 years', 'daycare combo 1586',\n",
        "        'gas station', 'golden diner', 'grocery store', 'hospital',\n",
        "        'liquor', 'long term care', 'mobile food dispenser',\n",
        "        'mobile food preparer', 'restaurant', 'school',\n",
        "        'shared kitchen user (long term)', 'special event', 'tavern',\n",
        "        'wholesale','Risk 1 (High)', 'Risk 2 (Medium)', 'Risk 3 (Low)','canvass', 'canvass re-inspection', 'complaint',\n",
        "        'complaint re-inspection', 'complaint-fire', 'consultation',\n",
        "        'license', 'license re-inspection', 'license-task force',\n",
        "        'recent inspection', 'short form complaint',\n",
        "        'short form fire-complaint', 'suspected food poisoning',\n",
        "        'suspected food poisoning re-inspection', 'tag removal',\n",
        "        'task force liquor 1475',2010, 2011, 2012, 2013, 2014, 2015, 2016, 2017, 2018,\"m1\",\"m2\",\"m3\",\"m4\",\"m5\",\"m6\",\"m7\",\"m8\",\"m9\",\"m10\",\"m11\",\"m12\",0, 1, 2, 3, 4, 5, 6]\n"
      ],
      "execution_count": 0,
      "outputs": []
    },
    {
      "cell_type": "markdown",
      "metadata": {
        "id": "9piWIENfRPr5",
        "colab_type": "text"
      },
      "source": [
        "### 2.3 Find the important variables by Logistic Regression's coefficient"
      ]
    },
    {
      "cell_type": "code",
      "metadata": {
        "id": "LArZgURP5FL9",
        "colab_type": "code",
        "outputId": "beb536a6-735e-43aa-ca23-ee174c3012b1",
        "colab": {
          "base_uri": "https://localhost:8080/",
          "height": 191
        }
      },
      "source": [
        "coef=LR.coef_[0]\n",
        "abs_coef=list(abs(coef))\n",
        "abs_coef.sort(reverse=True)\n",
        "coef_pos=list(abs(coef))\n",
        "abs_coef[:5]\n",
        "for i in range(5):\n",
        "  num=coef_pos.index(abs_coef[i])\n",
        "  print(X.columns[num])\n",
        "  print(coef[num])"
      ],
      "execution_count": 20,
      "outputs": [
        {
          "output_type": "stream",
          "text": [
            "license-task force\n",
            "-2.732689057318292\n",
            "task force liquor 1475\n",
            "-2.484110608117668\n",
            "suspected food poisoning re-inspection\n",
            "2.3259483424428318\n",
            "tag removal\n",
            "2.00960553873777\n",
            "LenViol\n",
            "-1.767820822222291\n"
          ],
          "name": "stdout"
        }
      ]
    },
    {
      "cell_type": "markdown",
      "metadata": {
        "id": "WuHAIMcNR910",
        "colab_type": "text"
      },
      "source": [
        "### 2.4 Feature selection using Randomforest and dimension reduction using PCA"
      ]
    },
    {
      "cell_type": "code",
      "metadata": {
        "id": "0pGNxCrUiuPa",
        "colab_type": "code",
        "colab": {}
      },
      "source": [
        "import warnings\n",
        "warnings.filterwarnings(action='ignore')"
      ],
      "execution_count": 0,
      "outputs": []
    },
    {
      "cell_type": "code",
      "metadata": {
        "id": "ceoPEdSl4Z92",
        "colab_type": "code",
        "colab": {}
      },
      "source": [
        "from sklearn.ensemble import RandomForestClassifier\n",
        "from sklearn.feature_selection import SelectFromModel\n",
        "from sklearn.decomposition import PCA\n",
        "\n",
        "clf = RandomForestClassifier()\n",
        "clf = clf.fit(X,Y)\n",
        "thre=0.008\n",
        "model = SelectFromModel(clf,prefit=True,threshold=thre)\n",
        "x_select_ran = pd.DataFrame(model.transform(X))\n",
        "\n",
        "pca = PCA(n_components=20, svd_solver='auto')\n",
        "pca.fit(X)\n",
        "x_select_pca=pd.DataFrame(pca.transform(X))"
      ],
      "execution_count": 0,
      "outputs": []
    },
    {
      "cell_type": "markdown",
      "metadata": {
        "id": "XmI9M0xpSNJg",
        "colab_type": "text"
      },
      "source": [
        "### 2.5 Compare the accuracy score between algorithms"
      ]
    },
    {
      "cell_type": "code",
      "metadata": {
        "id": "wgEg9RQCMyQu",
        "colab_type": "code",
        "colab": {
          "base_uri": "https://localhost:8080/",
          "height": 35
        },
        "outputId": "0964126f-9354-4ce5-cba2-5ab10356c271"
      },
      "source": [
        "%tensorflow_version 2.x\n",
        "from sklearn.svm import SVC\n",
        "from sklearn import tree,preprocessing\n",
        "from sklearn.linear_model import LogisticRegression,Lasso,Ridge\n",
        "from sklearn.ensemble import GradientBoostingClassifier,VotingClassifier,AdaBoostClassifier\n",
        "from sklearn.discriminant_analysis import QuadraticDiscriminantAnalysis\n",
        "import xgboost as xgb\n",
        "import numpy as np\n",
        "from sklearn.model_selection import cross_val_score,KFold,GridSearchCV\n",
        "from sklearn.neighbors import KNeighborsClassifier\n",
        "from sklearn.naive_bayes import GaussianNB\n",
        "from sklearn.neural_network import MLPClassifier\n",
        "from keras.models import Sequential\n",
        "from keras import layers,optimizers\n",
        "from keras.wrappers import scikit_learn\n",
        "\n",
        "\n",
        "kf = KFold(n_splits=5, random_state=None, shuffle=True)\n",
        "out=[]\n",
        "\n",
        "def gbc(x,y):\n",
        "    clf = GradientBoostingClassifier()\n",
        "    scores = cross_val_score(clf,x,y,cv=kf)\n",
        "    out.append(round(scores.mean(),3))\n",
        "    \n",
        "def ada(x,y):\n",
        "    clf = AdaBoostClassifier()\n",
        "    scores = cross_val_score(clf,x,y,cv=kf)\n",
        "    out.append(round(scores.mean(),3))\n",
        "    \n",
        "def qda(x,y):\n",
        "    clf=QuadraticDiscriminantAnalysis()\n",
        "    scores = cross_val_score(clf,x,y,cv=kf)\n",
        "    out.append(round(scores.mean(),3))\n",
        "    \n",
        "def mlp(x,y):\n",
        "    mlp=MLPClassifier()\n",
        "    scores = cross_val_score(mlp,x,y,cv=kf)\n",
        "    out.append(round(scores.mean(),3))\n",
        "    \n",
        "def bayes(x,y):\n",
        "    clf = GaussianNB()\n",
        "    scores = cross_val_score(clf,x,y, cv=kf)\n",
        "    out.append(round(scores.mean(),3))\n",
        "    \n",
        "def knn(x,y):\n",
        "    neigh = KNeighborsClassifier()\n",
        "    scores = cross_val_score(neigh,x,y, cv=kf)\n",
        "    out.append(round(scores.mean(),3))\n",
        "    \n",
        "def logistic(x,y):\n",
        "    classifier = LogisticRegression()\n",
        "    scores = cross_val_score(classifier,x,y, cv=kf)\n",
        "    out.append(round(scores.mean(),3))\n",
        "    \n",
        "def forest(x,y):\n",
        "    forest = RandomForestClassifier()\n",
        "    scores = cross_val_score(forest,x,y, cv=kf)\n",
        "    out.append(round(scores.mean(),3))\n",
        "    \n",
        "def xg(x,y):\n",
        "    x=np.array(x)\n",
        "    xgbc=xgb.XGBClassifier()\n",
        "    scores = cross_val_score(xgbc, x,y, cv=kf)\n",
        "    out.append(round(scores.mean(),3))\n",
        "    \n",
        "def tr(x,y):\n",
        "    tre = tree.DecisionTreeClassifier()\n",
        "    scores = cross_val_score(tre,x,y, cv=kf)\n",
        "    out.append(round(scores.mean(),3))\n",
        "    \n",
        "def sv(x,y):\n",
        "    clf = SVC()\n",
        "    scores = cross_val_score(clf,x,y, cv=kf)\n",
        "    out.append(round(scores.mean(),3))\n",
        "    \n",
        "def pipe(x,y):\n",
        "    gbc(x,y)\n",
        "    ada(x,y)\n",
        "    qda(x,y)\n",
        "    mlp(x,y)\n",
        "    bayes(x,y)\n",
        "    knn(x,y)\n",
        "    logistic(x,y)\n",
        "    forest(x,y)\n",
        "    xg(x,y)\n",
        "    tr(x,y)\n",
        "    sv(x,y)\n",
        "\n",
        "pipe(X,Y)\n",
        "pipe(x_select_pca,Y)\n",
        "pipe(x_select_ran,Y)"
      ],
      "execution_count": 23,
      "outputs": [
        {
          "output_type": "stream",
          "text": [
            "TensorFlow is already loaded. Please restart the runtime to change versions.\n"
          ],
          "name": "stdout"
        }
      ]
    },
    {
      "cell_type": "code",
      "metadata": {
        "id": "gu5PPQcFMzfd",
        "colab_type": "code",
        "colab": {
          "base_uri": "https://localhost:8080/",
          "height": 732
        },
        "outputId": "c2d628be-52da-4ab6-df8a-d4bf2798d987"
      },
      "source": [
        "# Plot the accuracy comparison\n",
        "\n",
        "from matplotlib.font_manager import FontProperties\n",
        "import matplotlib.pyplot as plt\n",
        "\n",
        "xticks=[\"gbc\",\"ada\",\"qda\",\"mlp\",\"bayes\",\"knn\",\"logistic\",\"forest\",\"xgb\",\"tree\",\"svc\"]\n",
        "x_acc=out[:11]\n",
        "x_select1_acc=out[11:22]\n",
        "x_select2_acc=out[22:]\n",
        "plt.figure(figsize=(10,7),dpi=100,linewidth = 2)\n",
        "plt.plot(xticks,x_acc,'s-',color = 'r', label=\"x\")\n",
        "plt.plot(xticks,x_select1_acc,'o-',color = 'b', label=\"x_select_pca\")\n",
        "plt.plot(xticks,x_select2_acc,'^-',color = 'g', label=\"x_select_ran\")\n",
        "plt.title(\"Accuracy Comparison\", x=0.5, y=1.03,fontsize=40)\n",
        "plt.xticks(fontsize=20)\n",
        "plt.yticks(fontsize=20)\n",
        "plt.xlabel(\"Classifier\", fontsize=30, labelpad = 15)\n",
        "plt.ylabel(\"Input\", fontsize=30, labelpad = 20)\n",
        "plt.legend(loc = \"best\", fontsize=20)\n",
        "plt.show()"
      ],
      "execution_count": 24,
      "outputs": [
        {
          "output_type": "display_data",
          "data": {
            "image/png": "[encoded data removed]",
            "text/plain": [
              "<Figure size 1000x700 with 1 Axes>"
            ]
          },
          "metadata": {
            "tags": []
          }
        }
      ]
    },
    {
      "cell_type": "markdown",
      "metadata": {
        "id": "VQIl25RhSmh_",
        "colab_type": "text"
      },
      "source": [
        "### 2.5 Grid search for GradientBoosting, MLP, Xgboost (We chose due to the plot )"
      ]
    },
    {
      "cell_type": "code",
      "metadata": {
        "id": "y0izBvSqNJZx",
        "colab_type": "code",
        "colab": {
          "base_uri": "https://localhost:8080/",
          "height": 52
        },
        "outputId": "314a5964-7c2a-4689-e706-2ca4f1098e62"
      },
      "source": [
        "#1. Grid search for GradientBoosting (We found the important hyperparameters based on the API documents and we start from default setting then try higher or lower number.)\n",
        "\n",
        "model=GradientBoostingClassifier()\n",
        "param_grid = {'learning_rate':[0.1,0.05,0.2], 'n_estimators':[50,100,200],\"max_depth\":[2,3,4]}\n",
        "grid = GridSearchCV(estimator=model, param_grid=param_grid,cv=kf,scoring=\"accuracy\")\n",
        "grid_result = grid.fit(x_select_ran,Y)\n",
        "print(grid_result.best_params_)\n",
        "print(grid_result.best_score_)"
      ],
      "execution_count": 25,
      "outputs": [
        {
          "output_type": "stream",
          "text": [
            "{'learning_rate': 0.2, 'max_depth': 4, 'n_estimators': 200}\n",
            "0.8539418410212488\n"
          ],
          "name": "stdout"
        }
      ]
    },
    {
      "cell_type": "code",
      "metadata": {
        "id": "N_bciO1ZNm_r",
        "colab_type": "code",
        "colab": {
          "base_uri": "https://localhost:8080/",
          "height": 52
        },
        "outputId": "f051b13c-942c-46a0-b171-50f25c8c90d3"
      },
      "source": [
        "#2. Grid search for GradientBoosting (We found 0.2 for learning rate is the best so we tried bigger number, so does n_estimators.)\n",
        "\n",
        "model=GradientBoostingClassifier()\n",
        "param_grid = {'learning_rate':[0.3,0.2], 'n_estimators':[300,200],\"max_depth\":[2,3,4]}\n",
        "grid = GridSearchCV(estimator=model, param_grid=param_grid,cv=kf,scoring=\"accuracy\")\n",
        "grid_result = grid.fit(x_select_ran,Y)\n",
        "print(grid_result.best_params_)\n",
        "print(grid_result.best_score_)"
      ],
      "execution_count": 26,
      "outputs": [
        {
          "output_type": "stream",
          "text": [
            "{'learning_rate': 0.2, 'max_depth': 4, 'n_estimators': 300}\n",
            "0.8552469513438558\n"
          ],
          "name": "stdout"
        }
      ]
    },
    {
      "cell_type": "code",
      "metadata": {
        "id": "ETpxP_Q2OAK7",
        "colab_type": "code",
        "colab": {
          "base_uri": "https://localhost:8080/",
          "height": 52
        },
        "outputId": "4bde9d07-f145-4859-b171-fef359407f85"
      },
      "source": [
        "#3. Grid search for GradientBoostingClassifier (We searched the learning rate around 0.2 and n_estimators around 200. Futhermore, we tried higher max_depth.)\n",
        "\n",
        "model=GradientBoostingClassifier()\n",
        "param_grid = {'learning_rate':[0.2,0.25,0.15], 'n_estimators':[200,250,150],\"max_depth\":[4,5,6]}\n",
        "grid = GridSearchCV(estimator=model, param_grid=param_grid,cv=kf,scoring=\"accuracy\")\n",
        "grid_result = grid.fit(x_select_ran,Y)\n",
        "print(grid_result.best_params_)\n",
        "print(grid_result.best_score_)"
      ],
      "execution_count": 27,
      "outputs": [
        {
          "output_type": "stream",
          "text": [
            "{'learning_rate': 0.15, 'max_depth': 6, 'n_estimators': 150}\n",
            "0.8562013132672621\n"
          ],
          "name": "stdout"
        }
      ]
    },
    {
      "cell_type": "code",
      "metadata": {
        "id": "6MN5R7SwclTw",
        "colab_type": "code",
        "colab": {
          "base_uri": "https://localhost:8080/",
          "height": 52
        },
        "outputId": "a924b107-76e8-45ad-c836-ccc4c4eee658"
      },
      "source": [
        "#1. Grid search for MLPClassifier (We found the important hyperparameters based on the API documents and we start from default setting then try higher or lower number.)\n",
        "\n",
        "model=MLPClassifier()\n",
        "param_grid = {\"hidden_layer_sizes\":((200,),(100,),(50,))}\n",
        "grid = GridSearchCV(estimator=model, param_grid=param_grid,cv=kf,scoring=\"accuracy\")\n",
        "grid_result = grid.fit(x_select_ran,Y)\n",
        "print(grid_result.best_params_)\n",
        "print(grid_result.best_score_)"
      ],
      "execution_count": 28,
      "outputs": [
        {
          "output_type": "stream",
          "text": [
            "{'hidden_layer_sizes': (100,)}\n",
            "0.8524980627268649\n"
          ],
          "name": "stdout"
        }
      ]
    },
    {
      "cell_type": "code",
      "metadata": {
        "id": "pSBQaZ24nmlg",
        "colab_type": "code",
        "colab": {
          "base_uri": "https://localhost:8080/",
          "height": 52
        },
        "outputId": "c3a1e0fb-4d60-4dcb-d814-4b62881d0f62"
      },
      "source": [
        "#2. Grid search for MLPClassifier (We searched layer_sizes around 100.)\n",
        "\n",
        "model=MLPClassifier()\n",
        "param_grid = {\"hidden_layer_sizes\":((75,),(100,),(150,))}\n",
        "grid = GridSearchCV(estimator=model, param_grid=param_grid,cv=kf,scoring=\"accuracy\")\n",
        "grid_result = grid.fit(x_select_ran,Y)\n",
        "print(grid_result.best_params_)\n",
        "print(grid_result.best_score_)"
      ],
      "execution_count": 29,
      "outputs": [
        {
          "output_type": "stream",
          "text": [
            "{'hidden_layer_sizes': (75,)}\n",
            "0.852669358456707\n"
          ],
          "name": "stdout"
        }
      ]
    },
    {
      "cell_type": "code",
      "metadata": {
        "id": "Il716GLX90vv",
        "colab_type": "code",
        "colab": {
          "base_uri": "https://localhost:8080/",
          "height": 52
        },
        "outputId": "33d385db-8538-415d-ccce-af23564863cb"
      },
      "source": [
        "#1. Grid search for XGBClassifier (We found the important hyperparameters based on the API documents and we start from default setting then try higher or lower number.)\n",
        "\n",
        "model=xgb.XGBClassifier()\n",
        "param_grid = {'eta':[0.2,0.3,0.4], 'max_depth':[6,7,5],\"gamma\":[0,10,100]}\n",
        "grid = GridSearchCV(estimator=model, param_grid=param_grid,cv=kf,scoring=\"accuracy\")\n",
        "grid_result = grid.fit(x_select_ran,Y)\n",
        "print(grid_result.best_params_)\n",
        "print(grid_result.best_score_)"
      ],
      "execution_count": 30,
      "outputs": [
        {
          "output_type": "stream",
          "text": [
            "{'eta': 0.2, 'gamma': 0, 'max_depth': 7}\n",
            "0.855752681593866\n"
          ],
          "name": "stdout"
        }
      ]
    },
    {
      "cell_type": "code",
      "metadata": {
        "id": "kAmLoC3X92Lm",
        "colab_type": "code",
        "colab": {
          "base_uri": "https://localhost:8080/",
          "height": 52
        },
        "outputId": "57fadd1a-c9c9-41b9-a158-1b09a3da15de"
      },
      "source": [
        "#2. Grid search for XGBClassifier (We tried lower eta and higher max_depth.)\n",
        "\n",
        "model=xgb.XGBClassifier()\n",
        "param_grid = {'eta':[0.2,0.1], 'max_depth':[7,8,9]}\n",
        "grid = GridSearchCV(estimator=model, param_grid=param_grid,cv=kf,scoring=\"accuracy\")\n",
        "grid_result = grid.fit(x_select_ran,Y)\n",
        "print(grid_result.best_params_)\n",
        "print(grid_result.best_score_)"
      ],
      "execution_count": 31,
      "outputs": [
        {
          "output_type": "stream",
          "text": [
            "{'eta': 0.2, 'max_depth': 9}\n",
            "0.8577103470777764\n"
          ],
          "name": "stdout"
        }
      ]
    },
    {
      "cell_type": "code",
      "metadata": {
        "id": "bwAAAUwb94Oc",
        "colab_type": "code",
        "colab": {
          "base_uri": "https://localhost:8080/",
          "height": 52
        },
        "outputId": "91e76749-eea5-4011-89da-9455f91aae48"
      },
      "source": [
        "#3. Grid search for XGBClassifier (We tried higher max_depth.)\n",
        "\n",
        "model=xgb.XGBClassifier()\n",
        "param_grid = {'max_depth':[9,10,11]}\n",
        "grid = GridSearchCV(estimator=model, param_grid=param_grid,cv=kf,scoring=\"accuracy\")\n",
        "grid_result = grid.fit(x_select_ran,Y)\n",
        "print(grid_result.best_params_)\n",
        "print(grid_result.best_score_)"
      ],
      "execution_count": 32,
      "outputs": [
        {
          "output_type": "stream",
          "text": [
            "{'max_depth': 9}\n",
            "0.8574901097108365\n"
          ],
          "name": "stdout"
        }
      ]
    },
    {
      "cell_type": "markdown",
      "metadata": {
        "id": "vL-HFs2sVrWY",
        "colab_type": "text"
      },
      "source": [
        "### 2.6 Voting ensemble\n"
      ]
    },
    {
      "cell_type": "code",
      "metadata": {
        "id": "sk6opuo6RyKg",
        "colab_type": "code",
        "colab": {
          "base_uri": "https://localhost:8080/",
          "height": 69
        },
        "outputId": "0942f3a5-37b8-4ef8-b5e9-7a9be9f93fdb"
      },
      "source": [
        "# I personally like to choose the best 3 classifier into vote from try and error.\n",
        "# We used hyper parameter we found in grid search for the 3 classifier.\n",
        "\n",
        "def vote(x,y):\n",
        "    clf1 = xgb.XGBClassifier(max_depth=9)\n",
        "    clf2 = GradientBoostingClassifier(learning_rate=0.15,max_depth=5,n_estimators=200)\n",
        "    clf3 = MLPClassifier(hidden_layer_sizes = (75,))\n",
        "    eclf = VotingClassifier(estimators=[('1', clf1), ('2', clf2), ('3', clf3)])\n",
        "    scores = cross_val_score(eclf,x,y,cv=kf)\n",
        "    print(round(scores.mean(),3))\n",
        "\n",
        "vote(X,Y)\n",
        "vote(x_select_pca,Y)\n",
        "vote(x_select_ran,Y)"
      ],
      "execution_count": 33,
      "outputs": [
        {
          "output_type": "stream",
          "text": [
            "0.862\n",
            "0.855\n",
            "0.856\n"
          ],
          "name": "stdout"
        }
      ]
    },
    {
      "cell_type": "code",
      "metadata": {
        "id": "n55Ya8O2k4Wu",
        "colab_type": "code",
        "colab": {
          "base_uri": "https://localhost:8080/",
          "height": 480
        },
        "outputId": "ee5aa5b0-442a-40ce-fe9c-5c1a504c18e7"
      },
      "source": [
        "#Plot the confusion matrix and print the other scores.\n",
        "#We used x_select_ran rather than X because it is much faster without losing a lot accuracy.\n",
        "\n",
        "from sklearn.metrics import confusion_matrix,f1_score,recall_score,precision_score,average_precision_score\n",
        "import seaborn as sn\n",
        "\n",
        "xtrain,xtest,ytrain,ytest = train_test_split(x_select_ran,Y,test_size=0.2)\n",
        "clf1 = xgb.XGBClassifier(max_depth=9)\n",
        "clf2 = GradientBoostingClassifier(learning_rate=0.15,max_depth=5,n_estimators=200)\n",
        "clf3 = MLPClassifier(hidden_layer_sizes = (75,))\n",
        "classifier = VotingClassifier(estimators=[('1', clf1), ('2', clf2), ('3', clf3)]).fit(xtrain, ytrain)\n",
        "ypred=classifier.predict(xtest)\n",
        "matrix=confusion_matrix(ytest, ypred)\n",
        "plt.figure(figsize = (10,7))\n",
        "sn.heatmap(matrix, annot=True)\n",
        "\n",
        "print(\"The f1 score is: \"+str(f1_score(ytest, ypred)))\n",
        "print(\"The recall score is: \"+str(recall_score(ytest, ypred)))\n",
        "print(\"The precision score is: \"+str(precision_score(ytest, ypred)))"
      ],
      "execution_count": 34,
      "outputs": [
        {
          "output_type": "stream",
          "text": [
            "The f1 score is: 0.9098630701122208\n",
            "The recall score is: 0.9529843101310185\n",
            "The precision score is: 0.8704752524008865\n"
          ],
          "name": "stdout"
        },
        {
          "output_type": "display_data",
          "data": {
            "image/png": "[encoded data removed]",
            "text/plain": [
              "<Figure size 720x504 with 2 Axes>"
            ]
          },
          "metadata": {
            "tags": []
          }
        }
      ]
    },
    {
      "cell_type": "markdown",
      "metadata": {
        "id": "VtA9pIc8Wnig",
        "colab_type": "text"
      },
      "source": [
        "### 2.7 Neural network"
      ]
    },
    {
      "cell_type": "code",
      "metadata": {
        "id": "0b1jzA1mk5WS",
        "colab_type": "code",
        "colab": {
          "base_uri": "https://localhost:8080/",
          "height": 1000
        },
        "outputId": "125f2f0e-9441-4fc1-d9bc-d709ba75c888"
      },
      "source": [
        "#To plot the results of Neural network\n",
        "\n",
        "def plot(history):\n",
        "    plt.style.use('ggplot')\n",
        "    acc = history.history['acc']\n",
        "    val_acc = history.history['val_acc']\n",
        "    loss = history.history['loss']\n",
        "    val_loss = history.history['val_loss']\n",
        "    x = range(1, len(acc) + 1)\n",
        "    plt.figure(figsize=(12, 5))\n",
        "    plt.subplot(1, 2, 1)\n",
        "    plt.plot(x, acc, 'b', label='Training acc')\n",
        "    plt.plot(x, val_acc, 'r', label='Validation acc')\n",
        "    plt.title('Training and validation accuracy')\n",
        "    plt.legend()\n",
        "    plt.subplot(1, 2, 2)\n",
        "    plt.plot(x, loss, 'b', label='Training loss')\n",
        "    plt.plot(x, val_loss, 'r', label='Validation loss')\n",
        "    plt.title('Training and validation loss')\n",
        "    plt.legend()  \n",
        "    \n",
        "#1. Neural network using Keras\n",
        "\n",
        "xtrain,xtest,ytrain,ytest = train_test_split(np.array(x_select_ran),np.array(Y),test_size=0.2)\n",
        "model = Sequential()\n",
        "a=optimizers.Adam(lr=0.001, beta_1=0.9, beta_2=0.999,amsgrad=False)\n",
        "model.add(layers.Dense(10, activation='relu'))\n",
        "model.add(layers.Dense(5, activation='relu'))\n",
        "model.add(layers.Dense(2, activation='relu'))\n",
        "model.add(layers.Dense(1, activation='sigmoid'))\n",
        "model.compile(loss='binary_crossentropy', optimizer=a, metrics=['accuracy'])\n",
        "com = model.fit(xtrain,ytrain,epochs=10,verbose=True,validation_data=(xtest, ytest),batch_size=20)\n",
        "print(model.summary())\n",
        "loss, accuracy = model.evaluate(xtrain, ytrain, verbose=False)\n",
        "print(\"Training Accuracy:  {:.3f}\".format(round(accuracy,2)))\n",
        "loss, accuracy = model.evaluate(xtest, ytest, verbose=False)\n",
        "print(\"Testing Accuracy:  {:.3f}\".format(round(accuracy,2)))\n",
        "plot(com)\n",
        "\n",
        "#2. Try different layers \n",
        "model = Sequential()\n",
        "a=optimizers.Adam(lr=0.001, beta_1=0.9, beta_2=0.999,amsgrad=False)\n",
        "model.add(layers.Dense(100, activation='relu'))\n",
        "model.add(layers.Dense(50, activation='relu'))\n",
        "model.add(layers.Dense(1, activation='sigmoid'))\n",
        "model.compile(loss='binary_crossentropy', optimizer=a, metrics=['accuracy'])\n",
        "com = model.fit(xtrain,ytrain,epochs=10,verbose=True,validation_data=(xtest, ytest),batch_size=20)\n",
        "print(model.summary())\n",
        "loss, accuracy = model.evaluate(xtrain, ytrain, verbose=False)\n",
        "print(\"Training Accuracy:  {:.3f}\".format(round(accuracy,2)))\n",
        "loss, accuracy = model.evaluate(xtest, ytest, verbose=False)\n",
        "print(\"Testing Accuracy:  {:.3f}\".format(round(accuracy,2)))\n",
        "plot(com)"
      ],
      "execution_count": 35,
      "outputs": [
        {
          "output_type": "stream",
          "text": [
            "WARNING:tensorflow:From /usr/local/lib/python3.6/dist-packages/keras/backend/tensorflow_backend.py:66: The name tf.get_default_graph is deprecated. Please use tf.compat.v1.get_default_graph instead.\n",
            "\n",
            "WARNING:tensorflow:From /usr/local/lib/python3.6/dist-packages/keras/optimizers.py:793: The name tf.train.Optimizer is deprecated. Please use tf.compat.v1.train.Optimizer instead.\n",
            "\n",
            "WARNING:tensorflow:From /usr/local/lib/python3.6/dist-packages/keras/backend/tensorflow_backend.py:541: The name tf.placeholder is deprecated. Please use tf.compat.v1.placeholder instead.\n",
            "\n",
            "WARNING:tensorflow:From /usr/local/lib/python3.6/dist-packages/keras/backend/tensorflow_backend.py:4432: The name tf.random_uniform is deprecated. Please use tf.random.uniform instead.\n",
            "\n",
            "WARNING:tensorflow:From /usr/local/lib/python3.6/dist-packages/keras/backend/tensorflow_backend.py:3657: The name tf.log is deprecated. Please use tf.math.log instead.\n",
            "\n",
            "WARNING:tensorflow:From /usr/local/lib/python3.6/dist-packages/tensorflow_core/python/ops/nn_impl.py:183: where (from tensorflow.python.ops.array_ops) is deprecated and will be removed in a future version.\n",
            "Instructions for updating:\n",
            "Use tf.where in 2.0, which has the same broadcast rule as np.where\n",
            "WARNING:tensorflow:From /usr/local/lib/python3.6/dist-packages/keras/backend/tensorflow_backend.py:1033: The name tf.assign_add is deprecated. Please use tf.compat.v1.assign_add instead.\n",
            "\n",
            "WARNING:tensorflow:From /usr/local/lib/python3.6/dist-packages/keras/backend/tensorflow_backend.py:1020: The name tf.assign is deprecated. Please use tf.compat.v1.assign instead.\n",
            "\n",
            "WARNING:tensorflow:From /usr/local/lib/python3.6/dist-packages/keras/backend/tensorflow_backend.py:3005: The name tf.Session is deprecated. Please use tf.compat.v1.Session instead.\n",
            "\n",
            "Train on 98076 samples, validate on 24519 samples\n",
            "Epoch 1/10\n",
            "WARNING:tensorflow:From /usr/local/lib/python3.6/dist-packages/keras/backend/tensorflow_backend.py:190: The name tf.get_default_session is deprecated. Please use tf.compat.v1.get_default_session instead.\n",
            "\n",
            "WARNING:tensorflow:From /usr/local/lib/python3.6/dist-packages/keras/backend/tensorflow_backend.py:197: The name tf.ConfigProto is deprecated. Please use tf.compat.v1.ConfigProto instead.\n",
            "\n",
            "WARNING:tensorflow:From /usr/local/lib/python3.6/dist-packages/keras/backend/tensorflow_backend.py:207: The name tf.global_variables is deprecated. Please use tf.compat.v1.global_variables instead.\n",
            "\n",
            "WARNING:tensorflow:From /usr/local/lib/python3.6/dist-packages/keras/backend/tensorflow_backend.py:216: The name tf.is_variable_initialized is deprecated. Please use tf.compat.v1.is_variable_initialized instead.\n",
            "\n",
            "WARNING:tensorflow:From /usr/local/lib/python3.6/dist-packages/keras/backend/tensorflow_backend.py:223: The name tf.variables_initializer is deprecated. Please use tf.compat.v1.variables_initializer instead.\n",
            "\n",
            "98076/98076 [==============================] - 33s 335us/step - loss: 0.4050 - acc: 0.8296 - val_loss: 0.3854 - val_acc: 0.8392\n",
            "Epoch 2/10\n",
            "98076/98076 [==============================] - 28s 286us/step - loss: 0.3725 - acc: 0.8467 - val_loss: 0.3707 - val_acc: 0.8440\n",
            "Epoch 3/10\n",
            "98076/98076 [==============================] - 28s 286us/step - loss: 0.3643 - acc: 0.8495 - val_loss: 0.3670 - val_acc: 0.8454\n",
            "Epoch 4/10\n",
            "98076/98076 [==============================] - 28s 284us/step - loss: 0.3608 - acc: 0.8504 - val_loss: 0.3633 - val_acc: 0.8453\n",
            "Epoch 5/10\n",
            "98076/98076 [==============================] - 28s 287us/step - loss: 0.3587 - acc: 0.8506 - val_loss: 0.3618 - val_acc: 0.8466\n",
            "Epoch 6/10\n",
            "98076/98076 [==============================] - 28s 284us/step - loss: 0.3574 - acc: 0.8508 - val_loss: 0.3601 - val_acc: 0.8468\n",
            "Epoch 7/10\n",
            "98076/98076 [==============================] - 28s 284us/step - loss: 0.3566 - acc: 0.8511 - val_loss: 0.3599 - val_acc: 0.8457\n",
            "Epoch 8/10\n",
            "98076/98076 [==============================] - 28s 285us/step - loss: 0.3557 - acc: 0.8514 - val_loss: 0.3595 - val_acc: 0.8465\n",
            "Epoch 9/10\n",
            "98076/98076 [==============================] - 29s 293us/step - loss: 0.3551 - acc: 0.8513 - val_loss: 0.3595 - val_acc: 0.8444\n",
            "Epoch 10/10\n",
            "98076/98076 [==============================] - 28s 286us/step - loss: 0.3542 - acc: 0.8519 - val_loss: 0.3608 - val_acc: 0.8447\n",
            "Model: \"sequential_1\"\n",
            "_________________________________________________________________\n",
            "Layer (type)                 Output Shape              Param #   \n",
            "=================================================================\n",
            "dense_1 (Dense)              (None, 10)                170       \n",
            "_________________________________________________________________\n",
            "dense_2 (Dense)              (None, 5)                 55        \n",
            "_________________________________________________________________\n",
            "dense_3 (Dense)              (None, 2)                 12        \n",
            "_________________________________________________________________\n",
            "dense_4 (Dense)              (None, 1)                 3         \n",
            "=================================================================\n",
            "Total params: 240\n",
            "Trainable params: 240\n",
            "Non-trainable params: 0\n",
            "_________________________________________________________________\n",
            "None\n",
            "Training Accuracy:  0.850\n",
            "Testing Accuracy:  0.840\n",
            "Train on 98076 samples, validate on 24519 samples\n",
            "Epoch 1/10\n",
            "98076/98076 [==============================] - 27s 272us/step - loss: 0.3654 - acc: 0.8470 - val_loss: 0.3585 - val_acc: 0.8463\n",
            "Epoch 2/10\n",
            "98076/98076 [==============================] - 27s 271us/step - loss: 0.3540 - acc: 0.8517 - val_loss: 0.3556 - val_acc: 0.8473\n",
            "Epoch 3/10\n",
            "98076/98076 [==============================] - 26s 269us/step - loss: 0.3505 - acc: 0.8531 - val_loss: 0.3515 - val_acc: 0.8484\n",
            "Epoch 4/10\n",
            "98076/98076 [==============================] - 26s 269us/step - loss: 0.3470 - acc: 0.8537 - val_loss: 0.3504 - val_acc: 0.8479\n",
            "Epoch 5/10\n",
            "98076/98076 [==============================] - 26s 265us/step - loss: 0.3444 - acc: 0.8545 - val_loss: 0.3497 - val_acc: 0.8499\n",
            "Epoch 6/10\n",
            "98076/98076 [==============================] - 26s 267us/step - loss: 0.3420 - acc: 0.8551 - val_loss: 0.3472 - val_acc: 0.8477\n",
            "Epoch 7/10\n",
            "98076/98076 [==============================] - 27s 271us/step - loss: 0.3401 - acc: 0.8561 - val_loss: 0.3470 - val_acc: 0.8479\n",
            "Epoch 8/10\n",
            "98076/98076 [==============================] - 27s 271us/step - loss: 0.3386 - acc: 0.8559 - val_loss: 0.3464 - val_acc: 0.8484\n",
            "Epoch 9/10\n",
            "98076/98076 [==============================] - 26s 269us/step - loss: 0.3376 - acc: 0.8567 - val_loss: 0.3512 - val_acc: 0.8472\n",
            "Epoch 10/10\n",
            "98076/98076 [==============================] - 27s 275us/step - loss: 0.3369 - acc: 0.8568 - val_loss: 0.3462 - val_acc: 0.8493\n",
            "Model: \"sequential_2\"\n",
            "_________________________________________________________________\n",
            "Layer (type)                 Output Shape              Param #   \n",
            "=================================================================\n",
            "dense_5 (Dense)              (None, 100)               1700      \n",
            "_________________________________________________________________\n",
            "dense_6 (Dense)              (None, 50)                5050      \n",
            "_________________________________________________________________\n",
            "dense_7 (Dense)              (None, 1)                 51        \n",
            "=================================================================\n",
            "Total params: 6,801\n",
            "Trainable params: 6,801\n",
            "Non-trainable params: 0\n",
            "_________________________________________________________________\n",
            "None\n",
            "Training Accuracy:  0.860\n",
            "Testing Accuracy:  0.850\n"
          ],
          "name": "stdout"
        },
        {
          "output_type": "display_data",
          "data": {
            "image/png": "[encoded data removed]",
            "text/plain": [
              "<Figure size 864x360 with 2 Axes>"
            ]
          },
          "metadata": {
            "tags": []
          }
        },
        {
          "output_type": "display_data",
          "data": {
            "image/png": "[encoded data removed]",
            "text/plain": [
              "<Figure size 864x360 with 2 Axes>"
            ]
          },
          "metadata": {
            "tags": []
          }
        }
      ]
    }
  ]
}