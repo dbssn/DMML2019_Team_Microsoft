{
  "nbformat": 4,
  "nbformat_minor": 0,
  "metadata": {
    "colab": {
      "name": "0_data_cleaning.ipynb",
      "provenance": [],
      "collapsed_sections": []
    },
    "kernelspec": {
      "name": "python3",
      "display_name": "Python 3"
    },
    "accelerator": "GPU"
  },
  "cells": [
    {
      "cell_type": "markdown",
      "metadata": {
        "id": "lOdEHWpnSJyg",
        "colab_type": "text"
      },
      "source": [
        "# **0. Imports**"
      ]
    },
    {
      "cell_type": "code",
      "metadata": {
        "id": "rxaKm_x9koOl",
        "colab_type": "code",
        "colab": {}
      },
      "source": [
        "# Imports\n",
        "import pandas as pd\n",
        "import matplotlib\n",
        "import matplotlib.pyplot as plt\n",
        "import seaborn as sns\n",
        "\n",
        "# Configuration\n",
        "%matplotlib inline\n",
        "%config InlineBackend.figure_format = 'retina'\n",
        "matplotlib.style.use(['seaborn-talk', 'seaborn-ticks', 'seaborn-whitegrid'])"
      ],
      "execution_count": 0,
      "outputs": []
    },
    {
      "cell_type": "markdown",
      "metadata": {
        "id": "oCk50ui8AVcg",
        "colab_type": "text"
      },
      "source": [
        "# **1. Introduction**"
      ]
    },
    {
      "cell_type": "markdown",
      "metadata": {
        "id": "OFoBflEYSs_X",
        "colab_type": "text"
      },
      "source": [
        "This notebooks aims to help the reader get familiar with the data that will be used for this project. Section 2 contains information with regards to dimensionality, cardinality, data types, etc.\n",
        "\n",
        "In section 3, the focus will be on data celaning. This task includes type transformation, dropping features which are not used for prediction and more."
      ]
    },
    {
      "cell_type": "markdown",
      "metadata": {
        "id": "HNBKDXHVRlf2",
        "colab_type": "text"
      },
      "source": [
        "# **2. Getting familiar with the data**"
      ]
    },
    {
      "cell_type": "markdown",
      "metadata": {
        "id": "dsQBTCZ4X5ZA",
        "colab_type": "text"
      },
      "source": [
        "### **2.1 First impression**"
      ]
    },
    {
      "cell_type": "code",
      "metadata": {
        "id": "VCPl1VKMkr8q",
        "colab_type": "code",
        "colab": {}
      },
      "source": [
        "# Data set is loaded (patiences required, it is as \"large\" data set)\n",
        "df_inspections = pd.read_csv(\"https://drive.switch.ch/index.php/s/nlURni4cnxItrbn/download\")"
      ],
      "execution_count": 0,
      "outputs": []
    },
    {
      "cell_type": "code",
      "metadata": {
        "id": "GGKb3mRkCYwV",
        "colab_type": "code",
        "outputId": "7e05f912-80d8-48d9-cd3c-96ceef23540d",
        "colab": {
          "base_uri": "https://localhost:8080/",
          "height": 187
        }
      },
      "source": [
        "# Sample row of the data set\n",
        "df_inspections[df_inspections[\"Inspection ID\"] == 2345616]"
      ],
      "execution_count": 0,
      "outputs": [
        {
          "output_type": "execute_result",
          "data": {
            "text/html": [
              "<div>\n",
              "<style scoped>\n",
              "    .dataframe tbody tr th:only-of-type {\n",
              "        vertical-align: middle;\n",
              "    }\n",
              "\n",
              "    .dataframe tbody tr th {\n",
              "        vertical-align: top;\n",
              "    }\n",
              "\n",
              "    .dataframe thead th {\n",
              "        text-align: right;\n",
              "    }\n",
              "</style>\n",
              "<table border=\"1\" class=\"dataframe\">\n",
              "  <thead>\n",
              "    <tr style=\"text-align: right;\">\n",
              "      <th></th>\n",
              "      <th>Inspection ID</th>\n",
              "      <th>DBA Name</th>\n",
              "      <th>AKA Name</th>\n",
              "      <th>License #</th>\n",
              "      <th>Facility Type</th>\n",
              "      <th>Risk</th>\n",
              "      <th>Address</th>\n",
              "      <th>City</th>\n",
              "      <th>State</th>\n",
              "      <th>Zip</th>\n",
              "      <th>Inspection Date</th>\n",
              "      <th>Inspection Type</th>\n",
              "      <th>Results</th>\n",
              "      <th>Violations</th>\n",
              "      <th>Latitude</th>\n",
              "      <th>Longitude</th>\n",
              "      <th>Location</th>\n",
              "    </tr>\n",
              "  </thead>\n",
              "  <tbody>\n",
              "    <tr>\n",
              "      <th>2</th>\n",
              "      <td>2345616</td>\n",
              "      <td>VIP FIT CLUB</td>\n",
              "      <td>VIP FIT CLUB</td>\n",
              "      <td>2446547.0</td>\n",
              "      <td>Restaurant</td>\n",
              "      <td>Risk 2 (Medium)</td>\n",
              "      <td>3426 W DIVERSEY AVE</td>\n",
              "      <td>CHICAGO</td>\n",
              "      <td>IL</td>\n",
              "      <td>60647.0</td>\n",
              "      <td>11/14/2019</td>\n",
              "      <td>Complaint</td>\n",
              "      <td>Fail</td>\n",
              "      <td>1. PERSON IN CHARGE PRESENT, DEMONSTRATES KNOW...</td>\n",
              "      <td>41.932069</td>\n",
              "      <td>-87.713294</td>\n",
              "      <td>(-87.71329441237397, 41.932068626464286)</td>\n",
              "    </tr>\n",
              "  </tbody>\n",
              "</table>\n",
              "</div>"
            ],
            "text/plain": [
              "   Inspection ID  ...                                  Location\n",
              "2        2345616  ...  (-87.71329441237397, 41.932068626464286)\n",
              "\n",
              "[1 rows x 17 columns]"
            ]
          },
          "metadata": {
            "tags": []
          },
          "execution_count": 3
        }
      ]
    },
    {
      "cell_type": "code",
      "metadata": {
        "id": "dvH4dvqBlm7W",
        "colab_type": "code",
        "outputId": "048c8df3-62ae-41c7-ac99-ad33363e77ce",
        "colab": {
          "base_uri": "https://localhost:8080/",
          "height": 36
        }
      },
      "source": [
        "# Shape of the data set\n",
        "df_inspections.shape"
      ],
      "execution_count": 0,
      "outputs": [
        {
          "output_type": "execute_result",
          "data": {
            "text/plain": [
              "(195979, 17)"
            ]
          },
          "metadata": {
            "tags": []
          },
          "execution_count": 4
        }
      ]
    },
    {
      "cell_type": "markdown",
      "metadata": {
        "id": "8h2nIZKSVb5U",
        "colab_type": "text"
      },
      "source": [
        "As shown above, the data set cardinality is 195'979, while the dimensionality is 17."
      ]
    },
    {
      "cell_type": "markdown",
      "metadata": {
        "id": "KhwxkiinYCRa",
        "colab_type": "text"
      },
      "source": [
        "### **2.2 Data types**"
      ]
    },
    {
      "cell_type": "code",
      "metadata": {
        "id": "SKPhLKEInfd9",
        "colab_type": "code",
        "outputId": "10f8c99f-5fe4-412d-c73c-aabc5a3c34e3",
        "colab": {
          "base_uri": "https://localhost:8080/",
          "height": 355
        }
      },
      "source": [
        "df_inspections.dtypes"
      ],
      "execution_count": 0,
      "outputs": [
        {
          "output_type": "execute_result",
          "data": {
            "text/plain": [
              "Inspection ID        int64\n",
              "DBA Name            object\n",
              "AKA Name            object\n",
              "License #          float64\n",
              "Facility Type       object\n",
              "Risk                object\n",
              "Address             object\n",
              "City                object\n",
              "State               object\n",
              "Zip                float64\n",
              "Inspection Date     object\n",
              "Inspection Type     object\n",
              "Results             object\n",
              "Violations          object\n",
              "Latitude           float64\n",
              "Longitude          float64\n",
              "Location            object\n",
              "dtype: object"
            ]
          },
          "metadata": {
            "tags": []
          },
          "execution_count": 5
        }
      ]
    },
    {
      "cell_type": "markdown",
      "metadata": {
        "id": "bW93UEkMVwu9",
        "colab_type": "text"
      },
      "source": [
        "This table shows that the \"Inspection Date\" attribute is of type object. Below, it is converted to datetime. There are other issues, such as integer being interpreted as float numbers."
      ]
    },
    {
      "cell_type": "markdown",
      "metadata": {
        "id": "7OYcmF-PYJD9",
        "colab_type": "text"
      },
      "source": [
        "# **3. Data transformation**"
      ]
    },
    {
      "cell_type": "markdown",
      "metadata": {
        "id": "7O3m4kjkttLj",
        "colab_type": "text"
      },
      "source": [
        "### **3.1 Type conversion**"
      ]
    },
    {
      "cell_type": "code",
      "metadata": {
        "id": "b4zoG1bxoWrF",
        "colab_type": "code",
        "outputId": "9e6bcec4-5f88-4563-84ad-0047d3fc99aa",
        "colab": {
          "base_uri": "https://localhost:8080/",
          "height": 55
        }
      },
      "source": [
        "# Date conversion\n",
        "df_inspections[\"Inspection Date\"] =  pd.to_datetime(df_inspections[\"Inspection Date\"], format = \"%m/%d/%Y\")\n",
        "print(\"Date of first report : \" + str(df_inspections.iloc[-1][\"Inspection Date\"].year))\n",
        "print(\"Date of last report : \" + str(df_inspections.iloc[0][\"Inspection Date\"].year))"
      ],
      "execution_count": 0,
      "outputs": [
        {
          "output_type": "stream",
          "text": [
            "Date of first report : 2010\n",
            "Date of last report : 2019\n"
          ],
          "name": "stdout"
        }
      ]
    },
    {
      "cell_type": "markdown",
      "metadata": {
        "id": "Lvnjswe8tz-c",
        "colab_type": "text"
      },
      "source": [
        "### **3.2 Data reduction**"
      ]
    },
    {
      "cell_type": "markdown",
      "metadata": {
        "id": "hymKGW8qWngY",
        "colab_type": "text"
      },
      "source": [
        "Not all the features are important. Some features contain the same information (\"Location\", for instance, is equivalent to the combination of \"Latitude\" and \"Longitude\". Some columns are dropped to make the following step \"lighter\" and improve readability."
      ]
    },
    {
      "cell_type": "code",
      "metadata": {
        "id": "0Szxr0c4mb3U",
        "colab_type": "code",
        "colab": {}
      },
      "source": [
        "#Drop columns that will not be used\n",
        "df_inspections = df_inspections.drop([\"AKA Name\", \"City\", \"State\", \"Location\"], axis = 1)"
      ],
      "execution_count": 0,
      "outputs": []
    },
    {
      "cell_type": "code",
      "metadata": {
        "id": "aITwGJrujrkr",
        "colab_type": "code",
        "outputId": "d145e049-bcdf-4823-c498-bcf64440be48",
        "colab": {
          "base_uri": "https://localhost:8080/",
          "height": 299
        }
      },
      "source": [
        "df_inspections.head(3)"
      ],
      "execution_count": 0,
      "outputs": [
        {
          "output_type": "execute_result",
          "data": {
            "text/html": [
              "<div>\n",
              "<style scoped>\n",
              "    .dataframe tbody tr th:only-of-type {\n",
              "        vertical-align: middle;\n",
              "    }\n",
              "\n",
              "    .dataframe tbody tr th {\n",
              "        vertical-align: top;\n",
              "    }\n",
              "\n",
              "    .dataframe thead th {\n",
              "        text-align: right;\n",
              "    }\n",
              "</style>\n",
              "<table border=\"1\" class=\"dataframe\">\n",
              "  <thead>\n",
              "    <tr style=\"text-align: right;\">\n",
              "      <th></th>\n",
              "      <th>Inspection ID</th>\n",
              "      <th>DBA Name</th>\n",
              "      <th>License #</th>\n",
              "      <th>Facility Type</th>\n",
              "      <th>Risk</th>\n",
              "      <th>Address</th>\n",
              "      <th>Zip</th>\n",
              "      <th>Inspection Date</th>\n",
              "      <th>Inspection Type</th>\n",
              "      <th>Results</th>\n",
              "      <th>Violations</th>\n",
              "      <th>Latitude</th>\n",
              "      <th>Longitude</th>\n",
              "    </tr>\n",
              "  </thead>\n",
              "  <tbody>\n",
              "    <tr>\n",
              "      <th>0</th>\n",
              "      <td>2345699</td>\n",
              "      <td>JET'S PIZZA</td>\n",
              "      <td>2163956.0</td>\n",
              "      <td>Restaurant</td>\n",
              "      <td>Risk 2 (Medium)</td>\n",
              "      <td>2811 N ASHLAND AVE</td>\n",
              "      <td>60657.0</td>\n",
              "      <td>2019-11-15</td>\n",
              "      <td>Canvass</td>\n",
              "      <td>Pass w/ Conditions</td>\n",
              "      <td>1. PERSON IN CHARGE PRESENT, DEMONSTRATES KNOW...</td>\n",
              "      <td>41.932766</td>\n",
              "      <td>-87.668262</td>\n",
              "    </tr>\n",
              "    <tr>\n",
              "      <th>1</th>\n",
              "      <td>2345619</td>\n",
              "      <td>JAIPUR</td>\n",
              "      <td>2694084.0</td>\n",
              "      <td>Restaurant</td>\n",
              "      <td>Risk 1 (High)</td>\n",
              "      <td>738 W RANDOLPH ST</td>\n",
              "      <td>60661.0</td>\n",
              "      <td>2019-11-14</td>\n",
              "      <td>Canvass</td>\n",
              "      <td>Pass</td>\n",
              "      <td>NaN</td>\n",
              "      <td>41.884518</td>\n",
              "      <td>-87.647304</td>\n",
              "    </tr>\n",
              "    <tr>\n",
              "      <th>2</th>\n",
              "      <td>2345616</td>\n",
              "      <td>VIP FIT CLUB</td>\n",
              "      <td>2446547.0</td>\n",
              "      <td>Restaurant</td>\n",
              "      <td>Risk 2 (Medium)</td>\n",
              "      <td>3426 W DIVERSEY AVE</td>\n",
              "      <td>60647.0</td>\n",
              "      <td>2019-11-14</td>\n",
              "      <td>Complaint</td>\n",
              "      <td>Fail</td>\n",
              "      <td>1. PERSON IN CHARGE PRESENT, DEMONSTRATES KNOW...</td>\n",
              "      <td>41.932069</td>\n",
              "      <td>-87.713294</td>\n",
              "    </tr>\n",
              "  </tbody>\n",
              "</table>\n",
              "</div>"
            ],
            "text/plain": [
              "   Inspection ID      DBA Name  ...   Latitude  Longitude\n",
              "0        2345699   JET'S PIZZA  ...  41.932766 -87.668262\n",
              "1        2345619        JAIPUR  ...  41.884518 -87.647304\n",
              "2        2345616  VIP FIT CLUB  ...  41.932069 -87.713294\n",
              "\n",
              "[3 rows x 13 columns]"
            ]
          },
          "metadata": {
            "tags": []
          },
          "execution_count": 8
        }
      ]
    },
    {
      "cell_type": "markdown",
      "metadata": {
        "id": "QIHKYA3yrXJt",
        "colab_type": "text"
      },
      "source": [
        "Below, the table shows the possible outcomes of the inspection."
      ]
    },
    {
      "cell_type": "code",
      "metadata": {
        "id": "VhkOpvVYl-e3",
        "colab_type": "code",
        "outputId": "7a796260-66e7-4f4b-e347-88205eb31ef0",
        "colab": {
          "base_uri": "https://localhost:8080/",
          "height": 167
        }
      },
      "source": [
        "df_inspections[\"Results\"].value_counts()"
      ],
      "execution_count": 0,
      "outputs": [
        {
          "output_type": "execute_result",
          "data": {
            "text/plain": [
              "Pass                    105850\n",
              "Fail                     37900\n",
              "Pass w/ Conditions       27169\n",
              "Out of Business          16866\n",
              "No Entry                  6243\n",
              "Not Ready                 1883\n",
              "Business Not Located        68\n",
              "Name: Results, dtype: int64"
            ]
          },
          "metadata": {
            "tags": []
          },
          "execution_count": 9
        }
      ]
    },
    {
      "cell_type": "code",
      "metadata": {
        "id": "HD5nQf9yBvHV",
        "colab_type": "code",
        "colab": {}
      },
      "source": [
        "# In this project, only \"Pass\" and \"Fail\" will be considered\n",
        "df_binary = df_inspections.query(\"Results == 'Fail' or Results == 'Pass'\")"
      ],
      "execution_count": 0,
      "outputs": []
    },
    {
      "cell_type": "code",
      "metadata": {
        "id": "VgJ3qCNaopgU",
        "colab_type": "code",
        "outputId": "66354c07-61c8-4e5e-a62c-62bc15aa3e13",
        "colab": {
          "base_uri": "https://localhost:8080/",
          "height": 36
        }
      },
      "source": [
        "df_binary.shape"
      ],
      "execution_count": 0,
      "outputs": [
        {
          "output_type": "execute_result",
          "data": {
            "text/plain": [
              "(143750, 13)"
            ]
          },
          "metadata": {
            "tags": []
          },
          "execution_count": 11
        }
      ]
    },
    {
      "cell_type": "code",
      "metadata": {
        "id": "GElbXap8r725",
        "colab_type": "code",
        "outputId": "f553cf7d-c4e0-49d6-82b4-98b4cf8aed29",
        "colab": {
          "base_uri": "https://localhost:8080/",
          "height": 36
        }
      },
      "source": [
        "print(str(df_inspections.shape[0] - df_binary.shape[0]) + \" rows were dropped.\")"
      ],
      "execution_count": 0,
      "outputs": [
        {
          "output_type": "stream",
          "text": [
            "52229 rows were dropped.\n"
          ],
          "name": "stdout"
        }
      ]
    },
    {
      "cell_type": "markdown",
      "metadata": {
        "id": "IlJUtuJewskP",
        "colab_type": "text"
      },
      "source": [
        "### **3.3 Data cleaning**"
      ]
    },
    {
      "cell_type": "code",
      "metadata": {
        "id": "YTQ39dMupdrd",
        "colab_type": "code",
        "outputId": "6641637a-d516-4d47-910b-b298e68e3d21",
        "colab": {
          "base_uri": "https://localhost:8080/",
          "height": 280
        }
      },
      "source": [
        "#Show how many NaN there are in each columns.\n",
        "df_binary.isna().sum()"
      ],
      "execution_count": 0,
      "outputs": [
        {
          "output_type": "execute_result",
          "data": {
            "text/plain": [
              "Inspection ID          0\n",
              "DBA Name               0\n",
              "License #             15\n",
              "Facility Type        620\n",
              "Risk                  34\n",
              "Address                0\n",
              "Zip                   28\n",
              "Inspection Date        0\n",
              "Inspection Type        1\n",
              "Results                0\n",
              "Violations         26994\n",
              "Latitude             543\n",
              "Longitude            543\n",
              "dtype: int64"
            ]
          },
          "metadata": {
            "tags": []
          },
          "execution_count": 13
        }
      ]
    },
    {
      "cell_type": "markdown",
      "metadata": {
        "id": "zwQeMBmxupeQ",
        "colab_type": "text"
      },
      "source": [
        "Below, rows for which there is a missing value with regards to \"License #\", \"Zip\", \"Risk\", \"Inspection type\", \"Latitude\", \"Longitude\" are dropped.\n",
        "\n",
        "For violations the NaN are kept as is because the \"Violations\" fields are often empty for restaurants that passed the inspection."
      ]
    },
    {
      "cell_type": "code",
      "metadata": {
        "id": "jm2i2UCcpvfN",
        "colab_type": "code",
        "outputId": "c7e055bc-c4fd-4e72-9d9e-000e3ce13ec3",
        "colab": {
          "base_uri": "https://localhost:8080/",
          "height": 280
        }
      },
      "source": [
        "# Drop NaN values\n",
        "df_binary = df_binary.dropna(subset = [\"License #\", \"Risk\", \"Zip\", \"Inspection Type\", \"Latitude\", \"Longitude\"])\n",
        "df_binary.isna().sum()"
      ],
      "execution_count": 0,
      "outputs": [
        {
          "output_type": "execute_result",
          "data": {
            "text/plain": [
              "Inspection ID          0\n",
              "DBA Name               0\n",
              "License #              0\n",
              "Facility Type        597\n",
              "Risk                   0\n",
              "Address                0\n",
              "Zip                    0\n",
              "Inspection Date        0\n",
              "Inspection Type        0\n",
              "Results                0\n",
              "Violations         26808\n",
              "Latitude               0\n",
              "Longitude              0\n",
              "dtype: int64"
            ]
          },
          "metadata": {
            "tags": []
          },
          "execution_count": 14
        }
      ]
    },
    {
      "cell_type": "code",
      "metadata": {
        "id": "0o6RC7P8sTvC",
        "colab_type": "code",
        "outputId": "f79ca2c6-0452-4f29-c741-af85bd62ae20",
        "colab": {
          "base_uri": "https://localhost:8080/",
          "height": 36
        }
      },
      "source": [
        "#How many rows were dropped ? (143750 - 143130) = 620\n",
        "df_binary.shape"
      ],
      "execution_count": 0,
      "outputs": [
        {
          "output_type": "execute_result",
          "data": {
            "text/plain": [
              "(143130, 13)"
            ]
          },
          "metadata": {
            "tags": []
          },
          "execution_count": 15
        }
      ]
    },
    {
      "cell_type": "code",
      "metadata": {
        "id": "vWxoVDQSp7Qe",
        "colab_type": "code",
        "colab": {}
      },
      "source": [
        "#Float to Int conversion when needed (could not be done before because of NaN values)\n",
        "df_binary[\"License #\"] = pd.to_numeric(df_binary[\"License #\"]).astype(int)\n",
        "df_binary[\"Zip\"] = pd.to_numeric(df_binary[\"Zip\"]).astype(int)"
      ],
      "execution_count": 0,
      "outputs": []
    },
    {
      "cell_type": "code",
      "metadata": {
        "id": "oe7SjoJBtSKw",
        "colab_type": "code",
        "outputId": "a7eba022-beb3-4016-b91e-990952896e64",
        "colab": {
          "base_uri": "https://localhost:8080/",
          "height": 111
        }
      },
      "source": [
        "#Risk column cleaning\n",
        "df_binary[\"Risk\"].value_counts()"
      ],
      "execution_count": 0,
      "outputs": [
        {
          "output_type": "execute_result",
          "data": {
            "text/plain": [
              "Risk 1 (High)      104358\n",
              "Risk 2 (Medium)     27756\n",
              "Risk 3 (Low)        11011\n",
              "All                     5\n",
              "Name: Risk, dtype: int64"
            ]
          },
          "metadata": {
            "tags": []
          },
          "execution_count": 17
        }
      ]
    },
    {
      "cell_type": "markdown",
      "metadata": {
        "id": "T46kndVyw1rs",
        "colab_type": "text"
      },
      "source": [
        "The value \"All\" in the \"Risk\" column are dropped below."
      ]
    },
    {
      "cell_type": "code",
      "metadata": {
        "id": "TbOQdRWgjSQF",
        "colab_type": "code",
        "colab": {}
      },
      "source": [
        "df_binary = df_binary[df_binary[\"Risk\"] != \"All\"]"
      ],
      "execution_count": 0,
      "outputs": []
    },
    {
      "cell_type": "markdown",
      "metadata": {
        "id": "kT21sSx42QyP",
        "colab_type": "text"
      },
      "source": [
        "As shown below, the \"Facility Type\" feature contains 450 different values, which will raise issues when encoded."
      ]
    },
    {
      "cell_type": "code",
      "metadata": {
        "id": "RlAlLRY_i7et",
        "colab_type": "code",
        "outputId": "80077fd0-0e36-4d55-ce88-1067237a1149",
        "colab": {
          "base_uri": "https://localhost:8080/",
          "height": 243
        }
      },
      "source": [
        "df_binary[\"Facility Type\"].value_counts()"
      ],
      "execution_count": 0,
      "outputs": [
        {
          "output_type": "execute_result",
          "data": {
            "text/plain": [
              "Restaurant                        94627\n",
              "Grocery Store                     19085\n",
              "School                            10500\n",
              "Children's Services Facility       2444\n",
              "Bakery                             2183\n",
              "                                  ...  \n",
              "WHOLESALE BAKERY                      1\n",
              "GAS STATION /SUBWAY MINI MART.        1\n",
              "POPCORN SHOP                          1\n",
              "FOOD BOOTH                            1\n",
              "PALETERIA /ICECREAM SHOP              1\n",
              "Name: Facility Type, Length: 450, dtype: int64"
            ]
          },
          "metadata": {
            "tags": []
          },
          "execution_count": 19
        }
      ]
    },
    {
      "cell_type": "markdown",
      "metadata": {
        "id": "iBHkMI_j25FS",
        "colab_type": "text"
      },
      "source": [
        "One way to reduce the number of facility types is to transform all the column into lower case."
      ]
    },
    {
      "cell_type": "code",
      "metadata": {
        "id": "QIfVciVT2vQ7",
        "colab_type": "code",
        "colab": {}
      },
      "source": [
        "df_binary[\"Facility Type\"] = df_binary[\"Facility Type\"].str.lower()"
      ],
      "execution_count": 0,
      "outputs": []
    },
    {
      "cell_type": "code",
      "metadata": {
        "id": "gl7bzcks3I0m",
        "colab_type": "code",
        "outputId": "90518897-6f84-4a83-f8f0-a9bcb5e7df31",
        "colab": {
          "base_uri": "https://localhost:8080/",
          "height": 243
        }
      },
      "source": [
        "df_binary[\"Facility Type\"].value_counts()"
      ],
      "execution_count": 0,
      "outputs": [
        {
          "output_type": "execute_result",
          "data": {
            "text/plain": [
              "restaurant                      94627\n",
              "grocery store                   19085\n",
              "school                          10510\n",
              "children's services facility     2444\n",
              "bakery                           2183\n",
              "                                ...  \n",
              "after school care                   1\n",
              "tap room/tavern/liquor store        1\n",
              "peddler                             1\n",
              "rooftop patio                       1\n",
              "bowling lanes/banquets              1\n",
              "Name: Facility Type, Length: 407, dtype: int64"
            ]
          },
          "metadata": {
            "tags": []
          },
          "execution_count": 21
        }
      ]
    },
    {
      "cell_type": "markdown",
      "metadata": {
        "id": "-MmoeBZT3MdS",
        "colab_type": "text"
      },
      "source": [
        "There are still too many types. Here, they are selected based on their count value. The ones with the highest count are conserved such that the resulting set contains 97.5% of the df_binary dataset. The rest is dropped."
      ]
    },
    {
      "cell_type": "code",
      "metadata": {
        "id": "Ty8OacsM4FTH",
        "colab_type": "code",
        "outputId": "61d8453b-4189-4b2a-8cc9-ea2cb95480ed",
        "colab": {
          "base_uri": "https://localhost:8080/",
          "height": 36
        }
      },
      "source": [
        "# List of the 100 first types in the previous table\n",
        "list_types = list(df_binary[\"Facility Type\"].value_counts().head(100).index)\n",
        "myIndex = 0\n",
        "# Start with empty DF witht the same attributes as df_binary\n",
        "df_temp = df_binary[df_binary[\"Facility Type\"] == \"\"]\n",
        "# While under 97.5%, continue\n",
        "while(df_temp.shape[0]/df_binary.shape[0] < 0.975 and myIndex <= len(list_types)) :\n",
        "  # For each iteration, concatenate the temporary DF and the rows of the original DF \n",
        "  # which match the current facility type (defined by myIndex)\n",
        "  df_temp = pd.concat([df_temp, df_binary[df_binary[\"Facility Type\"] == list_types[myIndex]]], join=\"inner\")\n",
        "  myIndex += 1\n",
        "# Prints the reached percentage\n",
        "print(\"Reached : \" + str(100*(df_temp.shape[0]/df_binary.shape[0])) + \" %\")"
      ],
      "execution_count": 0,
      "outputs": [
        {
          "output_type": "stream",
          "text": [
            "Reached : 97.52803493449782 %\n"
          ],
          "name": "stdout"
        }
      ]
    },
    {
      "cell_type": "markdown",
      "metadata": {
        "id": "UgA_rgex_F20",
        "colab_type": "text"
      },
      "source": [
        "Those are the final types that will be used."
      ]
    },
    {
      "cell_type": "code",
      "metadata": {
        "id": "uifc_wGP8HlO",
        "colab_type": "code",
        "outputId": "6d1c7368-6a6c-4a2a-ba7b-5a5589003bd1",
        "colab": {
          "base_uri": "https://localhost:8080/",
          "height": 431
        }
      },
      "source": [
        "df_temp[\"Facility Type\"].value_counts()"
      ],
      "execution_count": 0,
      "outputs": [
        {
          "output_type": "execute_result",
          "data": {
            "text/plain": [
              "restaurant                         94627\n",
              "grocery store                      19085\n",
              "school                             10510\n",
              "children's services facility        2444\n",
              "bakery                              2183\n",
              "daycare (2 - 6 years)               2179\n",
              "daycare above and under 2 years     1951\n",
              "long term care                      1052\n",
              "catering                             831\n",
              "liquor                               720\n",
              "mobile food dispenser                691\n",
              "daycare combo 1586                   590\n",
              "wholesale                            487\n",
              "mobile food preparer                 457\n",
              "golden diner                         456\n",
              "hospital                             434\n",
              "tavern                               251\n",
              "daycare (under 2 years)              214\n",
              "shared kitchen user (long term)      162\n",
              "special event                        160\n",
              "gas station                          103\n",
              "Name: Facility Type, dtype: int64"
            ]
          },
          "metadata": {
            "tags": []
          },
          "execution_count": 23
        }
      ]
    },
    {
      "cell_type": "markdown",
      "metadata": {
        "id": "4v658r3koUoy",
        "colab_type": "text"
      },
      "source": [
        "The same procedure has to be used for the \"Inspection type\"."
      ]
    },
    {
      "cell_type": "code",
      "metadata": {
        "id": "iq3qs16toUC0",
        "colab_type": "code",
        "outputId": "723c391c-7c25-4c23-d412-d2a79df662e1",
        "colab": {
          "base_uri": "https://localhost:8080/",
          "height": 243
        }
      },
      "source": [
        "df_temp[\"Inspection Type\"].value_counts()"
      ],
      "execution_count": 0,
      "outputs": [
        {
          "output_type": "execute_result",
          "data": {
            "text/plain": [
              "Canvass                                     64733\n",
              "License                                     20917\n",
              "Canvass Re-Inspection                       17448\n",
              "Complaint                                   13343\n",
              "License Re-Inspection                        7963\n",
              "                                            ...  \n",
              "CANVASS SCHOOL/SPECIAL EVENT                    1\n",
              "error save                                      1\n",
              "LIQOUR TASK FORCE NOT READY                     1\n",
              "finish complaint inspection from 5-18-10        1\n",
              "TASK FORCE PACKAGE LIQUOR                       1\n",
              "Name: Inspection Type, Length: 95, dtype: int64"
            ]
          },
          "metadata": {
            "tags": []
          },
          "execution_count": 24
        }
      ]
    },
    {
      "cell_type": "code",
      "metadata": {
        "id": "BKzz-oRDouLV",
        "colab_type": "code",
        "colab": {}
      },
      "source": [
        "df_temp[\"Inspection Type\"] = df_temp[\"Inspection Type\"].str.lower()"
      ],
      "execution_count": 0,
      "outputs": []
    },
    {
      "cell_type": "code",
      "metadata": {
        "id": "YaRS2NZAo0IQ",
        "colab_type": "code",
        "outputId": "6f091f6c-d271-4ee0-c816-0bcf1a952fa8",
        "colab": {
          "base_uri": "https://localhost:8080/",
          "height": 36
        }
      },
      "source": [
        "# List of the 100 first types in the previous table\n",
        "list_types = list(df_temp[\"Inspection Type\"].value_counts().head(100).index)\n",
        "myIndex = 0\n",
        "# Start with empty DF witht the same attributes as df_temp\n",
        "df_final = df_temp[df_temp[\"Inspection Type\"] == \"\"]\n",
        "# While under 99.7%, continue\n",
        "while(df_final.shape[0]/df_temp.shape[0] < 0.997 and myIndex <= len(list_types)) :\n",
        "  # For each iteration, concatenate the temporary DF and the rows of the original DF \n",
        "  # which match the current facility type (defined by myIndex)\n",
        "  df_final = pd.concat([df_final, df_temp[df_temp[\"Inspection Type\"] == list_types[myIndex]]], join=\"inner\")\n",
        "  myIndex += 1\n",
        "# Prints the reached percentage\n",
        "print(\"Reached : \" + str(100*(df_final.shape[0]/df_temp.shape[0])) + \" %\")"
      ],
      "execution_count": 0,
      "outputs": [
        {
          "output_type": "stream",
          "text": [
            "Reached : 99.73779793247222 %\n"
          ],
          "name": "stdout"
        }
      ]
    },
    {
      "cell_type": "code",
      "metadata": {
        "id": "5MtSkK1No989",
        "colab_type": "code",
        "outputId": "ec7531db-2aa3-4a6e-8d6d-e8739462f1c8",
        "colab": {
          "base_uri": "https://localhost:8080/",
          "height": 337
        }
      },
      "source": [
        "df_final[\"Inspection Type\"].value_counts()"
      ],
      "execution_count": 0,
      "outputs": [
        {
          "output_type": "execute_result",
          "data": {
            "text/plain": [
              "canvass                                   64733\n",
              "license                                   20919\n",
              "canvass re-inspection                     17448\n",
              "complaint                                 13343\n",
              "license re-inspection                      7963\n",
              "complaint re-inspection                    6361\n",
              "short form complaint                       5523\n",
              "suspected food poisoning                    596\n",
              "license-task force                          576\n",
              "consultation                                496\n",
              "tag removal                                 422\n",
              "task force liquor 1475                      241\n",
              "recent inspection                           194\n",
              "suspected food poisoning re-inspection      170\n",
              "complaint-fire                              137\n",
              "short form fire-complaint                    99\n",
              "Name: Inspection Type, dtype: int64"
            ]
          },
          "metadata": {
            "tags": []
          },
          "execution_count": 27
        }
      ]
    },
    {
      "cell_type": "markdown",
      "metadata": {
        "id": "xACe47CXAYA8",
        "colab_type": "text"
      },
      "source": [
        "# **4. Export**"
      ]
    },
    {
      "cell_type": "markdown",
      "metadata": {
        "id": "8sLlPkWIGS9-",
        "colab_type": "text"
      },
      "source": [
        "The result is saved in a .csv file which can then be downloaded by opening the left pane and selecting \"Files\" on Google Colab."
      ]
    },
    {
      "cell_type": "code",
      "metadata": {
        "id": "p-mueRjPAXl0",
        "colab_type": "code",
        "colab": {}
      },
      "source": [
        "df_final.to_csv(\"clean_food_inspections.csv\", index=False)"
      ],
      "execution_count": 0,
      "outputs": []
    }
  ]
}