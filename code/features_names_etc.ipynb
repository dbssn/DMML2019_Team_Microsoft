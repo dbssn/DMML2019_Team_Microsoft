{
  "nbformat": 4,
  "nbformat_minor": 0,
  "metadata": {
    "colab": {
      "name": "features_names_etc.ipynb",
      "provenance": [],
      "collapsed_sections": []
    },
    "kernelspec": {
      "name": "python3",
      "display_name": "Python 3"
    },
    "accelerator": "GPU"
  },
  "cells": [
    {
      "cell_type": "markdown",
      "metadata": {
        "id": "nPBlfXfCOEYP",
        "colab_type": "text"
      },
      "source": [
        "# **0. Imports and setup**"
      ]
    },
    {
      "cell_type": "markdown",
      "metadata": {
        "id": "80cZ-CkZW27W",
        "colab_type": "text"
      },
      "source": [
        "### **0.1 Import the data**"
      ]
    },
    {
      "cell_type": "code",
      "metadata": {
        "id": "9oI5oVh_AWAv",
        "colab_type": "code",
        "colab": {}
      },
      "source": [
        "# Imports\n",
        "import pandas as pd"
      ],
      "execution_count": 0,
      "outputs": []
    },
    {
      "cell_type": "code",
      "metadata": {
        "id": "RKtxhav_WvNe",
        "colab_type": "code",
        "colab": {}
      },
      "source": [
        "# Load data set\n",
        "df_0 = pd.read_csv(\"https://drive.switch.ch/index.php/s/Gs1wqzxkNeCppeC/download\")"
      ],
      "execution_count": 0,
      "outputs": []
    },
    {
      "cell_type": "code",
      "metadata": {
        "id": "ldx9dzpcwo05",
        "colab_type": "code",
        "outputId": "ab75d741-6c08-4cd5-dd59-d6a3dc529392",
        "colab": {
          "base_uri": "https://localhost:8080/",
          "height": 389
        }
      },
      "source": [
        "# Copy to easily reset, without loading the data set again\n",
        "df = df_0\n",
        "df.sample(3)"
      ],
      "execution_count": 0,
      "outputs": [
        {
          "output_type": "execute_result",
          "data": {
            "text/html": [
              "<div>\n",
              "<style scoped>\n",
              "    .dataframe tbody tr th:only-of-type {\n",
              "        vertical-align: middle;\n",
              "    }\n",
              "\n",
              "    .dataframe tbody tr th {\n",
              "        vertical-align: top;\n",
              "    }\n",
              "\n",
              "    .dataframe thead th {\n",
              "        text-align: right;\n",
              "    }\n",
              "</style>\n",
              "<table border=\"1\" class=\"dataframe\">\n",
              "  <thead>\n",
              "    <tr style=\"text-align: right;\">\n",
              "      <th></th>\n",
              "      <th>Inspection ID</th>\n",
              "      <th>DBA Name</th>\n",
              "      <th>License #</th>\n",
              "      <th>Facility Type</th>\n",
              "      <th>Risk</th>\n",
              "      <th>Address</th>\n",
              "      <th>Zip</th>\n",
              "      <th>Inspection Date</th>\n",
              "      <th>Inspection Type</th>\n",
              "      <th>Results</th>\n",
              "      <th>Violations</th>\n",
              "      <th>Latitude</th>\n",
              "      <th>Longitude</th>\n",
              "      <th>Year</th>\n",
              "      <th>Month</th>\n",
              "      <th>Weekday</th>\n",
              "      <th>LenViol</th>\n",
              "      <th>TMAX</th>\n",
              "      <th>MeanMaxTemp3Days</th>\n",
              "      <th>ApproxCreationDate</th>\n",
              "      <th>DaysInBusiness</th>\n",
              "    </tr>\n",
              "  </thead>\n",
              "  <tbody>\n",
              "    <tr>\n",
              "      <th>63636</th>\n",
              "      <td>1305243</td>\n",
              "      <td>SUBWAY</td>\n",
              "      <td>1766064</td>\n",
              "      <td>restaurant</td>\n",
              "      <td>Risk 1 (High)</td>\n",
              "      <td>5853 S KEDZIE AVE</td>\n",
              "      <td>60629</td>\n",
              "      <td>2013-04-01</td>\n",
              "      <td>canvass</td>\n",
              "      <td>Pass</td>\n",
              "      <td>35. WALLS, CEILINGS, ATTACHED EQUIPMENT CONSTR...</td>\n",
              "      <td>41.786510</td>\n",
              "      <td>-87.703208</td>\n",
              "      <td>2013</td>\n",
              "      <td>4</td>\n",
              "      <td>0</td>\n",
              "      <td>520</td>\n",
              "      <td>5.0</td>\n",
              "      <td>14.266667</td>\n",
              "      <td>2006-10-04</td>\n",
              "      <td>2371.0</td>\n",
              "    </tr>\n",
              "    <tr>\n",
              "      <th>31167</th>\n",
              "      <td>1734214</td>\n",
              "      <td>Beggar's Pizza</td>\n",
              "      <td>1974163</td>\n",
              "      <td>restaurant</td>\n",
              "      <td>Risk 1 (High)</td>\n",
              "      <td>310 S Clinton ST</td>\n",
              "      <td>60661</td>\n",
              "      <td>2016-03-15</td>\n",
              "      <td>canvass</td>\n",
              "      <td>Pass</td>\n",
              "      <td>31. CLEAN MULTI-USE UTENSILS AND SINGLE SERVIC...</td>\n",
              "      <td>41.877659</td>\n",
              "      <td>-87.641200</td>\n",
              "      <td>2016</td>\n",
              "      <td>3</td>\n",
              "      <td>1</td>\n",
              "      <td>1209</td>\n",
              "      <td>17.8</td>\n",
              "      <td>12.600000</td>\n",
              "      <td>2009-07-28</td>\n",
              "      <td>2422.0</td>\n",
              "    </tr>\n",
              "    <tr>\n",
              "      <th>49555</th>\n",
              "      <td>2052297</td>\n",
              "      <td>GOLDEN APPLE RESTAURANT</td>\n",
              "      <td>56449</td>\n",
              "      <td>restaurant</td>\n",
              "      <td>Risk 1 (High)</td>\n",
              "      <td>2971 N LINCOLN AVE</td>\n",
              "      <td>60657</td>\n",
              "      <td>2017-08-22</td>\n",
              "      <td>canvass re-inspection</td>\n",
              "      <td>Pass</td>\n",
              "      <td>38. VENTILATION: ROOMS AND EQUIPMENT VENTED AS...</td>\n",
              "      <td>41.935978</td>\n",
              "      <td>-87.663285</td>\n",
              "      <td>2017</td>\n",
              "      <td>8</td>\n",
              "      <td>1</td>\n",
              "      <td>200</td>\n",
              "      <td>27.2</td>\n",
              "      <td>30.033333</td>\n",
              "      <td>2001-12-20</td>\n",
              "      <td>5724.0</td>\n",
              "    </tr>\n",
              "  </tbody>\n",
              "</table>\n",
              "</div>"
            ],
            "text/plain": [
              "       Inspection ID  ... DaysInBusiness\n",
              "63636        1305243  ...         2371.0\n",
              "31167        1734214  ...         2422.0\n",
              "49555        2052297  ...         5724.0\n",
              "\n",
              "[3 rows x 21 columns]"
            ]
          },
          "metadata": {
            "tags": []
          },
          "execution_count": 3
        }
      ]
    },
    {
      "cell_type": "markdown",
      "metadata": {
        "id": "6C4cnpfEW-XL",
        "colab_type": "text"
      },
      "source": [
        "### **0.2 Data description**"
      ]
    },
    {
      "cell_type": "markdown",
      "metadata": {
        "id": "61hHQ1CQk3hM",
        "colab_type": "text"
      },
      "source": [
        "#### **0.2.1 Dimensionality and cardinality**"
      ]
    },
    {
      "cell_type": "code",
      "metadata": {
        "id": "4GzRXcpMWzN4",
        "colab_type": "code",
        "outputId": "6131094f-0b80-4b86-aa65-6f6a00ad7278",
        "colab": {
          "base_uri": "https://localhost:8080/",
          "height": 35
        }
      },
      "source": [
        "df.shape"
      ],
      "execution_count": 0,
      "outputs": [
        {
          "output_type": "execute_result",
          "data": {
            "text/plain": [
              "(122595, 21)"
            ]
          },
          "metadata": {
            "tags": []
          },
          "execution_count": 4
        }
      ]
    },
    {
      "cell_type": "markdown",
      "metadata": {
        "id": "Lvhm_3b4XKaT",
        "colab_type": "text"
      },
      "source": [
        "*   Dimensionality of the data set : 21\n",
        "*   Cardinality of the data set : 122'595\n"
      ]
    },
    {
      "cell_type": "markdown",
      "metadata": {
        "id": "n69dpEPBk_jP",
        "colab_type": "text"
      },
      "source": [
        "#### **0.2.2 Features**"
      ]
    },
    {
      "cell_type": "markdown",
      "metadata": {
        "id": "0ymFFuImXgrp",
        "colab_type": "text"
      },
      "source": [
        ">The non-trivial features used for the prediction are detailed below :\n",
        "\n",
        "*   `Facility Type` : The type of the establishment being inspected. Examples :\n",
        "  *   `restaurant`\n",
        "  *   `grocery store`\n",
        "  *   `school`\n",
        "  *   `children's services facility`\n",
        "  *   `bakery`\n",
        "  *   ...\n",
        "*   `Risk` : The risk of adversely affecting public health. The frequency of inspection is tied to this risk, with risk 1 establishments inspected most frequently and risk 3 least frequently.\n",
        "*   `Inspection type` : The type of inspection. Examples :\n",
        "  *   `canvass` : Inspection performed at a frequency relative to the risk of the establishment.\n",
        "  *   `license` : When the inspection is done as a requirement for the establishment to receive its license to operate.\n",
        "  *   `complaint` : When  the inspection is done in response to a complaint against the establishment.\n",
        "  *   `short form complaint` : A subcategory of \"complaint\"\n",
        "  *   `suspected food poisoning` : When the inspection is done in response to one or more persons claiming to have gotten ill as a result of eating at the establishment (a specific type of complaint-based inspection).\n",
        "  *   `license-task force` : When an inspection of a bar or tavern is done.\n",
        "  *   `consultation` : Inspection is done at the request of the owner prior to the opening of the establishment.\n",
        "  *   `tag removal` : No detail.\n",
        "  *   `recent inspection` : No detail.\n",
        "  *   `task force liquor 1475` : No detailed information. This seems related to \"Incidental Activity Liquor License\" which is defined as the \"sale of alcohol to be consumed on the premises at a place of business where the sale of alcoholic liquor is incidental or secondary to the primary activity.\"\n",
        "  *   `complaint-fire` : A subcategory of \"complaint\".\n",
        "  *   `short form fire-complaint` : A subcategory of \"complaint\".\n",
        "  * Note : Re-inspections can occur for most types of these inspections and are indicated as such.\n",
        "*   `Month` : The month during which the inspection was held.\n",
        "*   `Weekday` : The day of the week on which the inspection occured.\n",
        "*   `LenViol` : The length (in characters) of the \"Violations\" feature.\n",
        "*   `TMAX` : The maximum temperature during the day of inspection.\n",
        "*   `MeanMaxTemp3Days` : The average maximum temperature for the 3 days before inspection.\n",
        "*   `ApproxCreationDate` : An approximation of the business creation date.\n",
        "*   `DaysInBusiness` : An approximations of the \"age\" of the business which is the time delta between the inspection date and the creation date.\n",
        "\n",
        "> Part of this information was retrieved from the document \"food-inspections-description.pdf\" which is in the documents folder of the repository.\n",
        "\n",
        "> Information with regards to \"task force liquor 1475\" came from https://www.chicago.gov/content/dam/city/depts/bacp/PlansofOperation/planofoperation1439nmilwaukee2.pdf and https://www.chicago.gov/city/en/depts/bacp/supp_info/classes_of_liquorlicenses.html."
      ]
    }
  ]
}