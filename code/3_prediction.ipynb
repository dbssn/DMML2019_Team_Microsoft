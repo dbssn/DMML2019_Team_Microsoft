{
  "nbformat": 4,
  "nbformat_minor": 0,
  "metadata": {
    "colab": {
      "name": "Copy of 3_prediction.ipynb",
      "provenance": [],
      "collapsed_sections": [],
      "include_colab_link": true
    },
    "kernelspec": {
      "name": "python3",
      "display_name": "Python 3"
    },
    "accelerator": "GPU"
  },
  "cells": [
    {
      "cell_type": "markdown",
      "metadata": {
        "id": "view-in-github",
        "colab_type": "text"
      },
      "source": [
        "<a href=\"https://colab.research.google.com/github/dbssn/DMML2019_Team_Microsoft/blob/master/code/3_prediction.ipynb\" target=\"_parent\"><img src=\"https://colab.research.google.com/assets/colab-badge.svg\" alt=\"Open In Colab\"/></a>"
      ]
    },
    {
      "cell_type": "markdown",
      "metadata": {
        "id": "YKyfnbRCfNVu",
        "colab_type": "text"
      },
      "source": [
        "# 0. Imports"
      ]
    },
    {
      "cell_type": "code",
      "metadata": {
        "id": "sBIVoimzrsig",
        "colab_type": "code",
        "colab": {}
      },
      "source": [
        "# Load dataset\n",
        "import pandas as pd\n",
        "import warnings\n",
        "warnings.filterwarnings(action='ignore')\n",
        "df = pd.read_csv(\"https://drive.switch.ch/index.php/s/Gs1wqzxkNeCppeC/download\")"
      ],
      "execution_count": 0,
      "outputs": []
    },
    {
      "cell_type": "markdown",
      "metadata": {
        "id": "eSXKGFAagBOv",
        "colab_type": "text"
      },
      "source": [
        "# 1. Preprocessing"
      ]
    },
    {
      "cell_type": "markdown",
      "metadata": {
        "id": "eFoUmc4HgFjg",
        "colab_type": "text"
      },
      "source": [
        "Some features such as \"Inspection ID\", \"DBA Name\" are not too useful when it comes to predicting the outcome of the inspection. Therefore, those columns are dropped."
      ]
    },
    {
      "cell_type": "code",
      "metadata": {
        "id": "scoitdIagFWN",
        "colab_type": "code",
        "outputId": "e40baec9-4975-4c36-ebb2-6a12c3c711af",
        "colab": {
          "base_uri": "https://localhost:8080/",
          "height": 114
        }
      },
      "source": [
        "# Drop columns that are not useful\n",
        "df = df.drop([\"Inspection ID\", \"DBA Name\", \"License #\", \"Address\", \"Zip\", \"Inspection Date\", \"Violations\", \"ApproxCreationDate\"], axis = 1)\n",
        "df.sample(1)"
      ],
      "execution_count": 5,
      "outputs": [
        {
          "output_type": "execute_result",
          "data": {
            "text/html": [
              "<div>\n",
              "<style scoped>\n",
              "    .dataframe tbody tr th:only-of-type {\n",
              "        vertical-align: middle;\n",
              "    }\n",
              "\n",
              "    .dataframe tbody tr th {\n",
              "        vertical-align: top;\n",
              "    }\n",
              "\n",
              "    .dataframe thead th {\n",
              "        text-align: right;\n",
              "    }\n",
              "</style>\n",
              "<table border=\"1\" class=\"dataframe\">\n",
              "  <thead>\n",
              "    <tr style=\"text-align: right;\">\n",
              "      <th></th>\n",
              "      <th>Facility Type</th>\n",
              "      <th>Risk</th>\n",
              "      <th>Inspection Type</th>\n",
              "      <th>Results</th>\n",
              "      <th>Latitude</th>\n",
              "      <th>Longitude</th>\n",
              "      <th>Year</th>\n",
              "      <th>Month</th>\n",
              "      <th>Weekday</th>\n",
              "      <th>LenViol</th>\n",
              "      <th>TMAX</th>\n",
              "      <th>MeanMaxTemp3Days</th>\n",
              "      <th>DaysInBusiness</th>\n",
              "    </tr>\n",
              "  </thead>\n",
              "  <tbody>\n",
              "    <tr>\n",
              "      <th>182</th>\n",
              "      <td>restaurant</td>\n",
              "      <td>Risk 1 (High)</td>\n",
              "      <td>canvass</td>\n",
              "      <td>Pass</td>\n",
              "      <td>41.886708</td>\n",
              "      <td>-87.634319</td>\n",
              "      <td>2018</td>\n",
              "      <td>5</td>\n",
              "      <td>2</td>\n",
              "      <td>584</td>\n",
              "      <td>28.3</td>\n",
              "      <td>23.9</td>\n",
              "      <td>2959.0</td>\n",
              "    </tr>\n",
              "  </tbody>\n",
              "</table>\n",
              "</div>"
            ],
            "text/plain": [
              "    Facility Type           Risk  ... MeanMaxTemp3Days DaysInBusiness\n",
              "182    restaurant  Risk 1 (High)  ...             23.9         2959.0\n",
              "\n",
              "[1 rows x 13 columns]"
            ]
          },
          "metadata": {
            "tags": []
          },
          "execution_count": 5
        }
      ]
    },
    {
      "cell_type": "markdown",
      "metadata": {
        "id": "ILBPSp6WhzH1",
        "colab_type": "text"
      },
      "source": [
        "### 1.1 Standardization"
      ]
    },
    {
      "cell_type": "markdown",
      "metadata": {
        "id": "jJwKawhQhz5g",
        "colab_type": "text"
      },
      "source": [
        "The first step is to normalize the numerical features :\n",
        "\n",
        "*   Latitude\n",
        "*   Longitude\n",
        "*   LenViol\n",
        "*   TMAX\n",
        "*   MeanMaxTemp3Days\n",
        "*   DaysInBusiness\n"
      ]
    },
    {
      "cell_type": "code",
      "metadata": {
        "colab_type": "code",
        "outputId": "74167de5-8ddc-40bd-8b28-39a3c4aebe6d",
        "id": "R-AhPmecSQ4O",
        "colab": {
          "base_uri": "https://localhost:8080/",
          "height": 114
        }
      },
      "source": [
        "df_prep = df[[\"Latitude\", \"Longitude\", \"LenViol\", \"TMAX\", \"MeanMaxTemp3Days\", \"DaysInBusiness\", \"Facility Type\", \"Risk\", \"Inspection Type\", \"Year\", \"Month\", \"Weekday\", \"Results\"]]\n",
        "df_prep.sample(1)\n"
      ],
      "execution_count": 6,
      "outputs": [
        {
          "output_type": "execute_result",
          "data": {
            "text/html": [
              "<div>\n",
              "<style scoped>\n",
              "    .dataframe tbody tr th:only-of-type {\n",
              "        vertical-align: middle;\n",
              "    }\n",
              "\n",
              "    .dataframe tbody tr th {\n",
              "        vertical-align: top;\n",
              "    }\n",
              "\n",
              "    .dataframe thead th {\n",
              "        text-align: right;\n",
              "    }\n",
              "</style>\n",
              "<table border=\"1\" class=\"dataframe\">\n",
              "  <thead>\n",
              "    <tr style=\"text-align: right;\">\n",
              "      <th></th>\n",
              "      <th>Latitude</th>\n",
              "      <th>Longitude</th>\n",
              "      <th>LenViol</th>\n",
              "      <th>TMAX</th>\n",
              "      <th>MeanMaxTemp3Days</th>\n",
              "      <th>DaysInBusiness</th>\n",
              "      <th>Facility Type</th>\n",
              "      <th>Risk</th>\n",
              "      <th>Inspection Type</th>\n",
              "      <th>Year</th>\n",
              "      <th>Month</th>\n",
              "      <th>Weekday</th>\n",
              "      <th>Results</th>\n",
              "    </tr>\n",
              "  </thead>\n",
              "  <tbody>\n",
              "    <tr>\n",
              "      <th>25403</th>\n",
              "      <td>41.726723</td>\n",
              "      <td>-87.550943</td>\n",
              "      <td>1759</td>\n",
              "      <td>22.2</td>\n",
              "      <td>19.833333</td>\n",
              "      <td>338.0</td>\n",
              "      <td>restaurant</td>\n",
              "      <td>Risk 1 (High)</td>\n",
              "      <td>canvass</td>\n",
              "      <td>2014</td>\n",
              "      <td>9</td>\n",
              "      <td>3</td>\n",
              "      <td>Fail</td>\n",
              "    </tr>\n",
              "  </tbody>\n",
              "</table>\n",
              "</div>"
            ],
            "text/plain": [
              "        Latitude  Longitude  LenViol  TMAX  ...  Year  Month Weekday Results\n",
              "25403  41.726723 -87.550943     1759  22.2  ...  2014      9       3    Fail\n",
              "\n",
              "[1 rows x 13 columns]"
            ]
          },
          "metadata": {
            "tags": []
          },
          "execution_count": 6
        }
      ]
    },
    {
      "cell_type": "code",
      "metadata": {
        "id": "jbYwd1KgihN3",
        "colab_type": "code",
        "outputId": "1acb453f-3d67-47a1-e9b8-5853c3f21c58",
        "colab": {
          "base_uri": "https://localhost:8080/",
          "height": 114
        }
      },
      "source": [
        "# Standardization\n",
        "from sklearn.preprocessing import StandardScaler\n",
        "standardize = StandardScaler()\n",
        "standardize.fit(df_prep.iloc[:, :6])\n",
        "df_prep.iloc[:, :6] = standardize.transform(df_prep.iloc[:, :6])\n",
        "df_prep.sample(1)"
      ],
      "execution_count": 7,
      "outputs": [
        {
          "output_type": "execute_result",
          "data": {
            "text/html": [
              "<div>\n",
              "<style scoped>\n",
              "    .dataframe tbody tr th:only-of-type {\n",
              "        vertical-align: middle;\n",
              "    }\n",
              "\n",
              "    .dataframe tbody tr th {\n",
              "        vertical-align: top;\n",
              "    }\n",
              "\n",
              "    .dataframe thead th {\n",
              "        text-align: right;\n",
              "    }\n",
              "</style>\n",
              "<table border=\"1\" class=\"dataframe\">\n",
              "  <thead>\n",
              "    <tr style=\"text-align: right;\">\n",
              "      <th></th>\n",
              "      <th>Latitude</th>\n",
              "      <th>Longitude</th>\n",
              "      <th>LenViol</th>\n",
              "      <th>TMAX</th>\n",
              "      <th>MeanMaxTemp3Days</th>\n",
              "      <th>DaysInBusiness</th>\n",
              "      <th>Facility Type</th>\n",
              "      <th>Risk</th>\n",
              "      <th>Inspection Type</th>\n",
              "      <th>Year</th>\n",
              "      <th>Month</th>\n",
              "      <th>Weekday</th>\n",
              "      <th>Results</th>\n",
              "    </tr>\n",
              "  </thead>\n",
              "  <tbody>\n",
              "    <tr>\n",
              "      <th>80786</th>\n",
              "      <td>-1.109214</td>\n",
              "      <td>-2.0867</td>\n",
              "      <td>1.476316</td>\n",
              "      <td>0.459289</td>\n",
              "      <td>0.650541</td>\n",
              "      <td>0.94589</td>\n",
              "      <td>grocery store</td>\n",
              "      <td>Risk 1 (High)</td>\n",
              "      <td>complaint</td>\n",
              "      <td>2012</td>\n",
              "      <td>5</td>\n",
              "      <td>3</td>\n",
              "      <td>Fail</td>\n",
              "    </tr>\n",
              "  </tbody>\n",
              "</table>\n",
              "</div>"
            ],
            "text/plain": [
              "       Latitude  Longitude   LenViol      TMAX  ...  Year  Month Weekday Results\n",
              "80786 -1.109214    -2.0867  1.476316  0.459289  ...  2012      5       3    Fail\n",
              "\n",
              "[1 rows x 13 columns]"
            ]
          },
          "metadata": {
            "tags": []
          },
          "execution_count": 7
        }
      ]
    },
    {
      "cell_type": "markdown",
      "metadata": {
        "id": "0VnOrGpOqEgT",
        "colab_type": "text"
      },
      "source": [
        "### 1.2 Encoding"
      ]
    },
    {
      "cell_type": "markdown",
      "metadata": {
        "id": "FGWcyPsEqJjz",
        "colab_type": "text"
      },
      "source": [
        "The following features need to be encoded :\n",
        "\n",
        "*   Facility Type\n",
        "*   Risk\n",
        "*   Inspection Type\n",
        "*   Month\n",
        "*   Weekday\n"
      ]
    },
    {
      "cell_type": "code",
      "metadata": {
        "id": "hucrFAgFp5rT",
        "colab_type": "code",
        "colab": {}
      },
      "source": [
        "# Encoding\n",
        "from sklearn.preprocessing import LabelEncoder, OneHotEncoder\n",
        "\n",
        "# One hot encoding\n",
        "one_hot = OneHotEncoder(categories=\"auto\")\n",
        "cat_to_onehot = pd.DataFrame(one_hot.fit_transform(df_prep[[\"Facility Type\", \"Risk\", \"Inspection Type\", \"Month\", \"Weekday\"]]).toarray())\n",
        "\n",
        "# Generate X\n",
        "X = df_prep[[\"Latitude\", \"Longitude\", \"LenViol\", \"TMAX\", \"MeanMaxTemp3Days\", \"DaysInBusiness\"]]\n",
        "X = pd.concat([X, cat_to_onehot], axis=1)\n",
        "\n",
        "# Generate y\n",
        "lab_encoder = LabelEncoder()\n",
        "Y = pd.DataFrame(lab_encoder.fit_transform(df_prep[\"Results\"]))"
      ],
      "execution_count": 0,
      "outputs": []
    },
    {
      "cell_type": "code",
      "metadata": {
        "id": "FgBBrNE9sGt9",
        "colab_type": "code",
        "outputId": "0617385d-5b64-495e-e3e6-ae5296b89552",
        "colab": {
          "base_uri": "https://localhost:8080/",
          "height": 99
        }
      },
      "source": [
        "X.sample(1)"
      ],
      "execution_count": 13,
      "outputs": [
        {
          "output_type": "execute_result",
          "data": {
            "text/html": [
              "<div>\n",
              "<style scoped>\n",
              "    .dataframe tbody tr th:only-of-type {\n",
              "        vertical-align: middle;\n",
              "    }\n",
              "\n",
              "    .dataframe tbody tr th {\n",
              "        vertical-align: top;\n",
              "    }\n",
              "\n",
              "    .dataframe thead th {\n",
              "        text-align: right;\n",
              "    }\n",
              "</style>\n",
              "<table border=\"1\" class=\"dataframe\">\n",
              "  <thead>\n",
              "    <tr style=\"text-align: right;\">\n",
              "      <th></th>\n",
              "      <th>Latitude</th>\n",
              "      <th>Longitude</th>\n",
              "      <th>LenViol</th>\n",
              "      <th>TMAX</th>\n",
              "      <th>MeanMaxTemp3Days</th>\n",
              "      <th>DaysInBusiness</th>\n",
              "      <th>0</th>\n",
              "      <th>1</th>\n",
              "      <th>2</th>\n",
              "      <th>3</th>\n",
              "      <th>4</th>\n",
              "      <th>5</th>\n",
              "      <th>6</th>\n",
              "      <th>7</th>\n",
              "      <th>8</th>\n",
              "      <th>9</th>\n",
              "      <th>10</th>\n",
              "      <th>11</th>\n",
              "      <th>12</th>\n",
              "      <th>13</th>\n",
              "      <th>14</th>\n",
              "      <th>15</th>\n",
              "      <th>16</th>\n",
              "      <th>17</th>\n",
              "      <th>18</th>\n",
              "      <th>19</th>\n",
              "      <th>20</th>\n",
              "      <th>21</th>\n",
              "      <th>22</th>\n",
              "      <th>23</th>\n",
              "      <th>24</th>\n",
              "      <th>25</th>\n",
              "      <th>26</th>\n",
              "      <th>27</th>\n",
              "      <th>28</th>\n",
              "      <th>29</th>\n",
              "      <th>30</th>\n",
              "      <th>31</th>\n",
              "      <th>32</th>\n",
              "      <th>33</th>\n",
              "      <th>34</th>\n",
              "      <th>35</th>\n",
              "      <th>36</th>\n",
              "      <th>37</th>\n",
              "      <th>38</th>\n",
              "      <th>39</th>\n",
              "      <th>40</th>\n",
              "      <th>41</th>\n",
              "      <th>42</th>\n",
              "      <th>43</th>\n",
              "      <th>44</th>\n",
              "      <th>45</th>\n",
              "      <th>46</th>\n",
              "      <th>47</th>\n",
              "      <th>48</th>\n",
              "      <th>49</th>\n",
              "      <th>50</th>\n",
              "      <th>51</th>\n",
              "      <th>52</th>\n",
              "      <th>53</th>\n",
              "      <th>54</th>\n",
              "      <th>55</th>\n",
              "      <th>56</th>\n",
              "      <th>57</th>\n",
              "      <th>58</th>\n",
              "    </tr>\n",
              "  </thead>\n",
              "  <tbody>\n",
              "    <tr>\n",
              "      <th>106061</th>\n",
              "      <td>0.447412</td>\n",
              "      <td>-1.278772</td>\n",
              "      <td>0.741898</td>\n",
              "      <td>-0.981533</td>\n",
              "      <td>-0.211545</td>\n",
              "      <td>-1.190353</td>\n",
              "      <td>0.0</td>\n",
              "      <td>0.0</td>\n",
              "      <td>0.0</td>\n",
              "      <td>0.0</td>\n",
              "      <td>0.0</td>\n",
              "      <td>0.0</td>\n",
              "      <td>0.0</td>\n",
              "      <td>0.0</td>\n",
              "      <td>0.0</td>\n",
              "      <td>0.0</td>\n",
              "      <td>0.0</td>\n",
              "      <td>0.0</td>\n",
              "      <td>0.0</td>\n",
              "      <td>0.0</td>\n",
              "      <td>0.0</td>\n",
              "      <td>1.0</td>\n",
              "      <td>0.0</td>\n",
              "      <td>0.0</td>\n",
              "      <td>0.0</td>\n",
              "      <td>0.0</td>\n",
              "      <td>0.0</td>\n",
              "      <td>1.0</td>\n",
              "      <td>0.0</td>\n",
              "      <td>0.0</td>\n",
              "      <td>0.0</td>\n",
              "      <td>0.0</td>\n",
              "      <td>0.0</td>\n",
              "      <td>0.0</td>\n",
              "      <td>0.0</td>\n",
              "      <td>0.0</td>\n",
              "      <td>1.0</td>\n",
              "      <td>0.0</td>\n",
              "      <td>0.0</td>\n",
              "      <td>0.0</td>\n",
              "      <td>0.0</td>\n",
              "      <td>0.0</td>\n",
              "      <td>0.0</td>\n",
              "      <td>0.0</td>\n",
              "      <td>0.0</td>\n",
              "      <td>0.0</td>\n",
              "      <td>0.0</td>\n",
              "      <td>0.0</td>\n",
              "      <td>0.0</td>\n",
              "      <td>1.0</td>\n",
              "      <td>0.0</td>\n",
              "      <td>0.0</td>\n",
              "      <td>0.0</td>\n",
              "      <td>0.0</td>\n",
              "      <td>0.0</td>\n",
              "      <td>0.0</td>\n",
              "      <td>0.0</td>\n",
              "      <td>0.0</td>\n",
              "      <td>1.0</td>\n",
              "      <td>0.0</td>\n",
              "      <td>0.0</td>\n",
              "      <td>0.0</td>\n",
              "      <td>0.0</td>\n",
              "      <td>0.0</td>\n",
              "      <td>0.0</td>\n",
              "    </tr>\n",
              "  </tbody>\n",
              "</table>\n",
              "</div>"
            ],
            "text/plain": [
              "        Latitude  Longitude   LenViol      TMAX  ...   55   56   57   58\n",
              "106061  0.447412  -1.278772  0.741898 -0.981533  ...  0.0  0.0  0.0  0.0\n",
              "\n",
              "[1 rows x 65 columns]"
            ]
          },
          "metadata": {
            "tags": []
          },
          "execution_count": 13
        }
      ]
    },
    {
      "cell_type": "markdown",
      "metadata": {
        "id": "aHgYac-1t-Ik",
        "colab_type": "text"
      },
      "source": [
        "# 2. Prediction"
      ]
    },
    {
      "cell_type": "markdown",
      "metadata": {
        "id": "VhYhoTXOuSQL",
        "colab_type": "text"
      },
      "source": [
        "### 2.1 Base rate"
      ]
    },
    {
      "cell_type": "code",
      "metadata": {
        "id": "leWDl33wtXNa",
        "colab_type": "code",
        "outputId": "ddf2ac63-fec3-4573-ca5a-bf23c796a05c",
        "colab": {
          "base_uri": "https://localhost:8080/",
          "height": 35
        }
      },
      "source": [
        "# The base rest is defined as : size(most frequent class)/size(dataset)\n",
        "failCount = df[df[\"Results\"] == \"Fail\"].shape[0]\n",
        "passCount = df[df[\"Results\"] == \"Pass\"].shape[0]\n",
        "\n",
        "if passCount > failCount :\n",
        "  print(\"The most frequent class is \" + \"'Pass' (\" + str(passCount) + \") VS 'Fail' (\" + str(failCount)+ \").\")\n",
        "else :\n",
        "   print(\"The most frequent class is \" + \"'Fail' (\" + str(failCount) + \") VS 'Pass' (\" + str(passCount)+ \").\")"
      ],
      "execution_count": 14,
      "outputs": [
        {
          "output_type": "stream",
          "text": [
            "The most frequent class is 'Pass' (92447) VS 'Fail' (30148).\n"
          ],
          "name": "stdout"
        }
      ]
    },
    {
      "cell_type": "code",
      "metadata": {
        "id": "LNFuDhxYtGeV",
        "colab_type": "code",
        "outputId": "f97bfd52-a15a-4472-c777-527181ecc8b0",
        "colab": {
          "base_uri": "https://localhost:8080/",
          "height": 35
        }
      },
      "source": [
        "# Base rate\n",
        "br = max(passCount, failCount)/(passCount + failCount)\n",
        "\n",
        "print(\"The base rate is : \" + str(round(br,3)))"
      ],
      "execution_count": 15,
      "outputs": [
        {
          "output_type": "stream",
          "text": [
            "The base rate is : 0.754\n"
          ],
          "name": "stdout"
        }
      ]
    },
    {
      "cell_type": "markdown",
      "metadata": {
        "id": "rK_roncpW1OA",
        "colab_type": "text"
      },
      "source": [
        "### 2.2 Balance dataset"
      ]
    },
    {
      "cell_type": "code",
      "metadata": {
        "id": "NffnhBDCUB_A",
        "colab_type": "code",
        "colab": {
          "base_uri": "https://localhost:8080/",
          "height": 104
        },
        "outputId": "4d894673-522e-45a4-db8b-5879a515d519"
      },
      "source": [
        "from sklearn.model_selection import train_test_split\n",
        "from sklearn.utils import resample\n",
        "\n",
        "Y=Y.rename(columns={0:\"Results\"})\n",
        "X_train, X_test, Y_train, Y_test = train_test_split(X, Y, test_size=0.2)\n",
        "down_sample=pd.concat([X_train,Y_train],axis=1)\n",
        "pa=down_sample[down_sample[\"Results\"]==1]\n",
        "fa=down_sample[down_sample[\"Results\"]==0]\n",
        "pa=resample(pa, n_samples=len(fa.index), random_state=0)\n",
        "concat=pa.append(fa,ignore_index=True)\n",
        "X_train=concat.drop([\"Results\"],axis=1)\n",
        "Y_train=concat[\"Results\"]\n",
        "\n",
        "print(X_train.shape)\n",
        "print(X_test.shape)\n",
        "print(Y_train.value_counts())"
      ],
      "execution_count": 16,
      "outputs": [
        {
          "output_type": "stream",
          "text": [
            "(48230, 65)\n",
            "(24519, 65)\n",
            "1    24115\n",
            "0    24115\n",
            "Name: Results, dtype: int64\n"
          ],
          "name": "stdout"
        }
      ]
    },
    {
      "cell_type": "code",
      "metadata": {
        "id": "jZj2xdtn52EW",
        "colab_type": "code",
        "colab": {
          "base_uri": "https://localhost:8080/",
          "height": 87
        },
        "outputId": "2fb1ee09-416a-412e-88b7-b445625629ea"
      },
      "source": [
        "# Because the name of the column will disappear after one-hot encoding, we rename the dataframe\n",
        "X.columns=['Latitude','Longitude','LenViol','TMAX', 'MeanMaxTemp3Days','DaysInBusiness','bakery', 'catering','childrens services facility',\n",
        "'daycare (2 - 6 years)', 'daycare (under 2 years)','daycare above and under 2 years', 'daycare combo 1586','gas station', 'golden diner',\n",
        "'grocery store', 'hospital','liquor', 'long term care', 'mobile food dispenser','mobile food preparer', 'restaurant', 'school',\n",
        "'shared kitchen user (long term)', 'special event', 'tavern','wholesale','Risk 1 (High)', 'Risk 2 (Medium)', 'Risk 3 (Low)','canvass',\n",
        "'canvass re-inspection', 'complaint','complaint re-inspection', 'complaint-fire', 'consultation','license', 'license re-inspection',\n",
        "'license-task force','recent inspection', 'short form complaint','short form fire-complaint', 'suspected food poisoning',\n",
        "'suspected food poisoning re-inspection', 'tag removal','task force liquor 1475',\n",
        "\"m1\",\"m2\",\"m3\",\"m4\",\"m5\",\"m6\",\"m7\",\"m8\",\"m9\",\"m10\",\"m11\",\"m12\",\"d0\",\"d1\",\"d2\",\"d3\",\"d4\",\"d5\",\"d6\"]\n",
        "print(X.sample(1))"
      ],
      "execution_count": 17,
      "outputs": [
        {
          "output_type": "stream",
          "text": [
            "        Latitude  Longitude   LenViol      TMAX  ...   d3   d4   d5   d6\n",
            "115649 -1.867875   1.212744 -0.100178  1.322056  ...  0.0  1.0  0.0  0.0\n",
            "\n",
            "[1 rows x 65 columns]\n"
          ],
          "name": "stdout"
        }
      ]
    },
    {
      "cell_type": "markdown",
      "metadata": {
        "id": "WuHAIMcNR910",
        "colab_type": "text"
      },
      "source": [
        "### 2.3 Feature selection using Randomforest"
      ]
    },
    {
      "cell_type": "code",
      "metadata": {
        "id": "ceoPEdSl4Z92",
        "colab_type": "code",
        "colab": {
          "base_uri": "https://localhost:8080/",
          "height": 35
        },
        "outputId": "6bd8d8bd-8784-42b8-fc02-12acec452218"
      },
      "source": [
        "from sklearn.ensemble import RandomForestClassifier\n",
        "from sklearn.feature_selection import SelectFromModel\n",
        "\n",
        "clf = RandomForestClassifier()\n",
        "clf = clf.fit(X,Y)\n",
        "thre=0.008\n",
        "model = SelectFromModel(clf,prefit=True,threshold=thre)\n",
        "x_select_ran = pd.DataFrame(model.transform(X))\n",
        "x_select_ran.shape"
      ],
      "execution_count": 18,
      "outputs": [
        {
          "output_type": "execute_result",
          "data": {
            "text/plain": [
              "(122595, 12)"
            ]
          },
          "metadata": {
            "tags": []
          },
          "execution_count": 18
        }
      ]
    },
    {
      "cell_type": "markdown",
      "metadata": {
        "id": "0hKlQcgtmuRr",
        "colab_type": "text"
      },
      "source": [
        "### 2.4 Dimension reduction using PCA"
      ]
    },
    {
      "cell_type": "code",
      "metadata": {
        "id": "l3KWMDdRaHvM",
        "colab_type": "code",
        "colab": {
          "base_uri": "https://localhost:8080/",
          "height": 52
        },
        "outputId": "27ab0e43-5bf3-43b1-a0fd-4aa818f6efa4"
      },
      "source": [
        "from sklearn.decomposition import PCA\n",
        "\n",
        "pca = PCA(n_components=14, svd_solver='auto')\n",
        "pca.fit(X)\n",
        "x_select_pca=pd.DataFrame(pca.transform(X))\n",
        "print(round(sum(pca.explained_variance_ratio_),3))\n",
        "print(x_select_pca.shape)"
      ],
      "execution_count": 19,
      "outputs": [
        {
          "output_type": "stream",
          "text": [
            "0.853\n",
            "(122595, 14)\n"
          ],
          "name": "stdout"
        }
      ]
    },
    {
      "cell_type": "markdown",
      "metadata": {
        "id": "XmI9M0xpSNJg",
        "colab_type": "text"
      },
      "source": [
        "### 2.5 Compare the accuracy score between algorithms"
      ]
    },
    {
      "cell_type": "code",
      "metadata": {
        "id": "wgEg9RQCMyQu",
        "colab_type": "code",
        "colab": {}
      },
      "source": [
        "from sklearn.svm import SVC\n",
        "from sklearn import tree\n",
        "from sklearn.linear_model import LogisticRegression\n",
        "from sklearn.ensemble import GradientBoostingClassifier,VotingClassifier,AdaBoostClassifier\n",
        "from sklearn.discriminant_analysis import QuadraticDiscriminantAnalysis\n",
        "import xgboost as xgb\n",
        "import numpy as np\n",
        "from sklearn.model_selection import cross_val_score,KFold\n",
        "from sklearn.neighbors import KNeighborsClassifier\n",
        "from sklearn.naive_bayes import GaussianNB\n",
        "from sklearn.neural_network import MLPClassifier\n",
        "\n",
        "kf = KFold(n_splits=5, random_state=None, shuffle=True)\n",
        "out=[]\n",
        "\n",
        "def gbc(x,y):\n",
        "    clf = GradientBoostingClassifier()\n",
        "    scores = cross_val_score(clf,x,y,cv=kf)\n",
        "    out.append(round(scores.mean(),3))\n",
        "    \n",
        "def ada(x,y):\n",
        "    clf = AdaBoostClassifier()\n",
        "    scores = cross_val_score(clf,x,y,cv=kf)\n",
        "    out.append(round(scores.mean(),3))\n",
        "    \n",
        "def qda(x,y):\n",
        "    clf=QuadraticDiscriminantAnalysis()\n",
        "    scores = cross_val_score(clf,x,y,cv=kf)\n",
        "    out.append(round(scores.mean(),3))\n",
        "    \n",
        "def mlp(x,y):\n",
        "    mlp=MLPClassifier()\n",
        "    scores = cross_val_score(mlp,x,y,cv=kf)\n",
        "    out.append(round(scores.mean(),3))\n",
        "    \n",
        "def bayes(x,y):\n",
        "    clf = GaussianNB()\n",
        "    scores = cross_val_score(clf,x,y, cv=kf)\n",
        "    out.append(round(scores.mean(),3))\n",
        "    \n",
        "def knn(x,y):\n",
        "    neigh = KNeighborsClassifier()\n",
        "    scores = cross_val_score(neigh,x,y, cv=kf)\n",
        "    out.append(round(scores.mean(),3))\n",
        "    \n",
        "def logistic(x,y):\n",
        "    classifier = LogisticRegression()\n",
        "    scores = cross_val_score(classifier,x,y, cv=kf)\n",
        "    out.append(round(scores.mean(),3))\n",
        "    \n",
        "def forest(x,y):\n",
        "    forest = RandomForestClassifier()\n",
        "    scores = cross_val_score(forest,x,y, cv=kf)\n",
        "    out.append(round(scores.mean(),3))\n",
        "    \n",
        "def xg(x,y):\n",
        "    x=np.array(x)\n",
        "    xgbc=xgb.XGBClassifier()\n",
        "    scores = cross_val_score(xgbc, x,y, cv=kf)\n",
        "    out.append(round(scores.mean(),3))\n",
        "    \n",
        "def tr(x,y):\n",
        "    tre = tree.DecisionTreeClassifier()\n",
        "    scores = cross_val_score(tre,x,y, cv=kf)\n",
        "    out.append(round(scores.mean(),3))\n",
        "    \n",
        "def sv(x,y):\n",
        "    clf = SVC()\n",
        "    scores = cross_val_score(clf,x,y, cv=kf)\n",
        "    out.append(round(scores.mean(),3))\n",
        "    \n",
        "def pipe(x,y):\n",
        "    gbc(x,y)\n",
        "    ada(x,y)\n",
        "    qda(x,y)\n",
        "    mlp(x,y)\n",
        "    bayes(x,y)\n",
        "    knn(x,y)\n",
        "    logistic(x,y)\n",
        "    forest(x,y)\n",
        "    xg(x,y)\n",
        "    tr(x,y)\n",
        "    sv(x,y)\n",
        "\n",
        "pipe(X,Y)\n",
        "pipe(x_select_pca,Y)\n",
        "pipe(x_select_ran,Y)"
      ],
      "execution_count": 0,
      "outputs": []
    },
    {
      "cell_type": "code",
      "metadata": {
        "id": "gu5PPQcFMzfd",
        "colab_type": "code",
        "outputId": "76f9a8ba-fc7f-4205-8406-2a8a2864ded8",
        "colab": {
          "base_uri": "https://localhost:8080/",
          "height": 732
        }
      },
      "source": [
        "# Plot the accuracy comparison\n",
        "from matplotlib.font_manager import FontProperties\n",
        "import matplotlib.pyplot as plt\n",
        "\n",
        "xticks=[\"gbc\",\"ada\",\"qda\",\"mlp\",\"bayes\",\"knn\",\"log\",\"ran\",\"xgb\",\"tree\",\"svc\"]\n",
        "x_acc=out[:11]\n",
        "x_select1_acc=out[11:22]\n",
        "x_select2_acc=out[22:]\n",
        "plt.figure(figsize=(10,7),dpi=100,linewidth = 2)\n",
        "plt.plot(xticks,x_acc,'s-',color = 'r', label=\"x\")\n",
        "plt.plot(xticks,x_select1_acc,'o-',color = 'b', label=\"x_select_pca\")\n",
        "plt.plot(xticks,x_select2_acc,'^-',color = 'g', label=\"x_select_ran\")\n",
        "plt.title(\"Accuracy Comparison\", x=0.5, y=1.03,fontsize=40)\n",
        "plt.xticks(fontsize=20)\n",
        "plt.yticks(fontsize=20)\n",
        "plt.xlabel(\"Classifier\", fontsize=30, labelpad = 15)\n",
        "plt.ylabel(\"Input\", fontsize=30, labelpad = 20)\n",
        "plt.legend(loc = \"best\", fontsize=20)\n",
        "plt.show()"
      ],
      "execution_count": 21,
      "outputs": [
        {
          "output_type": "display_data",
          "data": {
            "image/png": "[encoded data removed]",
            "text/plain": [
              "<Figure size 1000x700 with 1 Axes>"
            ]
          },
          "metadata": {
            "tags": []
          }
        }
      ]
    },
    {
      "cell_type": "markdown",
      "metadata": {
        "id": "VQIl25RhSmh_",
        "colab_type": "text"
      },
      "source": [
        "### 2.5 Grid search for GradientBoosting, KNN, LogisticR, DecisionT, MLP, Xgboost,"
      ]
    },
    {
      "cell_type": "code",
      "metadata": {
        "id": "y0izBvSqNJZx",
        "colab_type": "code",
        "outputId": "87ee03a8-d785-47d6-e7c3-33270a53c53c",
        "colab": {
          "base_uri": "https://localhost:8080/",
          "height": 52
        }
      },
      "source": [
        "#1. Grid search for GradientBoosting (We found the important hyper parameters based on the API documents and we start from default setting then try higher or lower number.)\n",
        "from sklearn.model_selection import GridSearchCV\n",
        "\n",
        "model=GradientBoostingClassifier()\n",
        "param_grid = {'learning_rate':[0.1,0.05,0.2], 'n_estimators':[50,100,200],\"max_depth\":[2,3,4]}\n",
        "grid = GridSearchCV(estimator=model, param_grid=param_grid,cv=kf,scoring=\"accuracy\")\n",
        "grid_result = grid.fit(x_select_ran,Y)\n",
        "print(grid_result.best_params_)\n",
        "print(round(grid_result.best_score_,3))"
      ],
      "execution_count": 22,
      "outputs": [
        {
          "output_type": "stream",
          "text": [
            "{'learning_rate': 0.2, 'max_depth': 4, 'n_estimators': 200}\n",
            "0.843\n"
          ],
          "name": "stdout"
        }
      ]
    },
    {
      "cell_type": "code",
      "metadata": {
        "id": "N_bciO1ZNm_r",
        "colab_type": "code",
        "outputId": "3b5a9359-1763-4ddb-dc25-e797f386e14c",
        "colab": {
          "base_uri": "https://localhost:8080/",
          "height": 52
        }
      },
      "source": [
        "#2. Grid search for GradientBoosting (We found 0.2 for learning rate is the best so we tried bigger number, so does n_estimators.)\n",
        "\n",
        "model=GradientBoostingClassifier()\n",
        "param_grid = {'learning_rate':[0.3,0.2], 'n_estimators':[300,200],\"max_depth\":[2,3,4]}\n",
        "grid = GridSearchCV(estimator=model, param_grid=param_grid,cv=kf,scoring=\"accuracy\")\n",
        "grid_result = grid.fit(x_select_ran,Y)\n",
        "print(grid_result.best_params_)\n",
        "print(round(grid_result.best_score_,3))"
      ],
      "execution_count": 23,
      "outputs": [
        {
          "output_type": "stream",
          "text": [
            "{'learning_rate': 0.3, 'max_depth': 3, 'n_estimators': 200}\n",
            "0.844\n"
          ],
          "name": "stdout"
        }
      ]
    },
    {
      "cell_type": "code",
      "metadata": {
        "id": "ETpxP_Q2OAK7",
        "colab_type": "code",
        "outputId": "e029bbff-1799-45a7-e2ec-511f947bd5ea",
        "colab": {
          "base_uri": "https://localhost:8080/",
          "height": 52
        }
      },
      "source": [
        "#3. Grid search for GradientBoostingClassifier (We searched the learning rate around 0.2 and n_estimators around 200. Futhermore, we tried higher max_depth.)\n",
        "\n",
        "model=GradientBoostingClassifier()\n",
        "param_grid = {'learning_rate':[0.2,0.25,0.15], 'n_estimators':[200,250,150],\"max_depth\":[4,5,6]}\n",
        "grid = GridSearchCV(estimator=model, param_grid=param_grid,cv=kf,scoring=\"accuracy\")\n",
        "grid_result = grid.fit(x_select_ran,Y)\n",
        "print(grid_result.best_params_)\n",
        "print(round(grid_result.best_score_,3))"
      ],
      "execution_count": 24,
      "outputs": [
        {
          "output_type": "stream",
          "text": [
            "{'learning_rate': 0.15, 'max_depth': 5, 'n_estimators': 250}\n",
            "0.844\n"
          ],
          "name": "stdout"
        }
      ]
    },
    {
      "cell_type": "code",
      "metadata": {
        "id": "gklwB-PkfeJH",
        "colab_type": "code",
        "colab": {
          "base_uri": "https://localhost:8080/",
          "height": 52
        },
        "outputId": "815bbfbb-3c76-4d7e-fe8d-a6681c786bcf"
      },
      "source": [
        "#1. Grid search for KNeighborsClassifier (We found the important hyper parameters based on the API documents and we start from default setting then try higher or lower number.)\n",
        "\n",
        "model=KNeighborsClassifier()\n",
        "param_grid = {'n_neighbors':[4,5,6], 'weights':[\"uniform\",\"distance\"],\"p\":[1,2]}\n",
        "grid = GridSearchCV(estimator=model, param_grid=param_grid,cv=kf,scoring=\"accuracy\")\n",
        "grid_result = grid.fit(x_select_ran,Y)\n",
        "print(grid_result.best_params_)\n",
        "print(round(grid_result.best_score_,3))"
      ],
      "execution_count": 25,
      "outputs": [
        {
          "output_type": "stream",
          "text": [
            "{'n_neighbors': 6, 'p': 1, 'weights': 'distance'}\n",
            "0.829\n"
          ],
          "name": "stdout"
        }
      ]
    },
    {
      "cell_type": "code",
      "metadata": {
        "id": "h0tRWZLchgHq",
        "colab_type": "code",
        "colab": {
          "base_uri": "https://localhost:8080/",
          "height": 52
        },
        "outputId": "eae904e5-feef-409d-f2b1-cab04a27d422"
      },
      "source": [
        "#2. Grid search for KNeighborsClassifier (We tried to find larger n_neighbors)\n",
        "\n",
        "model=KNeighborsClassifier(p=1,weights=\"distance\")\n",
        "param_grid = {'n_neighbors':[6,7,8]}\n",
        "grid = GridSearchCV(estimator=model, param_grid=param_grid,cv=kf,scoring=\"accuracy\")\n",
        "grid_result = grid.fit(x_select_ran,Y)\n",
        "print(grid_result.best_params_)\n",
        "print(round(grid_result.best_score_,3))"
      ],
      "execution_count": 26,
      "outputs": [
        {
          "output_type": "stream",
          "text": [
            "{'n_neighbors': 8}\n",
            "0.833\n"
          ],
          "name": "stdout"
        }
      ]
    },
    {
      "cell_type": "code",
      "metadata": {
        "id": "HkamjH8ohren",
        "colab_type": "code",
        "colab": {
          "base_uri": "https://localhost:8080/",
          "height": 52
        },
        "outputId": "fdf1a12f-7255-4967-d8db-1ce6578b992b"
      },
      "source": [
        "#1. Grid search for DecisionTreeClassifier (We found the important hyper parameters based on the API documents and we start from default setting then try higher or lower number.)\n",
        "\n",
        "model=tree.DecisionTreeClassifier()\n",
        "param_grid = {'criterion':[\"gini\",\"entropy\"], 'min_samples_leaf':[1,2],\"min_samples_split\":[2,3]}\n",
        "grid = GridSearchCV(estimator=model, param_grid=param_grid,cv=kf,scoring=\"accuracy\")\n",
        "grid_result = grid.fit(x_select_ran,Y)\n",
        "print(grid_result.best_params_)\n",
        "print(round(grid_result.best_score_,3))"
      ],
      "execution_count": 27,
      "outputs": [
        {
          "output_type": "stream",
          "text": [
            "{'criterion': 'entropy', 'min_samples_leaf': 1, 'min_samples_split': 2}\n",
            "0.78\n"
          ],
          "name": "stdout"
        }
      ]
    },
    {
      "cell_type": "code",
      "metadata": {
        "id": "nz6ea4ANjJZ9",
        "colab_type": "code",
        "colab": {
          "base_uri": "https://localhost:8080/",
          "height": 52
        },
        "outputId": "37c9ce89-9d15-4404-fb10-9ee77de151e9"
      },
      "source": [
        "#1. Grid search for LogisticRegression (We found the important hyper parameters based on the API documents and we start from default setting then try higher or lower number.)\n",
        "\n",
        "model=LogisticRegression(solver=\"saga\")\n",
        "param_grid = {'penalty':[\"l1\",\"l2\"], 'tol':[1e-4,1e-3,1e-5],\"C\":[1,2]}\n",
        "grid = GridSearchCV(estimator=model, param_grid=param_grid,cv=kf,scoring=\"accuracy\")\n",
        "grid_result = grid.fit(x_select_ran,Y)\n",
        "print(grid_result.best_params_)\n",
        "print(grid_result.best_score_)"
      ],
      "execution_count": 28,
      "outputs": [
        {
          "output_type": "stream",
          "text": [
            "{'C': 1, 'penalty': 'l2', 'tol': 0.001}\n",
            "0.8395040580774094\n"
          ],
          "name": "stdout"
        }
      ]
    },
    {
      "cell_type": "code",
      "metadata": {
        "id": "hYGHskOwlenZ",
        "colab_type": "code",
        "colab": {
          "base_uri": "https://localhost:8080/",
          "height": 52
        },
        "outputId": "647da98f-f8f6-4c29-d74b-ccc69e9e7958"
      },
      "source": [
        "#2. Grid search for LogisticRegression (We tried to find smaller tol)\n",
        "\n",
        "model=LogisticRegression(penalty=\"l1\",solver=\"saga\")\n",
        "param_grid = {'tol':[1e-3,1e-2],\"C\":[1,1.5]}\n",
        "grid = GridSearchCV(estimator=model, param_grid=param_grid,cv=kf,scoring=\"accuracy\")\n",
        "grid_result = grid.fit(x_select_ran,Y)\n",
        "print(grid_result.best_params_)\n",
        "print(round(grid_result.best_score_,3))"
      ],
      "execution_count": 29,
      "outputs": [
        {
          "output_type": "stream",
          "text": [
            "{'C': 1.5, 'tol': 0.001}\n",
            "0.839\n"
          ],
          "name": "stdout"
        }
      ]
    },
    {
      "cell_type": "code",
      "metadata": {
        "id": "1TULWpgilujY",
        "colab_type": "code",
        "colab": {
          "base_uri": "https://localhost:8080/",
          "height": 52
        },
        "outputId": "5525a47d-7ac0-435a-a298-129fb6bf87dc"
      },
      "source": [
        "#3. Grid search for LogisticRegression (We tried to find smaller tol)\n",
        "\n",
        "model=LogisticRegression(penalty=\"l1\",solver=\"saga\",C=1.5)\n",
        "param_grid = {'tol':[0.1,1e-2]}\n",
        "grid = GridSearchCV(estimator=model, param_grid=param_grid,cv=kf,scoring=\"accuracy\")\n",
        "grid_result = grid.fit(x_select_ran,Y)\n",
        "print(grid_result.best_params_)\n",
        "print(round(grid_result.best_score_,3))"
      ],
      "execution_count": 30,
      "outputs": [
        {
          "output_type": "stream",
          "text": [
            "{'tol': 0.01}\n",
            "0.839\n"
          ],
          "name": "stdout"
        }
      ]
    },
    {
      "cell_type": "code",
      "metadata": {
        "id": "6MN5R7SwclTw",
        "colab_type": "code",
        "outputId": "4ff93a38-9632-4953-d3f2-5e01b09bf42b",
        "colab": {
          "base_uri": "https://localhost:8080/",
          "height": 52
        }
      },
      "source": [
        "#1. Grid search for MLPClassifier (We found the important hyper parameters based on the API documents and we start from default setting then try higher or lower number.)\n",
        "\n",
        "model=MLPClassifier()\n",
        "param_grid = {\"hidden_layer_sizes\":((200,),(100,),(50,))}\n",
        "grid = GridSearchCV(estimator=model, param_grid=param_grid,cv=kf,scoring=\"accuracy\")\n",
        "grid_result = grid.fit(x_select_ran,Y)\n",
        "print(grid_result.best_params_)\n",
        "print(round(grid_result.best_score_,3))"
      ],
      "execution_count": 31,
      "outputs": [
        {
          "output_type": "stream",
          "text": [
            "{'hidden_layer_sizes': (50,)}\n",
            "0.842\n"
          ],
          "name": "stdout"
        }
      ]
    },
    {
      "cell_type": "code",
      "metadata": {
        "id": "pSBQaZ24nmlg",
        "colab_type": "code",
        "outputId": "7a5228d1-81b4-42be-9792-04ef3be46a93",
        "colab": {
          "base_uri": "https://localhost:8080/",
          "height": 52
        }
      },
      "source": [
        "#2. Grid search for MLPClassifier (We searched layer_sizes around 100.)\n",
        "\n",
        "model=MLPClassifier()\n",
        "param_grid = {\"hidden_layer_sizes\":((75,),(100,),(150,))}\n",
        "grid = GridSearchCV(estimator=model, param_grid=param_grid,cv=kf,scoring=\"accuracy\")\n",
        "grid_result = grid.fit(x_select_ran,Y)\n",
        "print(grid_result.best_params_)\n",
        "print(round(grid_result.best_score_,3))"
      ],
      "execution_count": 32,
      "outputs": [
        {
          "output_type": "stream",
          "text": [
            "{'hidden_layer_sizes': (150,)}\n",
            "0.842\n"
          ],
          "name": "stdout"
        }
      ]
    },
    {
      "cell_type": "code",
      "metadata": {
        "id": "Il716GLX90vv",
        "colab_type": "code",
        "outputId": "efef9399-3095-446e-b3a9-87bb7950cb14",
        "colab": {
          "base_uri": "https://localhost:8080/",
          "height": 52
        }
      },
      "source": [
        "#1. Grid search for XGBClassifier (We found the important hyper parameters based on the API documents and we start from default setting then try higher or lower number.)\n",
        "\n",
        "model=xgb.XGBClassifier()\n",
        "param_grid = {'eta':[0.2,0.3,0.4], 'max_depth':[6,7,5],\"gamma\":[0,10,100]}\n",
        "grid = GridSearchCV(estimator=model, param_grid=param_grid,cv=kf,scoring=\"accuracy\")\n",
        "grid_result = grid.fit(x_select_ran,Y)\n",
        "print(grid_result.best_params_)\n",
        "print(round(grid_result.best_score_,3))"
      ],
      "execution_count": 33,
      "outputs": [
        {
          "output_type": "stream",
          "text": [
            "{'eta': 0.2, 'gamma': 0, 'max_depth': 7}\n",
            "0.844\n"
          ],
          "name": "stdout"
        }
      ]
    },
    {
      "cell_type": "code",
      "metadata": {
        "id": "kAmLoC3X92Lm",
        "colab_type": "code",
        "outputId": "7f693da1-29bb-4d7f-9e57-bf348a53ad73",
        "colab": {
          "base_uri": "https://localhost:8080/",
          "height": 52
        }
      },
      "source": [
        "#2. Grid search for XGBClassifier (We tried lower eta and higher max_depth.)\n",
        "\n",
        "model=xgb.XGBClassifier()\n",
        "param_grid = {'eta':[0.2,0.1], 'max_depth':[7,8,9]}\n",
        "grid = GridSearchCV(estimator=model, param_grid=param_grid,cv=kf,scoring=\"accuracy\")\n",
        "grid_result = grid.fit(x_select_ran,Y)\n",
        "print(grid_result.best_params_)\n",
        "print(round(grid_result.best_score_,3))"
      ],
      "execution_count": 34,
      "outputs": [
        {
          "output_type": "stream",
          "text": [
            "{'eta': 0.2, 'max_depth': 7}\n",
            "0.845\n"
          ],
          "name": "stdout"
        }
      ]
    },
    {
      "cell_type": "code",
      "metadata": {
        "id": "bwAAAUwb94Oc",
        "colab_type": "code",
        "outputId": "403befda-0824-4959-a70a-3638ea6df494",
        "colab": {
          "base_uri": "https://localhost:8080/",
          "height": 52
        }
      },
      "source": [
        "#3. Grid search for XGBClassifier (We tried higher max_depth.)\n",
        "\n",
        "model=xgb.XGBClassifier()\n",
        "param_grid = {'max_depth':[9,10,11]}\n",
        "grid = GridSearchCV(estimator=model, param_grid=param_grid,cv=kf,scoring=\"accuracy\")\n",
        "grid_result = grid.fit(x_select_ran,Y)\n",
        "print(grid_result.best_params_)\n",
        "print(round(grid_result.best_score_,3))"
      ],
      "execution_count": 35,
      "outputs": [
        {
          "output_type": "stream",
          "text": [
            "{'max_depth': 9}\n",
            "0.844\n"
          ],
          "name": "stdout"
        }
      ]
    },
    {
      "cell_type": "markdown",
      "metadata": {
        "id": "DjVYhYsGqECS",
        "colab_type": "text"
      },
      "source": [
        "###2.6 To show the important variables"
      ]
    },
    {
      "cell_type": "code",
      "metadata": {
        "id": "2FkVtCrzbH9T",
        "colab_type": "code",
        "colab": {
          "base_uri": "https://localhost:8080/",
          "height": 609
        },
        "outputId": "01ec3f40-6837-4a7c-eb81-cb3ca88e1e69"
      },
      "source": [
        "model=xgb.XGBClassifier(max_depth=9)\n",
        "model.fit(X,Y)\n",
        "feature_important=model.get_booster().get_score(importance_type=\"gain\")\n",
        "keys = list(feature_important.keys())\n",
        "values = list(feature_important.values())\n",
        "data = pd.DataFrame(data=values, index=keys, columns=[\"score\"]).sort_values(by = \"score\", ascending=True)\n",
        "data.plot(kind=\"barh\",figsize=(10,10))"
      ],
      "execution_count": 36,
      "outputs": [
        {
          "output_type": "execute_result",
          "data": {
            "text/plain": [
              "<matplotlib.axes._subplots.AxesSubplot at 0x7fca95c7f208>"
            ]
          },
          "metadata": {
            "tags": []
          },
          "execution_count": 36
        },
        {
          "output_type": "display_data",
          "data": {
            "image/png": "[encoded data removed]",
            "text/plain": [
              "<Figure size 720x720 with 1 Axes>"
            ]
          },
          "metadata": {
            "tags": []
          }
        }
      ]
    },
    {
      "cell_type": "markdown",
      "metadata": {
        "id": "vL-HFs2sVrWY",
        "colab_type": "text"
      },
      "source": [
        "### 2.7 Voting ensemble\n"
      ]
    },
    {
      "cell_type": "code",
      "metadata": {
        "id": "sk6opuo6RyKg",
        "colab_type": "code",
        "outputId": "33e0dadb-fd08-4e27-a032-d27214ec4096",
        "colab": {
          "base_uri": "https://localhost:8080/",
          "height": 69
        }
      },
      "source": [
        "# We chose the best 3 classifiers into voting the gragh before.\n",
        "# We used hyper parameters we found in grid search for the 3 classifiers.\n",
        "\n",
        "def vote(x,y):\n",
        "    clf1 = xgb.XGBClassifier(max_depth=9)\n",
        "    clf2 = GradientBoostingClassifier(learning_rate=0.15,max_depth=5,n_estimators=200)\n",
        "    clf3 = MLPClassifier(hidden_layer_sizes = (75,))\n",
        "    eclf = VotingClassifier(estimators=[('1', clf1), ('2', clf2), ('3', clf3)])\n",
        "    scores = cross_val_score(eclf,x,y,cv=kf)\n",
        "    print(round(scores.mean(),3))\n",
        "\n",
        "vote(X,Y)\n",
        "vote(x_select_pca,Y)\n",
        "vote(x_select_ran,Y)"
      ],
      "execution_count": 37,
      "outputs": [
        {
          "output_type": "stream",
          "text": [
            "0.85\n",
            "0.845\n",
            "0.845\n"
          ],
          "name": "stdout"
        }
      ]
    },
    {
      "cell_type": "markdown",
      "metadata": {
        "id": "tCrDrKys89PC",
        "colab_type": "text"
      },
      "source": [
        "###2.8 Show the confusion matrix and other scores"
      ]
    },
    {
      "cell_type": "code",
      "metadata": {
        "id": "n55Ya8O2k4Wu",
        "colab_type": "code",
        "outputId": "bf47af1e-b71b-450d-d5e5-9e563580a410",
        "colab": {
          "base_uri": "https://localhost:8080/",
          "height": 497
        }
      },
      "source": [
        "#Plot the confusion matrix and print the other scores.\n",
        "#We used x_select_ran rather than X because it is much faster without losing a lot accuracy.\n",
        "\n",
        "from sklearn.metrics import confusion_matrix,f1_score,recall_score,precision_score,average_precision_score\n",
        "import seaborn as sn\n",
        "\n",
        "clf1 = xgb.XGBClassifier(max_depth=9)\n",
        "clf2 = GradientBoostingClassifier(learning_rate=0.15,max_depth=5,n_estimators=200)\n",
        "clf3 = MLPClassifier(hidden_layer_sizes = (75,))\n",
        "classifier = VotingClassifier(estimators=[('1', clf1), ('2', clf2), ('3', clf3)]).fit(X_train, Y_train)\n",
        "Y_pred=classifier.predict(X_test)\n",
        "matrix=confusion_matrix(Y_test, Y_pred)\n",
        "plt.figure(figsize = (10,7))\n",
        "sn.heatmap(matrix, annot=True)\n",
        "\n",
        "print(\"The f1 score is: \"+str(round(f1_score(Y_test, Y_pred),3)))\n",
        "print(\"The recall score is: \"+str(round(recall_score(Y_test, Y_pred),3)))\n",
        "print(\"The precision score is: \"+str(round(precision_score(Y_test, Y_pred),3))+\"\\n\")"
      ],
      "execution_count": 38,
      "outputs": [
        {
          "output_type": "stream",
          "text": [
            "The f1 score is: 0.858\n",
            "The recall score is: 0.804\n",
            "The precision score is: 0.92\n",
            "\n"
          ],
          "name": "stdout"
        },
        {
          "output_type": "display_data",
          "data": {
            "image/png": "[encoded data removed]",
            "text/plain": [
              "<Figure size 720x504 with 2 Axes>"
            ]
          },
          "metadata": {
            "tags": []
          }
        }
      ]
    },
    {
      "cell_type": "code",
      "metadata": {
        "id": "OvAksbHvwFZN",
        "colab_type": "code",
        "colab": {
          "base_uri": "https://localhost:8080/",
          "height": 35
        },
        "outputId": "e51187c0-997b-47fb-fa2f-bb5319a8a0f4"
      },
      "source": [
        "from sklearn.metrics import accuracy_score\n",
        "print(\"The accuracy is: \"+str(round(accuracy_score(Y_test, Y_pred),3)))"
      ],
      "execution_count": 46,
      "outputs": [
        {
          "output_type": "stream",
          "text": [
            "The accuracy is: 0.8\n"
          ],
          "name": "stdout"
        }
      ]
    }
  ]
}