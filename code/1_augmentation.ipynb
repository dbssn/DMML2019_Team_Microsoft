{
  "nbformat": 4,
  "nbformat_minor": 0,
  "metadata": {
    "colab": {
      "name": "2_augmentation.ipynb",
      "provenance": [],
      "collapsed_sections": [],
      "toc_visible": true
    },
    "kernelspec": {
      "name": "python3",
      "display_name": "Python 3"
    },
    "accelerator": "GPU"
  },
  "cells": [
    {
      "cell_type": "markdown",
      "metadata": {
        "id": "EHFq94vxHVjq",
        "colab_type": "text"
      },
      "source": [
        "# 0. Imports"
      ]
    },
    {
      "cell_type": "code",
      "metadata": {
        "id": "jN-TCCGhHOJO",
        "colab_type": "code",
        "colab": {}
      },
      "source": [
        "# Imports\n",
        "import pandas as pd\n",
        "import numpy as np"
      ],
      "execution_count": 0,
      "outputs": []
    },
    {
      "cell_type": "code",
      "metadata": {
        "id": "Ayxhd3k2LSQG",
        "colab_type": "code",
        "colab": {}
      },
      "source": [
        "# Load data set\n",
        "imp_df = pd.read_csv(\"https://drive.switch.ch/index.php/s/jBrNwNiAGh7LcXX/download\")"
      ],
      "execution_count": 0,
      "outputs": []
    },
    {
      "cell_type": "code",
      "metadata": {
        "id": "rMl3UGG5VHqC",
        "colab_type": "code",
        "colab": {}
      },
      "source": [
        "# Copy to easily reset df\n",
        "df = imp_df"
      ],
      "execution_count": 0,
      "outputs": []
    },
    {
      "cell_type": "markdown",
      "metadata": {
        "id": "UuQLJx0jJ-wk",
        "colab_type": "text"
      },
      "source": [
        "The EDA showed that the changes to the legislation had an impact on inspections. Those changes included new violations, terminology modification and more, which would lead to perturbation in the results of this project. Consequently, only the inspections that occured before July 1st, 2018 will be considered for this project."
      ]
    },
    {
      "cell_type": "code",
      "metadata": {
        "id": "sDIsjewbnO0K",
        "colab_type": "code",
        "colab": {}
      },
      "source": [
        "# Date conversion\n",
        "df[\"Inspection Date\"] =  pd.to_datetime(df[\"Inspection Date\"])"
      ],
      "execution_count": 0,
      "outputs": []
    },
    {
      "cell_type": "code",
      "metadata": {
        "id": "CHdeW9jvLe1a",
        "colab_type": "code",
        "colab": {}
      },
      "source": [
        "# Rows selection\n",
        "df = df[df[\"Inspection Date\"] < \"2018-07-01\"]"
      ],
      "execution_count": 0,
      "outputs": []
    },
    {
      "cell_type": "markdown",
      "metadata": {
        "id": "SqK0-59gJLbn",
        "colab_type": "text"
      },
      "source": [
        "# 1. Augmentation using the original dataframe"
      ]
    },
    {
      "cell_type": "markdown",
      "metadata": {
        "id": "atCnM5-iNUo4",
        "colab_type": "text"
      },
      "source": [
        "### 1.1 Temporal information"
      ]
    },
    {
      "cell_type": "markdown",
      "metadata": {
        "id": "iAyoA-Vqh6Sn",
        "colab_type": "text"
      },
      "source": [
        "The year can be extracted from the inspection date, as well as the month. The day of the week (Monday to Sunday) can also be extracted using the .dayofweek attribute. Those features could be helpful in predicting the result fo the inspections."
      ]
    },
    {
      "cell_type": "code",
      "metadata": {
        "id": "dr-jcqYum5do",
        "colab_type": "code",
        "colab": {
          "base_uri": "https://localhost:8080/",
          "height": 348
        },
        "outputId": "78171cda-c9f3-4562-fcb1-0c50f831f14c"
      },
      "source": [
        "# Extract week day, month and year from inspection date\n",
        "df[\"Year\"] = pd.DatetimeIndex(df['Inspection Date']).year\n",
        "df[\"Month\"] = pd.DatetimeIndex(df['Inspection Date']).month\n",
        "df[\"Weekday\"] = pd.DatetimeIndex(df['Inspection Date']).dayofweek"
      ],
      "execution_count": 712,
      "outputs": [
        {
          "output_type": "stream",
          "text": [
            "/usr/local/lib/python3.6/dist-packages/ipykernel_launcher.py:1: SettingWithCopyWarning: \n",
            "A value is trying to be set on a copy of a slice from a DataFrame.\n",
            "Try using .loc[row_indexer,col_indexer] = value instead\n",
            "\n",
            "See the caveats in the documentation: http://pandas.pydata.org/pandas-docs/stable/user_guide/indexing.html#returning-a-view-versus-a-copy\n",
            "  \"\"\"Entry point for launching an IPython kernel.\n",
            "/usr/local/lib/python3.6/dist-packages/ipykernel_launcher.py:2: SettingWithCopyWarning: \n",
            "A value is trying to be set on a copy of a slice from a DataFrame.\n",
            "Try using .loc[row_indexer,col_indexer] = value instead\n",
            "\n",
            "See the caveats in the documentation: http://pandas.pydata.org/pandas-docs/stable/user_guide/indexing.html#returning-a-view-versus-a-copy\n",
            "  \n",
            "/usr/local/lib/python3.6/dist-packages/ipykernel_launcher.py:3: SettingWithCopyWarning: \n",
            "A value is trying to be set on a copy of a slice from a DataFrame.\n",
            "Try using .loc[row_indexer,col_indexer] = value instead\n",
            "\n",
            "See the caveats in the documentation: http://pandas.pydata.org/pandas-docs/stable/user_guide/indexing.html#returning-a-view-versus-a-copy\n",
            "  This is separate from the ipykernel package so we can avoid doing imports until\n"
          ],
          "name": "stderr"
        }
      ]
    },
    {
      "cell_type": "markdown",
      "metadata": {
        "id": "VM-vng6FNY34",
        "colab_type": "text"
      },
      "source": [
        "### 1.2 \"Violations\" column"
      ]
    },
    {
      "cell_type": "markdown",
      "metadata": {
        "id": "AMLmtz9rNg6E",
        "colab_type": "text"
      },
      "source": [
        "The set contains textual information in the form of comments relative to violations that were observed during the inspection. The underlying assumption is that, on average, the length of the comment will be greater if there are many violations."
      ]
    },
    {
      "cell_type": "code",
      "metadata": {
        "id": "tJumnANQ9iK3",
        "colab_type": "code",
        "colab": {
          "base_uri": "https://localhost:8080/",
          "height": 127
        },
        "outputId": "5a102f90-cbc0-487a-d955-d1987308059a"
      },
      "source": [
        "# Replace NaN cells with \"X\"\n",
        "df[\"Violations\"] = df[\"Violations\"].replace(np.nan, 'X', regex=True)"
      ],
      "execution_count": 713,
      "outputs": [
        {
          "output_type": "stream",
          "text": [
            "/usr/local/lib/python3.6/dist-packages/ipykernel_launcher.py:1: SettingWithCopyWarning: \n",
            "A value is trying to be set on a copy of a slice from a DataFrame.\n",
            "Try using .loc[row_indexer,col_indexer] = value instead\n",
            "\n",
            "See the caveats in the documentation: http://pandas.pydata.org/pandas-docs/stable/user_guide/indexing.html#returning-a-view-versus-a-copy\n",
            "  \"\"\"Entry point for launching an IPython kernel.\n"
          ],
          "name": "stderr"
        }
      ]
    },
    {
      "cell_type": "code",
      "metadata": {
        "colab_type": "code",
        "id": "pdwmZdKHagF4",
        "colab": {}
      },
      "source": [
        "# List of values for the \"Violations\" feature\n",
        "violations = list(df.Violations)\n",
        "\n",
        "lenOfViolations = []\n",
        "\n",
        "# Goes through all the elements of the list\n",
        "for i in range(len(violations)) :\n",
        "  # Appends the length of the field \"Violations\" for each row\n",
        "  lenOfViolations.append(len(violations[i]))"
      ],
      "execution_count": 0,
      "outputs": []
    },
    {
      "cell_type": "code",
      "metadata": {
        "id": "f4tNdE2qQnWY",
        "colab_type": "code",
        "colab": {
          "base_uri": "https://localhost:8080/",
          "height": 127
        },
        "outputId": "ed595ebd-6e6c-465d-e97a-d3821ed81361"
      },
      "source": [
        "# Update the DF\n",
        "df[\"LenViol\"] = lenOfViolations"
      ],
      "execution_count": 715,
      "outputs": [
        {
          "output_type": "stream",
          "text": [
            "/usr/local/lib/python3.6/dist-packages/ipykernel_launcher.py:1: SettingWithCopyWarning: \n",
            "A value is trying to be set on a copy of a slice from a DataFrame.\n",
            "Try using .loc[row_indexer,col_indexer] = value instead\n",
            "\n",
            "See the caveats in the documentation: http://pandas.pydata.org/pandas-docs/stable/user_guide/indexing.html#returning-a-view-versus-a-copy\n",
            "  \"\"\"Entry point for launching an IPython kernel.\n"
          ],
          "name": "stderr"
        }
      ]
    },
    {
      "cell_type": "markdown",
      "metadata": {
        "id": "hwyswDfzcrfC",
        "colab_type": "text"
      },
      "source": [
        "As shown below, on average, the comments for passed inspection are shorter than the ones for failed inspections."
      ]
    },
    {
      "cell_type": "code",
      "metadata": {
        "id": "pL6JIuJZb-Qh",
        "colab_type": "code",
        "colab": {
          "base_uri": "https://localhost:8080/",
          "height": 143
        },
        "outputId": "0d2a16ae-8e8b-4e57-d064-75e996923171"
      },
      "source": [
        "# Verifiy the assumption\n",
        "df[[\"Results\", \"LenViol\"]].groupby(\"Results\").mean()"
      ],
      "execution_count": 716,
      "outputs": [
        {
          "output_type": "execute_result",
          "data": {
            "text/html": [
              "<div>\n",
              "<style scoped>\n",
              "    .dataframe tbody tr th:only-of-type {\n",
              "        vertical-align: middle;\n",
              "    }\n",
              "\n",
              "    .dataframe tbody tr th {\n",
              "        vertical-align: top;\n",
              "    }\n",
              "\n",
              "    .dataframe thead th {\n",
              "        text-align: right;\n",
              "    }\n",
              "</style>\n",
              "<table border=\"1\" class=\"dataframe\">\n",
              "  <thead>\n",
              "    <tr style=\"text-align: right;\">\n",
              "      <th></th>\n",
              "      <th>LenViol</th>\n",
              "    </tr>\n",
              "    <tr>\n",
              "      <th>Results</th>\n",
              "      <th></th>\n",
              "    </tr>\n",
              "  </thead>\n",
              "  <tbody>\n",
              "    <tr>\n",
              "      <th>Fail</th>\n",
              "      <td>1804.615017</td>\n",
              "    </tr>\n",
              "    <tr>\n",
              "      <th>Pass</th>\n",
              "      <td>650.129954</td>\n",
              "    </tr>\n",
              "  </tbody>\n",
              "</table>\n",
              "</div>"
            ],
            "text/plain": [
              "             LenViol\n",
              "Results             \n",
              "Fail     1804.615017\n",
              "Pass      650.129954"
            ]
          },
          "metadata": {
            "tags": []
          },
          "execution_count": 716
        }
      ]
    },
    {
      "cell_type": "markdown",
      "metadata": {
        "colab_type": "text",
        "id": "qW85BMKlJUnD"
      },
      "source": [
        "# 2. Augmentation using the NOAA Weather history"
      ]
    },
    {
      "cell_type": "markdown",
      "metadata": {
        "id": "JCiWxa6YiX6Q",
        "colab_type": "text"
      },
      "source": [
        "Another source of information is the weather history in Chicago. The assumption is that sanitary risks increase when the temperatures rise as defective freezers and firdges struggle to keep the aliments cold. As a result bacterial growth is faster and this could lead to failure in inscpetion."
      ]
    },
    {
      "cell_type": "code",
      "metadata": {
        "id": "6n0X1QZdpWWl",
        "colab_type": "code",
        "colab": {}
      },
      "source": [
        "# Load data\n",
        "df_weather = pd.read_csv(\"https://drive.switch.ch/index.php/s/ui6Zr1v2vzPlieH/download\")"
      ],
      "execution_count": 0,
      "outputs": []
    },
    {
      "cell_type": "code",
      "metadata": {
        "id": "iUX-MiZ3pZgs",
        "colab_type": "code",
        "colab": {}
      },
      "source": [
        "# Column selection\n",
        "df_weather_zip = df_weather[[\"DATE\", \"TMAX\"]]"
      ],
      "execution_count": 0,
      "outputs": []
    },
    {
      "cell_type": "code",
      "metadata": {
        "id": "ksYQoweapbfo",
        "colab_type": "code",
        "outputId": "ee58790f-fd7c-4748-ab2a-2b4c81240368",
        "colab": {
          "base_uri": "https://localhost:8080/",
          "height": 127
        }
      },
      "source": [
        "# Compute the mean maximum temparture over the last 3 days for each day.\n",
        "df_weather_zip[\"MeanMaxTemp3Days\"] = (1.0/3.0)*(df_weather_zip.TMAX.shift(1) + df_weather_zip.TMAX.shift(2) + df_weather_zip.TMAX.shift(3))"
      ],
      "execution_count": 719,
      "outputs": [
        {
          "output_type": "stream",
          "text": [
            "/usr/local/lib/python3.6/dist-packages/ipykernel_launcher.py:1: SettingWithCopyWarning: \n",
            "A value is trying to be set on a copy of a slice from a DataFrame.\n",
            "Try using .loc[row_indexer,col_indexer] = value instead\n",
            "\n",
            "See the caveats in the documentation: http://pandas.pydata.org/pandas-docs/stable/user_guide/indexing.html#returning-a-view-versus-a-copy\n",
            "  \"\"\"Entry point for launching an IPython kernel.\n"
          ],
          "name": "stderr"
        }
      ]
    },
    {
      "cell_type": "code",
      "metadata": {
        "id": "u1-1JYrepc0q",
        "colab_type": "code",
        "outputId": "fc0687b8-1baa-4f83-89ee-d1a588d7b9a0",
        "colab": {
          "base_uri": "https://localhost:8080/",
          "height": 363
        }
      },
      "source": [
        "# Example : 1/3 * ((-2.1) + (-4.9) + (2.8)) = -1.4\n",
        "# which corresponds to 1/3 * (TMAX(2009-12-15) + TMAX(2009-12-16) + TMAX(2009-12-17)) = MeanMaxTemp3Days(2009-12-18)\n",
        "df_weather_zip.head(10)"
      ],
      "execution_count": 720,
      "outputs": [
        {
          "output_type": "execute_result",
          "data": {
            "text/html": [
              "<div>\n",
              "<style scoped>\n",
              "    .dataframe tbody tr th:only-of-type {\n",
              "        vertical-align: middle;\n",
              "    }\n",
              "\n",
              "    .dataframe tbody tr th {\n",
              "        vertical-align: top;\n",
              "    }\n",
              "\n",
              "    .dataframe thead th {\n",
              "        text-align: right;\n",
              "    }\n",
              "</style>\n",
              "<table border=\"1\" class=\"dataframe\">\n",
              "  <thead>\n",
              "    <tr style=\"text-align: right;\">\n",
              "      <th></th>\n",
              "      <th>DATE</th>\n",
              "      <th>TMAX</th>\n",
              "      <th>MeanMaxTemp3Days</th>\n",
              "    </tr>\n",
              "  </thead>\n",
              "  <tbody>\n",
              "    <tr>\n",
              "      <th>0</th>\n",
              "      <td>2009-12-15</td>\n",
              "      <td>-2.1</td>\n",
              "      <td>NaN</td>\n",
              "    </tr>\n",
              "    <tr>\n",
              "      <th>1</th>\n",
              "      <td>2009-12-16</td>\n",
              "      <td>-4.9</td>\n",
              "      <td>NaN</td>\n",
              "    </tr>\n",
              "    <tr>\n",
              "      <th>2</th>\n",
              "      <td>2009-12-17</td>\n",
              "      <td>2.8</td>\n",
              "      <td>NaN</td>\n",
              "    </tr>\n",
              "    <tr>\n",
              "      <th>3</th>\n",
              "      <td>2009-12-18</td>\n",
              "      <td>3.3</td>\n",
              "      <td>-1.400000</td>\n",
              "    </tr>\n",
              "    <tr>\n",
              "      <th>4</th>\n",
              "      <td>2009-12-19</td>\n",
              "      <td>1.1</td>\n",
              "      <td>0.400000</td>\n",
              "    </tr>\n",
              "    <tr>\n",
              "      <th>5</th>\n",
              "      <td>2009-12-20</td>\n",
              "      <td>-0.5</td>\n",
              "      <td>2.400000</td>\n",
              "    </tr>\n",
              "    <tr>\n",
              "      <th>6</th>\n",
              "      <td>2009-12-21</td>\n",
              "      <td>-1.0</td>\n",
              "      <td>1.300000</td>\n",
              "    </tr>\n",
              "    <tr>\n",
              "      <th>7</th>\n",
              "      <td>2009-12-22</td>\n",
              "      <td>0.0</td>\n",
              "      <td>-0.133333</td>\n",
              "    </tr>\n",
              "    <tr>\n",
              "      <th>8</th>\n",
              "      <td>2009-12-23</td>\n",
              "      <td>0.0</td>\n",
              "      <td>-0.500000</td>\n",
              "    </tr>\n",
              "    <tr>\n",
              "      <th>9</th>\n",
              "      <td>2009-12-24</td>\n",
              "      <td>2.2</td>\n",
              "      <td>-0.333333</td>\n",
              "    </tr>\n",
              "  </tbody>\n",
              "</table>\n",
              "</div>"
            ],
            "text/plain": [
              "         DATE  TMAX  MeanMaxTemp3Days\n",
              "0  2009-12-15  -2.1               NaN\n",
              "1  2009-12-16  -4.9               NaN\n",
              "2  2009-12-17   2.8               NaN\n",
              "3  2009-12-18   3.3         -1.400000\n",
              "4  2009-12-19   1.1          0.400000\n",
              "5  2009-12-20  -0.5          2.400000\n",
              "6  2009-12-21  -1.0          1.300000\n",
              "7  2009-12-22   0.0         -0.133333\n",
              "8  2009-12-23   0.0         -0.500000\n",
              "9  2009-12-24   2.2         -0.333333"
            ]
          },
          "metadata": {
            "tags": []
          },
          "execution_count": 720
        }
      ]
    },
    {
      "cell_type": "code",
      "metadata": {
        "id": "oMbncJ1FqCX_",
        "colab_type": "code",
        "outputId": "fa1d1cad-29f3-4497-f1a1-50120e47ce10",
        "colab": {
          "base_uri": "https://localhost:8080/",
          "height": 127
        }
      },
      "source": [
        "# Date conversion\n",
        "df_weather_zip[\"DATE\"] =  pd.to_datetime(df_weather_zip[\"DATE\"])"
      ],
      "execution_count": 721,
      "outputs": [
        {
          "output_type": "stream",
          "text": [
            "/usr/local/lib/python3.6/dist-packages/ipykernel_launcher.py:1: SettingWithCopyWarning: \n",
            "A value is trying to be set on a copy of a slice from a DataFrame.\n",
            "Try using .loc[row_indexer,col_indexer] = value instead\n",
            "\n",
            "See the caveats in the documentation: http://pandas.pydata.org/pandas-docs/stable/user_guide/indexing.html#returning-a-view-versus-a-copy\n",
            "  \"\"\"Entry point for launching an IPython kernel.\n"
          ],
          "name": "stderr"
        }
      ]
    },
    {
      "cell_type": "code",
      "metadata": {
        "id": "bYc56zFtu5aY",
        "colab_type": "code",
        "outputId": "a74452a5-b70d-4fe9-8389-f6e5a277e803",
        "colab": {
          "base_uri": "https://localhost:8080/",
          "height": 424
        }
      },
      "source": [
        "# End result\n",
        "df_weather_zip"
      ],
      "execution_count": 722,
      "outputs": [
        {
          "output_type": "execute_result",
          "data": {
            "text/html": [
              "<div>\n",
              "<style scoped>\n",
              "    .dataframe tbody tr th:only-of-type {\n",
              "        vertical-align: middle;\n",
              "    }\n",
              "\n",
              "    .dataframe tbody tr th {\n",
              "        vertical-align: top;\n",
              "    }\n",
              "\n",
              "    .dataframe thead th {\n",
              "        text-align: right;\n",
              "    }\n",
              "</style>\n",
              "<table border=\"1\" class=\"dataframe\">\n",
              "  <thead>\n",
              "    <tr style=\"text-align: right;\">\n",
              "      <th></th>\n",
              "      <th>DATE</th>\n",
              "      <th>TMAX</th>\n",
              "      <th>MeanMaxTemp3Days</th>\n",
              "    </tr>\n",
              "  </thead>\n",
              "  <tbody>\n",
              "    <tr>\n",
              "      <th>0</th>\n",
              "      <td>2009-12-15</td>\n",
              "      <td>-2.1</td>\n",
              "      <td>NaN</td>\n",
              "    </tr>\n",
              "    <tr>\n",
              "      <th>1</th>\n",
              "      <td>2009-12-16</td>\n",
              "      <td>-4.9</td>\n",
              "      <td>NaN</td>\n",
              "    </tr>\n",
              "    <tr>\n",
              "      <th>2</th>\n",
              "      <td>2009-12-17</td>\n",
              "      <td>2.8</td>\n",
              "      <td>NaN</td>\n",
              "    </tr>\n",
              "    <tr>\n",
              "      <th>3</th>\n",
              "      <td>2009-12-18</td>\n",
              "      <td>3.3</td>\n",
              "      <td>-1.400000</td>\n",
              "    </tr>\n",
              "    <tr>\n",
              "      <th>4</th>\n",
              "      <td>2009-12-19</td>\n",
              "      <td>1.1</td>\n",
              "      <td>0.400000</td>\n",
              "    </tr>\n",
              "    <tr>\n",
              "      <th>...</th>\n",
              "      <td>...</td>\n",
              "      <td>...</td>\n",
              "      <td>...</td>\n",
              "    </tr>\n",
              "    <tr>\n",
              "      <th>3617</th>\n",
              "      <td>2019-11-12</td>\n",
              "      <td>-7.1</td>\n",
              "      <td>6.133333</td>\n",
              "    </tr>\n",
              "    <tr>\n",
              "      <th>3618</th>\n",
              "      <td>2019-11-13</td>\n",
              "      <td>-2.1</td>\n",
              "      <td>0.800000</td>\n",
              "    </tr>\n",
              "    <tr>\n",
              "      <th>3619</th>\n",
              "      <td>2019-11-14</td>\n",
              "      <td>0.6</td>\n",
              "      <td>-2.133333</td>\n",
              "    </tr>\n",
              "    <tr>\n",
              "      <th>3620</th>\n",
              "      <td>2019-11-15</td>\n",
              "      <td>3.3</td>\n",
              "      <td>-2.866667</td>\n",
              "    </tr>\n",
              "    <tr>\n",
              "      <th>3621</th>\n",
              "      <td>2019-11-16</td>\n",
              "      <td>5.6</td>\n",
              "      <td>0.600000</td>\n",
              "    </tr>\n",
              "  </tbody>\n",
              "</table>\n",
              "<p>3622 rows × 3 columns</p>\n",
              "</div>"
            ],
            "text/plain": [
              "           DATE  TMAX  MeanMaxTemp3Days\n",
              "0    2009-12-15  -2.1               NaN\n",
              "1    2009-12-16  -4.9               NaN\n",
              "2    2009-12-17   2.8               NaN\n",
              "3    2009-12-18   3.3         -1.400000\n",
              "4    2009-12-19   1.1          0.400000\n",
              "...         ...   ...               ...\n",
              "3617 2019-11-12  -7.1          6.133333\n",
              "3618 2019-11-13  -2.1          0.800000\n",
              "3619 2019-11-14   0.6         -2.133333\n",
              "3620 2019-11-15   3.3         -2.866667\n",
              "3621 2019-11-16   5.6          0.600000\n",
              "\n",
              "[3622 rows x 3 columns]"
            ]
          },
          "metadata": {
            "tags": []
          },
          "execution_count": 722
        }
      ]
    },
    {
      "cell_type": "markdown",
      "metadata": {
        "id": "OI1lXobPjMVr",
        "colab_type": "text"
      },
      "source": [
        "Both the maximum temperature for the day and the average maximum temperature for the last 3 days are added to the dataframe."
      ]
    },
    {
      "cell_type": "code",
      "metadata": {
        "id": "pQj9axWGppWH",
        "colab_type": "code",
        "colab": {}
      },
      "source": [
        "# Merge\n",
        "df = df.merge(df_weather_zip, left_on = \"Inspection Date\", right_on = \"DATE\")"
      ],
      "execution_count": 0,
      "outputs": []
    },
    {
      "cell_type": "markdown",
      "metadata": {
        "id": "XZNTZU3Cr9jk",
        "colab_type": "text"
      },
      "source": [
        "# 3. Augmentation using the \"Business Licenses\" data set"
      ]
    },
    {
      "cell_type": "markdown",
      "metadata": {
        "id": "jfV9Q3fCjZB2",
        "colab_type": "text"
      },
      "source": [
        "The \"Business Licenses\" data set contains information with regards to business licenses that were issued in the past. From this data set, an approximation of the creation date of the restaurant can be retreived."
      ]
    },
    {
      "cell_type": "code",
      "metadata": {
        "id": "AemOnNNQsJAQ",
        "colab_type": "code",
        "outputId": "8ce8e32d-5bdf-4a94-87ab-0867777ffe35",
        "colab": {
          "base_uri": "https://localhost:8080/",
          "height": 54
        }
      },
      "source": [
        "# Load data set\n",
        "df_licenses = pd.read_csv(\"https://drive.switch.ch/index.php/s/HUOmc3Db1dJ9WMh/download\")"
      ],
      "execution_count": 724,
      "outputs": [
        {
          "output_type": "stream",
          "text": [
            "/usr/local/lib/python3.6/dist-packages/IPython/core/interactiveshell.py:2718: DtypeWarning: Columns (9,16) have mixed types. Specify dtype option on import or set low_memory=False.\n",
            "  interactivity=interactivity, compiler=compiler, result=result)\n"
          ],
          "name": "stderr"
        }
      ]
    },
    {
      "cell_type": "code",
      "metadata": {
        "id": "jHWgO2nij9z4",
        "colab_type": "code",
        "outputId": "3de7b3e8-b2e4-428e-f139-48483bc48120",
        "colab": {
          "base_uri": "https://localhost:8080/",
          "height": 81
        }
      },
      "source": [
        "# Sample\n",
        "df_licenses[[\"LICENSE NUMBER\", \"APPLICATION REQUIREMENTS COMPLETE\", \"DATE ISSUED\"]].sample(1)"
      ],
      "execution_count": 725,
      "outputs": [
        {
          "output_type": "execute_result",
          "data": {
            "text/html": [
              "<div>\n",
              "<style scoped>\n",
              "    .dataframe tbody tr th:only-of-type {\n",
              "        vertical-align: middle;\n",
              "    }\n",
              "\n",
              "    .dataframe tbody tr th {\n",
              "        vertical-align: top;\n",
              "    }\n",
              "\n",
              "    .dataframe thead th {\n",
              "        text-align: right;\n",
              "    }\n",
              "</style>\n",
              "<table border=\"1\" class=\"dataframe\">\n",
              "  <thead>\n",
              "    <tr style=\"text-align: right;\">\n",
              "      <th></th>\n",
              "      <th>LICENSE NUMBER</th>\n",
              "      <th>APPLICATION REQUIREMENTS COMPLETE</th>\n",
              "      <th>DATE ISSUED</th>\n",
              "    </tr>\n",
              "  </thead>\n",
              "  <tbody>\n",
              "    <tr>\n",
              "      <th>225365</th>\n",
              "      <td>2240816.0</td>\n",
              "      <td>01/16/2015</td>\n",
              "      <td>02/13/2015</td>\n",
              "    </tr>\n",
              "  </tbody>\n",
              "</table>\n",
              "</div>"
            ],
            "text/plain": [
              "        LICENSE NUMBER APPLICATION REQUIREMENTS COMPLETE DATE ISSUED\n",
              "225365       2240816.0                        01/16/2015  02/13/2015"
            ]
          },
          "metadata": {
            "tags": []
          },
          "execution_count": 725
        }
      ]
    },
    {
      "cell_type": "code",
      "metadata": {
        "id": "5K3l0SNYsWXu",
        "colab_type": "code",
        "colab": {}
      },
      "source": [
        "#Reformatting date\n",
        "df_licenses[\"APPLICATION REQUIREMENTS COMPLETE\"] =  pd.to_datetime(df_licenses[\"APPLICATION REQUIREMENTS COMPLETE\"], format = \"%m/%d/%Y\")\n",
        "df_licenses[\"DATE ISSUED\"] =  pd.to_datetime(df_licenses[\"DATE ISSUED\"], format = \"%m/%d/%Y\")"
      ],
      "execution_count": 0,
      "outputs": []
    },
    {
      "cell_type": "markdown",
      "metadata": {
        "id": "m-w12Vu9kdyV",
        "colab_type": "text"
      },
      "source": [
        "For each business license number, the earliest date indicated in the \"APPLICATION REQUIREMENTS COMPLETE\" column is retrieved. There can be multiple records for the same license number (for example when the license is renewed), which is why the .groupy() and .min() functions are needed."
      ]
    },
    {
      "cell_type": "code",
      "metadata": {
        "id": "8vVlsXL4sb2P",
        "colab_type": "code",
        "colab": {}
      },
      "source": [
        "#Extraction of the date of the very first record in the set for each business license number\n",
        "df_licenses_bis = df_licenses[[\"LICENSE NUMBER\", \"APPLICATION REQUIREMENTS COMPLETE\"]]\n",
        "df_licenses_bis = df_licenses_bis.groupby(\"LICENSE NUMBER\", as_index = False)[\"APPLICATION REQUIREMENTS COMPLETE\"].min()"
      ],
      "execution_count": 0,
      "outputs": []
    },
    {
      "cell_type": "code",
      "metadata": {
        "id": "vOzDSAZexYun",
        "colab_type": "code",
        "outputId": "db546dcd-0ec3-4f4f-aa38-a309aa17c50e",
        "colab": {
          "base_uri": "https://localhost:8080/",
          "height": 170
        }
      },
      "source": [
        "df[df[\"Inspection ID\"] == 154341]"
      ],
      "execution_count": 728,
      "outputs": [
        {
          "output_type": "execute_result",
          "data": {
            "text/html": [
              "<div>\n",
              "<style scoped>\n",
              "    .dataframe tbody tr th:only-of-type {\n",
              "        vertical-align: middle;\n",
              "    }\n",
              "\n",
              "    .dataframe tbody tr th {\n",
              "        vertical-align: top;\n",
              "    }\n",
              "\n",
              "    .dataframe thead th {\n",
              "        text-align: right;\n",
              "    }\n",
              "</style>\n",
              "<table border=\"1\" class=\"dataframe\">\n",
              "  <thead>\n",
              "    <tr style=\"text-align: right;\">\n",
              "      <th></th>\n",
              "      <th>Inspection ID</th>\n",
              "      <th>DBA Name</th>\n",
              "      <th>License #</th>\n",
              "      <th>Facility Type</th>\n",
              "      <th>Risk</th>\n",
              "      <th>Address</th>\n",
              "      <th>Zip</th>\n",
              "      <th>Inspection Date</th>\n",
              "      <th>Inspection Type</th>\n",
              "      <th>Results</th>\n",
              "      <th>Violations</th>\n",
              "      <th>Latitude</th>\n",
              "      <th>Longitude</th>\n",
              "      <th>Year</th>\n",
              "      <th>Month</th>\n",
              "      <th>Weekday</th>\n",
              "      <th>LenViol</th>\n",
              "      <th>DATE</th>\n",
              "      <th>TMAX</th>\n",
              "      <th>MeanMaxTemp3Days</th>\n",
              "    </tr>\n",
              "  </thead>\n",
              "  <tbody>\n",
              "    <tr>\n",
              "      <th>1</th>\n",
              "      <td>154341</td>\n",
              "      <td>LEVY RESTAURANTS AT WRIGLEY FIELD</td>\n",
              "      <td>1574001</td>\n",
              "      <td>restaurant</td>\n",
              "      <td>Risk 2 (Medium)</td>\n",
              "      <td>1060 W ADDISON ST</td>\n",
              "      <td>60613</td>\n",
              "      <td>2010-04-06</td>\n",
              "      <td>canvass</td>\n",
              "      <td>Pass</td>\n",
              "      <td>X</td>\n",
              "      <td>41.947317</td>\n",
              "      <td>-87.656418</td>\n",
              "      <td>2010</td>\n",
              "      <td>4</td>\n",
              "      <td>1</td>\n",
              "      <td>1</td>\n",
              "      <td>2010-04-06</td>\n",
              "      <td>25.6</td>\n",
              "      <td>20.2</td>\n",
              "    </tr>\n",
              "  </tbody>\n",
              "</table>\n",
              "</div>"
            ],
            "text/plain": [
              "   Inspection ID                           DBA Name  ...  TMAX MeanMaxTemp3Days\n",
              "1         154341  LEVY RESTAURANTS AT WRIGLEY FIELD  ...  25.6             20.2\n",
              "\n",
              "[1 rows x 20 columns]"
            ]
          },
          "metadata": {
            "tags": []
          },
          "execution_count": 728
        }
      ]
    },
    {
      "cell_type": "code",
      "metadata": {
        "id": "E7JBmG_usqCW",
        "colab_type": "code",
        "colab": {}
      },
      "source": [
        "#Merge\n",
        "df = df.merge(df_licenses_bis, left_on = \"License #\", right_on = \"LICENSE NUMBER\")"
      ],
      "execution_count": 0,
      "outputs": []
    },
    {
      "cell_type": "code",
      "metadata": {
        "id": "kxVZgj_WuTAK",
        "colab_type": "code",
        "colab": {}
      },
      "source": [
        "# Drop columns created by the merge\n",
        "df = df.drop([\"LICENSE NUMBER\", \"DATE\"], axis = 1)"
      ],
      "execution_count": 0,
      "outputs": []
    },
    {
      "cell_type": "markdown",
      "metadata": {
        "id": "zm3CTE02lAoZ",
        "colab_type": "text"
      },
      "source": [
        "For each business license number the time delta between the approximate date of creation and the date of the inspection is computed. This yields the approximate \"age\" of the business at the date of inspection in days."
      ]
    },
    {
      "cell_type": "code",
      "metadata": {
        "id": "mFGs1oqvwONU",
        "colab_type": "code",
        "colab": {}
      },
      "source": [
        "# Time delta\n",
        "df[\"DaysInBusiness\"] = (df[\"Inspection Date\"] - df[\"APPLICATION REQUIREMENTS COMPLETE\"]).dt.days"
      ],
      "execution_count": 0,
      "outputs": []
    },
    {
      "cell_type": "code",
      "metadata": {
        "id": "Zyf9ha63b-zE",
        "colab_type": "code",
        "colab": {}
      },
      "source": [
        "# Rename\n",
        "df = df.rename(columns = {\"APPLICATION REQUIREMENTS COMPLETE\" : \"ApproxCreationDate\"})"
      ],
      "execution_count": 0,
      "outputs": []
    },
    {
      "cell_type": "markdown",
      "metadata": {
        "id": "U4A5LOsKjE45",
        "colab_type": "text"
      },
      "source": [
        "There are 962 rows for which the \"DaysInBusiness\" value is negative. Below, an example of a business license that yields a negative value.\n",
        "\n",
        "Note : The date indicated in the \"APPLICATION REQUIREMENTS COMPLETE\" column yields less negative rows and is therfore chosen over the one in the \"DATE ISSUES\"."
      ]
    },
    {
      "cell_type": "code",
      "metadata": {
        "id": "pKPN2485jXGE",
        "colab_type": "code",
        "outputId": "0715bfd7-c0ed-4929-fc47-f8f0be9d1d52",
        "colab": {
          "base_uri": "https://localhost:8080/",
          "height": 175
        }
      },
      "source": [
        "df_show = df_licenses[[\"LICENSE NUMBER\", \"APPLICATION TYPE\", \"APPLICATION REQUIREMENTS COMPLETE\", \"DATE ISSUED\"]]\n",
        "df_show[df_show[\"LICENSE NUMBER\"] == 2208682]"
      ],
      "execution_count": 733,
      "outputs": [
        {
          "output_type": "execute_result",
          "data": {
            "text/html": [
              "<div>\n",
              "<style scoped>\n",
              "    .dataframe tbody tr th:only-of-type {\n",
              "        vertical-align: middle;\n",
              "    }\n",
              "\n",
              "    .dataframe tbody tr th {\n",
              "        vertical-align: top;\n",
              "    }\n",
              "\n",
              "    .dataframe thead th {\n",
              "        text-align: right;\n",
              "    }\n",
              "</style>\n",
              "<table border=\"1\" class=\"dataframe\">\n",
              "  <thead>\n",
              "    <tr style=\"text-align: right;\">\n",
              "      <th></th>\n",
              "      <th>LICENSE NUMBER</th>\n",
              "      <th>APPLICATION TYPE</th>\n",
              "      <th>APPLICATION REQUIREMENTS COMPLETE</th>\n",
              "      <th>DATE ISSUED</th>\n",
              "    </tr>\n",
              "  </thead>\n",
              "  <tbody>\n",
              "    <tr>\n",
              "      <th>61232</th>\n",
              "      <td>2208682.0</td>\n",
              "      <td>RENEW</td>\n",
              "      <td>2016-01-15</td>\n",
              "      <td>2016-03-08</td>\n",
              "    </tr>\n",
              "    <tr>\n",
              "      <th>61758</th>\n",
              "      <td>2208682.0</td>\n",
              "      <td>ISSUE</td>\n",
              "      <td>NaT</td>\n",
              "      <td>2012-12-29</td>\n",
              "    </tr>\n",
              "    <tr>\n",
              "      <th>61763</th>\n",
              "      <td>2208682.0</td>\n",
              "      <td>RENEW</td>\n",
              "      <td>2014-01-15</td>\n",
              "      <td>2014-02-26</td>\n",
              "    </tr>\n",
              "    <tr>\n",
              "      <th>122283</th>\n",
              "      <td>2208682.0</td>\n",
              "      <td>RENEW</td>\n",
              "      <td>2018-01-15</td>\n",
              "      <td>2018-03-08</td>\n",
              "    </tr>\n",
              "  </tbody>\n",
              "</table>\n",
              "</div>"
            ],
            "text/plain": [
              "        LICENSE NUMBER  ... DATE ISSUED\n",
              "61232        2208682.0  ...  2016-03-08\n",
              "61758        2208682.0  ...  2012-12-29\n",
              "61763        2208682.0  ...  2014-02-26\n",
              "122283       2208682.0  ...  2018-03-08\n",
              "\n",
              "[4 rows x 4 columns]"
            ]
          },
          "metadata": {
            "tags": []
          },
          "execution_count": 733
        }
      ]
    },
    {
      "cell_type": "markdown",
      "metadata": {
        "id": "Ex60c_pdlYX0",
        "colab_type": "text"
      },
      "source": [
        "Since a negative time delta does not make sense, those 962 rows will be dropped as it should not impact the results too much."
      ]
    },
    {
      "cell_type": "code",
      "metadata": {
        "id": "RBmHqF8UchHO",
        "colab_type": "code",
        "colab": {}
      },
      "source": [
        "# Drop rows for which delta < 0\n",
        "df = df[(df.DaysInBusiness > 0)]"
      ],
      "execution_count": 0,
      "outputs": []
    },
    {
      "cell_type": "markdown",
      "metadata": {
        "id": "C_05OEBasFHb",
        "colab_type": "text"
      },
      "source": [
        "# 4. Export"
      ]
    },
    {
      "cell_type": "code",
      "metadata": {
        "id": "3c6GWoMIuVT5",
        "colab_type": "code",
        "colab": {}
      },
      "source": [
        "df.to_csv(\"augmented_food_inspections.csv\", index=False)"
      ],
      "execution_count": 0,
      "outputs": []
    }
  ]
}
