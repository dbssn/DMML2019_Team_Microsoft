{
  "nbformat": 4,
  "nbformat_minor": 0,
  "metadata": {
    "colab": {
      "name": "2_augmentation.ipynb",
      "provenance": [],
      "collapsed_sections": [],
      "toc_visible": true
    },
    "kernelspec": {
      "name": "python3",
      "display_name": "Python 3"
    },
    "accelerator": "GPU"
  },
  "cells": [
    {
      "cell_type": "markdown",
      "metadata": {
        "id": "EHFq94vxHVjq",
        "colab_type": "text"
      },
      "source": [
        "# 0. Imports"
      ]
    },
    {
      "cell_type": "code",
      "metadata": {
        "id": "jN-TCCGhHOJO",
        "colab_type": "code",
        "colab": {}
      },
      "source": [
        "# Imports\n",
        "import pandas as pd"
      ],
      "execution_count": 0,
      "outputs": []
    },
    {
      "cell_type": "code",
      "metadata": {
        "id": "Ayxhd3k2LSQG",
        "colab_type": "code",
        "colab": {}
      },
      "source": [
        "# Load data set\n",
        "df = pd.read_csv(\"https://drive.switch.ch/index.php/s/jBrNwNiAGh7LcXX/download\")"
      ],
      "execution_count": 0,
      "outputs": []
    },
    {
      "cell_type": "markdown",
      "metadata": {
        "id": "UuQLJx0jJ-wk",
        "colab_type": "text"
      },
      "source": [
        "The EDA showed that the changes to the legislation had an impact on inspections. Those changes included new violations, terminology modification and more, which would lead to perturbation in the results of this project. Consequently, only the inspections that occured before July 1st, 2018 will be considered for this project."
      ]
    },
    {
      "cell_type": "code",
      "metadata": {
        "id": "sDIsjewbnO0K",
        "colab_type": "code",
        "colab": {}
      },
      "source": [
        "# Date conversion\n",
        "df[\"Inspection Date\"] =  pd.to_datetime(df[\"Inspection Date\"])"
      ],
      "execution_count": 0,
      "outputs": []
    },
    {
      "cell_type": "code",
      "metadata": {
        "id": "CHdeW9jvLe1a",
        "colab_type": "code",
        "colab": {}
      },
      "source": [
        "df = df[df[\"Inspection Date\"] < \"2018-07-01\"]"
      ],
      "execution_count": 0,
      "outputs": []
    },
    {
      "cell_type": "markdown",
      "metadata": {
        "id": "SqK0-59gJLbn",
        "colab_type": "text"
      },
      "source": [
        "# 1. Augmentation using the original dataframe"
      ]
    },
    {
      "cell_type": "code",
      "metadata": {
        "id": "dr-jcqYum5do",
        "colab_type": "code",
        "colab": {}
      },
      "source": [
        "# Extract week day, month and year from inspection date\n",
        "df[\"Year\"] = pd.DatetimeIndex(df['Inspection Date']).year\n",
        "df[\"Month\"] = pd.DatetimeIndex(df['Inspection Date']).month\n",
        "df[\"Weekday\"] = pd.DatetimeIndex(df['Inspection Date']).dayofweek"
      ],
      "execution_count": 0,
      "outputs": []
    },
    {
      "cell_type": "markdown",
      "metadata": {
        "colab_type": "text",
        "id": "qW85BMKlJUnD"
      },
      "source": [
        "# 2. Augmentation using the NOAA Weather history"
      ]
    },
    {
      "cell_type": "code",
      "metadata": {
        "id": "6n0X1QZdpWWl",
        "colab_type": "code",
        "colab": {}
      },
      "source": [
        "# Load data\n",
        "df_weather = pd.read_csv(\"https://drive.switch.ch/index.php/s/ui6Zr1v2vzPlieH/download\")"
      ],
      "execution_count": 0,
      "outputs": []
    },
    {
      "cell_type": "code",
      "metadata": {
        "id": "iUX-MiZ3pZgs",
        "colab_type": "code",
        "colab": {}
      },
      "source": [
        "# Column selection\n",
        "df_weather_zip = df_weather[[\"DATE\", \"TMAX\"]]"
      ],
      "execution_count": 0,
      "outputs": []
    },
    {
      "cell_type": "code",
      "metadata": {
        "id": "ksYQoweapbfo",
        "colab_type": "code",
        "colab": {
          "base_uri": "https://localhost:8080/",
          "height": 127
        },
        "outputId": "fd27c48c-91d7-4744-b4ab-4d6a07ee62bf"
      },
      "source": [
        "# Compute the mean maximum temparture over the last 3 days for each day.\n",
        "df_weather_zip[\"MeanMaxTemp3Days\"] = (1.0/3.0)*(df_weather_zip.TMAX.shift(1) + df_weather_zip.TMAX.shift(2) + df_weather_zip.TMAX.shift(3))"
      ],
      "execution_count": 318,
      "outputs": [
        {
          "output_type": "stream",
          "text": [
            "/usr/local/lib/python3.6/dist-packages/ipykernel_launcher.py:1: SettingWithCopyWarning: \n",
            "A value is trying to be set on a copy of a slice from a DataFrame.\n",
            "Try using .loc[row_indexer,col_indexer] = value instead\n",
            "\n",
            "See the caveats in the documentation: http://pandas.pydata.org/pandas-docs/stable/user_guide/indexing.html#returning-a-view-versus-a-copy\n",
            "  \"\"\"Entry point for launching an IPython kernel.\n"
          ],
          "name": "stderr"
        }
      ]
    },
    {
      "cell_type": "code",
      "metadata": {
        "id": "u1-1JYrepc0q",
        "colab_type": "code",
        "colab": {
          "base_uri": "https://localhost:8080/",
          "height": 363
        },
        "outputId": "f3fe0c40-fa39-4136-a49f-844325d63b38"
      },
      "source": [
        "# Example : 1/3 * ((-2.1) + (-4.9) + (2.8)) = -1.4\n",
        "# which corresponds to 1/3 * (TMAX(2009-12-15) + TMAX(2009-12-16) + TMAX(2009-12-17)) = MeanMaxTemp3Days(2009-12-18)\n",
        "df_weather_zip.head(10)"
      ],
      "execution_count": 319,
      "outputs": [
        {
          "output_type": "execute_result",
          "data": {
            "text/html": [
              "<div>\n",
              "<style scoped>\n",
              "    .dataframe tbody tr th:only-of-type {\n",
              "        vertical-align: middle;\n",
              "    }\n",
              "\n",
              "    .dataframe tbody tr th {\n",
              "        vertical-align: top;\n",
              "    }\n",
              "\n",
              "    .dataframe thead th {\n",
              "        text-align: right;\n",
              "    }\n",
              "</style>\n",
              "<table border=\"1\" class=\"dataframe\">\n",
              "  <thead>\n",
              "    <tr style=\"text-align: right;\">\n",
              "      <th></th>\n",
              "      <th>DATE</th>\n",
              "      <th>TMAX</th>\n",
              "      <th>MeanMaxTemp3Days</th>\n",
              "    </tr>\n",
              "  </thead>\n",
              "  <tbody>\n",
              "    <tr>\n",
              "      <th>0</th>\n",
              "      <td>2009-12-15</td>\n",
              "      <td>-2.1</td>\n",
              "      <td>NaN</td>\n",
              "    </tr>\n",
              "    <tr>\n",
              "      <th>1</th>\n",
              "      <td>2009-12-16</td>\n",
              "      <td>-4.9</td>\n",
              "      <td>NaN</td>\n",
              "    </tr>\n",
              "    <tr>\n",
              "      <th>2</th>\n",
              "      <td>2009-12-17</td>\n",
              "      <td>2.8</td>\n",
              "      <td>NaN</td>\n",
              "    </tr>\n",
              "    <tr>\n",
              "      <th>3</th>\n",
              "      <td>2009-12-18</td>\n",
              "      <td>3.3</td>\n",
              "      <td>-1.400000</td>\n",
              "    </tr>\n",
              "    <tr>\n",
              "      <th>4</th>\n",
              "      <td>2009-12-19</td>\n",
              "      <td>1.1</td>\n",
              "      <td>0.400000</td>\n",
              "    </tr>\n",
              "    <tr>\n",
              "      <th>5</th>\n",
              "      <td>2009-12-20</td>\n",
              "      <td>-0.5</td>\n",
              "      <td>2.400000</td>\n",
              "    </tr>\n",
              "    <tr>\n",
              "      <th>6</th>\n",
              "      <td>2009-12-21</td>\n",
              "      <td>-1.0</td>\n",
              "      <td>1.300000</td>\n",
              "    </tr>\n",
              "    <tr>\n",
              "      <th>7</th>\n",
              "      <td>2009-12-22</td>\n",
              "      <td>0.0</td>\n",
              "      <td>-0.133333</td>\n",
              "    </tr>\n",
              "    <tr>\n",
              "      <th>8</th>\n",
              "      <td>2009-12-23</td>\n",
              "      <td>0.0</td>\n",
              "      <td>-0.500000</td>\n",
              "    </tr>\n",
              "    <tr>\n",
              "      <th>9</th>\n",
              "      <td>2009-12-24</td>\n",
              "      <td>2.2</td>\n",
              "      <td>-0.333333</td>\n",
              "    </tr>\n",
              "  </tbody>\n",
              "</table>\n",
              "</div>"
            ],
            "text/plain": [
              "         DATE  TMAX  MeanMaxTemp3Days\n",
              "0  2009-12-15  -2.1               NaN\n",
              "1  2009-12-16  -4.9               NaN\n",
              "2  2009-12-17   2.8               NaN\n",
              "3  2009-12-18   3.3         -1.400000\n",
              "4  2009-12-19   1.1          0.400000\n",
              "5  2009-12-20  -0.5          2.400000\n",
              "6  2009-12-21  -1.0          1.300000\n",
              "7  2009-12-22   0.0         -0.133333\n",
              "8  2009-12-23   0.0         -0.500000\n",
              "9  2009-12-24   2.2         -0.333333"
            ]
          },
          "metadata": {
            "tags": []
          },
          "execution_count": 319
        }
      ]
    },
    {
      "cell_type": "code",
      "metadata": {
        "id": "oMbncJ1FqCX_",
        "colab_type": "code",
        "colab": {}
      },
      "source": [
        "# Date conversion\n",
        "df_weather_zip[\"DATE\"] =  pd.to_datetime(df_weather_zip[\"DATE\"])"
      ],
      "execution_count": 0,
      "outputs": []
    },
    {
      "cell_type": "code",
      "metadata": {
        "id": "pQj9axWGppWH",
        "colab_type": "code",
        "colab": {}
      },
      "source": [
        "df = df.merge(df_weather_zip, left_on = \"Inspection Date\", right_on = \"DATE\")"
      ],
      "execution_count": 0,
      "outputs": []
    },
    {
      "cell_type": "code",
      "metadata": {
        "id": "l-ONx6_sqKM6",
        "colab_type": "code",
        "colab": {}
      },
      "source": [
        "df.to_csv(\"augmented_food_inspections.csv\")"
      ],
      "execution_count": 0,
      "outputs": []
    }
  ]
}