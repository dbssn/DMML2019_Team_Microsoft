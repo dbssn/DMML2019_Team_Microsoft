{
  "nbformat": 4,
  "nbformat_minor": 0,
  "metadata": {
    "colab": {
      "name": "temperature_extraction.ipynb",
      "provenance": [],
      "collapsed_sections": []
    },
    "kernelspec": {
      "name": "python3",
      "display_name": "Python 3"
    }
  },
  "cells": [
    {
      "cell_type": "code",
      "metadata": {
        "id": "s2M2VIbNLUwq",
        "colab_type": "code",
        "colab": {}
      },
      "source": [
        "import pandas as pd"
      ],
      "execution_count": 0,
      "outputs": []
    },
    {
      "cell_type": "code",
      "metadata": {
        "id": "2ilVBmLhLeV3",
        "colab_type": "code",
        "colab": {}
      },
      "source": [
        "# Load data\n",
        "df_weather = pd.read_csv(\"https://drive.switch.ch/index.php/s/ui6Zr1v2vzPlieH/download\")"
      ],
      "execution_count": 0,
      "outputs": []
    },
    {
      "cell_type": "code",
      "metadata": {
        "id": "pOJJ8Z71LqWq",
        "colab_type": "code",
        "colab": {
          "base_uri": "https://localhost:8080/",
          "height": 363
        },
        "outputId": "feb1a021-d1ec-4861-f833-396dea843ba3"
      },
      "source": [
        "df_weather.head(10)"
      ],
      "execution_count": 18,
      "outputs": [
        {
          "output_type": "execute_result",
          "data": {
            "text/html": [
              "<div>\n",
              "<style scoped>\n",
              "    .dataframe tbody tr th:only-of-type {\n",
              "        vertical-align: middle;\n",
              "    }\n",
              "\n",
              "    .dataframe tbody tr th {\n",
              "        vertical-align: top;\n",
              "    }\n",
              "\n",
              "    .dataframe thead th {\n",
              "        text-align: right;\n",
              "    }\n",
              "</style>\n",
              "<table border=\"1\" class=\"dataframe\">\n",
              "  <thead>\n",
              "    <tr style=\"text-align: right;\">\n",
              "      <th></th>\n",
              "      <th>STATION</th>\n",
              "      <th>NAME</th>\n",
              "      <th>DATE</th>\n",
              "      <th>TMAX</th>\n",
              "    </tr>\n",
              "  </thead>\n",
              "  <tbody>\n",
              "    <tr>\n",
              "      <th>0</th>\n",
              "      <td>USW00014819</td>\n",
              "      <td>CHICAGO MIDWAY AIRPORT, IL US</td>\n",
              "      <td>2009-12-15</td>\n",
              "      <td>-2.1</td>\n",
              "    </tr>\n",
              "    <tr>\n",
              "      <th>1</th>\n",
              "      <td>USW00014819</td>\n",
              "      <td>CHICAGO MIDWAY AIRPORT, IL US</td>\n",
              "      <td>2009-12-16</td>\n",
              "      <td>-4.9</td>\n",
              "    </tr>\n",
              "    <tr>\n",
              "      <th>2</th>\n",
              "      <td>USW00014819</td>\n",
              "      <td>CHICAGO MIDWAY AIRPORT, IL US</td>\n",
              "      <td>2009-12-17</td>\n",
              "      <td>2.8</td>\n",
              "    </tr>\n",
              "    <tr>\n",
              "      <th>3</th>\n",
              "      <td>USW00014819</td>\n",
              "      <td>CHICAGO MIDWAY AIRPORT, IL US</td>\n",
              "      <td>2009-12-18</td>\n",
              "      <td>3.3</td>\n",
              "    </tr>\n",
              "    <tr>\n",
              "      <th>4</th>\n",
              "      <td>USW00014819</td>\n",
              "      <td>CHICAGO MIDWAY AIRPORT, IL US</td>\n",
              "      <td>2009-12-19</td>\n",
              "      <td>1.1</td>\n",
              "    </tr>\n",
              "    <tr>\n",
              "      <th>5</th>\n",
              "      <td>USW00014819</td>\n",
              "      <td>CHICAGO MIDWAY AIRPORT, IL US</td>\n",
              "      <td>2009-12-20</td>\n",
              "      <td>-0.5</td>\n",
              "    </tr>\n",
              "    <tr>\n",
              "      <th>6</th>\n",
              "      <td>USW00014819</td>\n",
              "      <td>CHICAGO MIDWAY AIRPORT, IL US</td>\n",
              "      <td>2009-12-21</td>\n",
              "      <td>-1.0</td>\n",
              "    </tr>\n",
              "    <tr>\n",
              "      <th>7</th>\n",
              "      <td>USW00014819</td>\n",
              "      <td>CHICAGO MIDWAY AIRPORT, IL US</td>\n",
              "      <td>2009-12-22</td>\n",
              "      <td>0.0</td>\n",
              "    </tr>\n",
              "    <tr>\n",
              "      <th>8</th>\n",
              "      <td>USW00014819</td>\n",
              "      <td>CHICAGO MIDWAY AIRPORT, IL US</td>\n",
              "      <td>2009-12-23</td>\n",
              "      <td>0.0</td>\n",
              "    </tr>\n",
              "    <tr>\n",
              "      <th>9</th>\n",
              "      <td>USW00014819</td>\n",
              "      <td>CHICAGO MIDWAY AIRPORT, IL US</td>\n",
              "      <td>2009-12-24</td>\n",
              "      <td>2.2</td>\n",
              "    </tr>\n",
              "  </tbody>\n",
              "</table>\n",
              "</div>"
            ],
            "text/plain": [
              "       STATION                           NAME        DATE  TMAX\n",
              "0  USW00014819  CHICAGO MIDWAY AIRPORT, IL US  2009-12-15  -2.1\n",
              "1  USW00014819  CHICAGO MIDWAY AIRPORT, IL US  2009-12-16  -4.9\n",
              "2  USW00014819  CHICAGO MIDWAY AIRPORT, IL US  2009-12-17   2.8\n",
              "3  USW00014819  CHICAGO MIDWAY AIRPORT, IL US  2009-12-18   3.3\n",
              "4  USW00014819  CHICAGO MIDWAY AIRPORT, IL US  2009-12-19   1.1\n",
              "5  USW00014819  CHICAGO MIDWAY AIRPORT, IL US  2009-12-20  -0.5\n",
              "6  USW00014819  CHICAGO MIDWAY AIRPORT, IL US  2009-12-21  -1.0\n",
              "7  USW00014819  CHICAGO MIDWAY AIRPORT, IL US  2009-12-22   0.0\n",
              "8  USW00014819  CHICAGO MIDWAY AIRPORT, IL US  2009-12-23   0.0\n",
              "9  USW00014819  CHICAGO MIDWAY AIRPORT, IL US  2009-12-24   2.2"
            ]
          },
          "metadata": {
            "tags": []
          },
          "execution_count": 18
        }
      ]
    },
    {
      "cell_type": "code",
      "metadata": {
        "id": "X6-zwvsDMbg3",
        "colab_type": "code",
        "colab": {
          "base_uri": "https://localhost:8080/",
          "height": 109
        },
        "outputId": "ff7eae95-ea4c-43fe-b2cd-b59dcb846ff6"
      },
      "source": [
        "df_weather.dtypes"
      ],
      "execution_count": 19,
      "outputs": [
        {
          "output_type": "execute_result",
          "data": {
            "text/plain": [
              "STATION     object\n",
              "NAME        object\n",
              "DATE        object\n",
              "TMAX       float64\n",
              "dtype: object"
            ]
          },
          "metadata": {
            "tags": []
          },
          "execution_count": 19
        }
      ]
    },
    {
      "cell_type": "code",
      "metadata": {
        "id": "W674xKX9LujS",
        "colab_type": "code",
        "colab": {}
      },
      "source": [
        "# Column selection\n",
        "df_weather_zip = df_weather[[\"DATE\", \"TMAX\"]]"
      ],
      "execution_count": 0,
      "outputs": []
    },
    {
      "cell_type": "code",
      "metadata": {
        "id": "cY8zmCIxLiFl",
        "colab_type": "code",
        "colab": {}
      },
      "source": [
        "# Compute the mean maximum temparture over the last 3 days for each day.\n",
        "df_weather_zip[\"MeanMaxTemp3Days\"] = (1.0/3.0)*(df_weather_zip.TMAX.shift(1) + df_weather_zip.TMAX.shift(2) + df_weather_zip.TMAX.shift(3))"
      ],
      "execution_count": 0,
      "outputs": []
    },
    {
      "cell_type": "code",
      "metadata": {
        "id": "VZY1nr_mMX4j",
        "colab_type": "code",
        "colab": {
          "base_uri": "https://localhost:8080/",
          "height": 363
        },
        "outputId": "d2297b79-6acc-4ed5-9af5-0049bbf09288"
      },
      "source": [
        "# Example : 1/3 * ((-2.1) + (-4.9) + (2.8)) = -1.4\n",
        "# which corresponds to 1/3 * (TMAX(2009-12-15) + TMAX(2009-12-16) + TMAX(2009-12-17)) = MeanMaxTemp3Days(2009-12-18)\n",
        "df_weather_zip.head(10)"
      ],
      "execution_count": 27,
      "outputs": [
        {
          "output_type": "execute_result",
          "data": {
            "text/html": [
              "<div>\n",
              "<style scoped>\n",
              "    .dataframe tbody tr th:only-of-type {\n",
              "        vertical-align: middle;\n",
              "    }\n",
              "\n",
              "    .dataframe tbody tr th {\n",
              "        vertical-align: top;\n",
              "    }\n",
              "\n",
              "    .dataframe thead th {\n",
              "        text-align: right;\n",
              "    }\n",
              "</style>\n",
              "<table border=\"1\" class=\"dataframe\">\n",
              "  <thead>\n",
              "    <tr style=\"text-align: right;\">\n",
              "      <th></th>\n",
              "      <th>DATE</th>\n",
              "      <th>TMAX</th>\n",
              "      <th>MeanMaxTemp3Days</th>\n",
              "    </tr>\n",
              "  </thead>\n",
              "  <tbody>\n",
              "    <tr>\n",
              "      <th>0</th>\n",
              "      <td>2009-12-15</td>\n",
              "      <td>-2.1</td>\n",
              "      <td>NaN</td>\n",
              "    </tr>\n",
              "    <tr>\n",
              "      <th>1</th>\n",
              "      <td>2009-12-16</td>\n",
              "      <td>-4.9</td>\n",
              "      <td>NaN</td>\n",
              "    </tr>\n",
              "    <tr>\n",
              "      <th>2</th>\n",
              "      <td>2009-12-17</td>\n",
              "      <td>2.8</td>\n",
              "      <td>NaN</td>\n",
              "    </tr>\n",
              "    <tr>\n",
              "      <th>3</th>\n",
              "      <td>2009-12-18</td>\n",
              "      <td>3.3</td>\n",
              "      <td>-1.400000</td>\n",
              "    </tr>\n",
              "    <tr>\n",
              "      <th>4</th>\n",
              "      <td>2009-12-19</td>\n",
              "      <td>1.1</td>\n",
              "      <td>0.400000</td>\n",
              "    </tr>\n",
              "    <tr>\n",
              "      <th>5</th>\n",
              "      <td>2009-12-20</td>\n",
              "      <td>-0.5</td>\n",
              "      <td>2.400000</td>\n",
              "    </tr>\n",
              "    <tr>\n",
              "      <th>6</th>\n",
              "      <td>2009-12-21</td>\n",
              "      <td>-1.0</td>\n",
              "      <td>1.300000</td>\n",
              "    </tr>\n",
              "    <tr>\n",
              "      <th>7</th>\n",
              "      <td>2009-12-22</td>\n",
              "      <td>0.0</td>\n",
              "      <td>-0.133333</td>\n",
              "    </tr>\n",
              "    <tr>\n",
              "      <th>8</th>\n",
              "      <td>2009-12-23</td>\n",
              "      <td>0.0</td>\n",
              "      <td>-0.500000</td>\n",
              "    </tr>\n",
              "    <tr>\n",
              "      <th>9</th>\n",
              "      <td>2009-12-24</td>\n",
              "      <td>2.2</td>\n",
              "      <td>-0.333333</td>\n",
              "    </tr>\n",
              "  </tbody>\n",
              "</table>\n",
              "</div>"
            ],
            "text/plain": [
              "         DATE  TMAX  MeanMaxTemp3Days\n",
              "0  2009-12-15  -2.1               NaN\n",
              "1  2009-12-16  -4.9               NaN\n",
              "2  2009-12-17   2.8               NaN\n",
              "3  2009-12-18   3.3         -1.400000\n",
              "4  2009-12-19   1.1          0.400000\n",
              "5  2009-12-20  -0.5          2.400000\n",
              "6  2009-12-21  -1.0          1.300000\n",
              "7  2009-12-22   0.0         -0.133333\n",
              "8  2009-12-23   0.0         -0.500000\n",
              "9  2009-12-24   2.2         -0.333333"
            ]
          },
          "metadata": {
            "tags": []
          },
          "execution_count": 27
        }
      ]
    }
  ]
}