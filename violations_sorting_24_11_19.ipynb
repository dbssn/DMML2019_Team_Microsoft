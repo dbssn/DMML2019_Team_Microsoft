{
  "nbformat": 4,
  "nbformat_minor": 0,
  "metadata": {
    "colab": {
      "name": "violations-sorting-24-11-19.ipynb",
      "provenance": [],
      "collapsed_sections": []
    },
    "kernelspec": {
      "name": "python3",
      "display_name": "Python 3"
    }
  },
  "cells": [
    {
      "cell_type": "markdown",
      "metadata": {
        "id": "51Cc_LrSCwKH",
        "colab_type": "text"
      },
      "source": [
        "THIS PIECE OF CODE ONLY WORKS FOR INSPECTIONS BEFORE July 1, 2018 AS WE HAVE NO INFORMATION REGARDING THE VIOLATIONS CLASSIFICATION AFTER THE LEGAL CHANGES. WE CONTACTED THE DATA SET OWNER TO GET MORE INFORMATION."
      ]
    },
    {
      "cell_type": "code",
      "metadata": {
        "id": "BX7hN79dlMDM",
        "colab_type": "code",
        "colab": {}
      },
      "source": [
        "import pandas as pd\n",
        "import re\n",
        "\n",
        "def cleanList(inputList) :\n",
        "  newList = []\n",
        "  for elem in inputList :\n",
        "    newElem = int(elem.strip(\". \"))\n",
        "    if newElem not in newList :\n",
        "      newList.append(newElem)\n",
        "\n",
        "  return newList\n",
        "\n",
        "df = pd.read_csv(\"https://drive.switch.ch/index.php/s/nlURni4cnxItrbn/download\")\n",
        "\n",
        "violations = df[\"Violations\"]\n",
        "\n",
        "listOfViolations = []\n",
        "\n",
        "for elem in violations :\n",
        "  try :\n",
        "    res = re.findall(\"[^\\d]\\d{0,1}\\d\\.\\s\", (\" \" + elem))\n",
        "    newRes = cleanList(res)\n",
        "    listOfViolations.append(newRes)\n",
        "  except :\n",
        "    listOfViolations.append(\"NA\")"
      ],
      "execution_count": 0,
      "outputs": []
    },
    {
      "cell_type": "code",
      "metadata": {
        "id": "oxIq49BEvYl_",
        "colab_type": "code",
        "colab": {}
      },
      "source": [
        "criticalCount = []\n",
        "seriousCount = []\n",
        "minorCount = []\n",
        "\n",
        "for rows in listOfViolations :\n",
        "    try :\n",
        "      cCount = 0\n",
        "      sCount = 0\n",
        "      mCount = 0\n",
        "      for elem in rows :\n",
        "        if elem in range(1, 15) :\n",
        "          cCount += 1\n",
        "        elif elem in range(15, 30) :\n",
        "          sCount +=1\n",
        "        elif (elem in range(30, 45)) or (elem == 70) :\n",
        "          mCount += 1\n",
        "      criticalCount.append(cCount)\n",
        "      seriousCount.append(sCount)\n",
        "      minorCount.append(mCount)\n",
        "    except :\n",
        "      criticalCount.append(0)\n",
        "      seriousCount.append(0)\n",
        "      minorCount.append(0)"
      ],
      "execution_count": 0,
      "outputs": []
    },
    {
      "cell_type": "code",
      "metadata": {
        "id": "fwHHSHpGKyMR",
        "colab_type": "code",
        "colab": {
          "base_uri": "https://localhost:8080/",
          "height": 74
        },
        "outputId": "3e442072-7cc1-46f8-eeaf-36d23b15e1e6"
      },
      "source": [
        "viol = [(\"List of violations\", listOfViolations), (\"Critical violations count\", criticalCount), (\"Serious violations count\", seriousCount), (\"Minor violations count\", minorCount)]\n",
        "df_viol = pd.DataFrame.from_items(viol)"
      ],
      "execution_count": 76,
      "outputs": [
        {
          "output_type": "stream",
          "text": [
            "/usr/local/lib/python3.6/dist-packages/ipykernel_launcher.py:2: FutureWarning: from_items is deprecated. Please use DataFrame.from_dict(dict(items), ...) instead. DataFrame.from_dict(OrderedDict(items)) may be used to preserve the key order.\n",
            "  \n"
          ],
          "name": "stderr"
        }
      ]
    },
    {
      "cell_type": "code",
      "metadata": {
        "id": "Roa0i_XLLnOX",
        "colab_type": "code",
        "colab": {
          "base_uri": "https://localhost:8080/",
          "height": 363
        },
        "outputId": "f19380ab-3f12-4a45-830b-aef900c9d72f"
      },
      "source": [
        "df_viol.head(10)"
      ],
      "execution_count": 77,
      "outputs": [
        {
          "output_type": "execute_result",
          "data": {
            "text/html": [
              "<div>\n",
              "<style scoped>\n",
              "    .dataframe tbody tr th:only-of-type {\n",
              "        vertical-align: middle;\n",
              "    }\n",
              "\n",
              "    .dataframe tbody tr th {\n",
              "        vertical-align: top;\n",
              "    }\n",
              "\n",
              "    .dataframe thead th {\n",
              "        text-align: right;\n",
              "    }\n",
              "</style>\n",
              "<table border=\"1\" class=\"dataframe\">\n",
              "  <thead>\n",
              "    <tr style=\"text-align: right;\">\n",
              "      <th></th>\n",
              "      <th>List of violations</th>\n",
              "      <th>Critical violations count</th>\n",
              "      <th>Serious violations count</th>\n",
              "      <th>Minor violations count</th>\n",
              "    </tr>\n",
              "  </thead>\n",
              "  <tbody>\n",
              "    <tr>\n",
              "      <th>0</th>\n",
              "      <td>[1, 2, 3, 5, 9, 36, 37, 38, 41, 47, 51, 53, 55...</td>\n",
              "      <td>5</td>\n",
              "      <td>0</td>\n",
              "      <td>4</td>\n",
              "    </tr>\n",
              "    <tr>\n",
              "      <th>1</th>\n",
              "      <td>NA</td>\n",
              "      <td>0</td>\n",
              "      <td>0</td>\n",
              "      <td>0</td>\n",
              "    </tr>\n",
              "    <tr>\n",
              "      <th>2</th>\n",
              "      <td>[1, 2, 3, 5, 10, 23, 36, 37, 38, 45, 47, 48, 5...</td>\n",
              "      <td>5</td>\n",
              "      <td>1</td>\n",
              "      <td>3</td>\n",
              "    </tr>\n",
              "    <tr>\n",
              "      <th>3</th>\n",
              "      <td>NA</td>\n",
              "      <td>0</td>\n",
              "      <td>0</td>\n",
              "      <td>0</td>\n",
              "    </tr>\n",
              "    <tr>\n",
              "      <th>4</th>\n",
              "      <td>NA</td>\n",
              "      <td>0</td>\n",
              "      <td>0</td>\n",
              "      <td>0</td>\n",
              "    </tr>\n",
              "    <tr>\n",
              "      <th>5</th>\n",
              "      <td>NA</td>\n",
              "      <td>0</td>\n",
              "      <td>0</td>\n",
              "      <td>0</td>\n",
              "    </tr>\n",
              "    <tr>\n",
              "      <th>6</th>\n",
              "      <td>NA</td>\n",
              "      <td>0</td>\n",
              "      <td>0</td>\n",
              "      <td>0</td>\n",
              "    </tr>\n",
              "    <tr>\n",
              "      <th>7</th>\n",
              "      <td>NA</td>\n",
              "      <td>0</td>\n",
              "      <td>0</td>\n",
              "      <td>0</td>\n",
              "    </tr>\n",
              "    <tr>\n",
              "      <th>8</th>\n",
              "      <td>NA</td>\n",
              "      <td>0</td>\n",
              "      <td>0</td>\n",
              "      <td>0</td>\n",
              "    </tr>\n",
              "    <tr>\n",
              "      <th>9</th>\n",
              "      <td>NA</td>\n",
              "      <td>0</td>\n",
              "      <td>0</td>\n",
              "      <td>0</td>\n",
              "    </tr>\n",
              "  </tbody>\n",
              "</table>\n",
              "</div>"
            ],
            "text/plain": [
              "                                  List of violations  ...  Minor violations count\n",
              "0  [1, 2, 3, 5, 9, 36, 37, 38, 41, 47, 51, 53, 55...  ...                       4\n",
              "1                                                 NA  ...                       0\n",
              "2  [1, 2, 3, 5, 10, 23, 36, 37, 38, 45, 47, 48, 5...  ...                       3\n",
              "3                                                 NA  ...                       0\n",
              "4                                                 NA  ...                       0\n",
              "5                                                 NA  ...                       0\n",
              "6                                                 NA  ...                       0\n",
              "7                                                 NA  ...                       0\n",
              "8                                                 NA  ...                       0\n",
              "9                                                 NA  ...                       0\n",
              "\n",
              "[10 rows x 4 columns]"
            ]
          },
          "metadata": {
            "tags": []
          },
          "execution_count": 77
        }
      ]
    }
  ]
}