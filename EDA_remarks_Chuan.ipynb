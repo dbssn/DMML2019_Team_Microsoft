{
  "nbformat": 4,
  "nbformat_minor": 0,
  "metadata": {
    "colab": {
      "name": "EDA.remarks / Chuan",
      "provenance": [],
      "include_colab_link": true
    },
    "kernelspec": {
      "name": "python3",
      "display_name": "Python 3"
    }
  },
  "cells": [
    {
      "cell_type": "markdown",
      "metadata": {
        "id": "view-in-github",
        "colab_type": "text"
      },
      "source": [
        "<a href=\"https://colab.research.google.com/github/dbssn/DMML2019_Team_Microsoft/blob/master/EDA_remarks_Chuan.ipynb\" target=\"_parent\"><img src=\"https://colab.research.google.com/assets/colab-badge.svg\" alt=\"Open In Colab\"/></a>"
      ]
    },
    {
      "cell_type": "code",
      "metadata": {
        "colab_type": "code",
        "id": "2ZPhc9kXsGYc",
        "colab": {}
      },
      "source": [
        "#1. Plus the EDA for Inspection Type\n",
        "df_binary[\"Inspection Type\"].value_counts()\n",
        "\n",
        "#2. Zip is for mapping other dataset\n",
        "\n",
        "#   Inspection date → Using years as new varialbe \n",
        "\n",
        "#3. After combining with other data, we can directly delete the unit whose Facility Type is still NA\n",
        "\n",
        "#4. combining the small classes for the columns which have a lot of classes\n",
        "\n",
        "#5. some corrlation score for categorical data we can do in EDA\n",
        "\n",
        "from sklearn.metrics import matthews_corrcoef\n",
        "matthews_corrcoef(x,y) #x and y are a single column in this function\n",
        "#https://scikit-learn.org/stable/modules/generated/sklearn.feature_selection.chi2.html#sklearn.feature_selection.chi2\n",
        "\n",
        "from sklearn.feature_selection import chi2\n",
        "chi2(x,y) #x is mutiple columns so we can see the chi square test for mutiple columns at the same time\n",
        "#https://scikit-learn.org/stable/modules/generated/sklearn.feature_selection.chi2.html#sklearn.feature_selection.chi2\n"
      ],
      "execution_count": 0,
      "outputs": []
    }
  ]
}